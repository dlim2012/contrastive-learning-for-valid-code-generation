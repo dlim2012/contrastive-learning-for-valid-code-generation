{
 "cells": [
  {
   "cell_type": "code",
   "execution_count": 1,
   "id": "2b9aa056",
   "metadata": {
    "execution": {
     "iopub.execute_input": "2023-05-02T01:35:15.969859Z",
     "iopub.status.busy": "2023-05-02T01:35:15.969389Z",
     "iopub.status.idle": "2023-05-02T01:35:18.790243Z",
     "shell.execute_reply": "2023-05-02T01:35:18.789578Z"
    }
   },
   "outputs": [
    {
     "name": "stdout",
     "output_type": "stream",
     "text": [
      "cuda\n"
     ]
    }
   ],
   "source": [
    "import argparse\n",
    "import torch\n",
    "from transformers import AutoTokenizer, AutoModel\n",
    "from datasets import load_dataset_builder, load_dataset, load_from_disk\n",
    "from torch.utils.data import Dataset, DataLoader\n",
    "import os\n",
    "import json\n",
    "from tensorboardX import SummaryWriter\n",
    "from tqdm.notebook import tqdm\n",
    "import random\n",
    "import numpy as np\n",
    "from sklearn import metrics\n",
    "import matplotlib.pyplot as plt\n",
    "from collections import defaultdict, Counter\n",
    "import time\n",
    "import difflib\n",
    "\n",
    "\n",
    "from finetune import CloneDetector\n",
    "\n",
    "device = 'cuda' if torch.cuda.is_available() else 'cpu'\n",
    "print(device)"
   ]
  },
  {
   "cell_type": "markdown",
   "id": "a2d5f476",
   "metadata": {},
   "source": [
    "# Functions"
   ]
  },
  {
   "cell_type": "code",
   "execution_count": 2,
   "id": "7d16985c",
   "metadata": {
    "execution": {
     "iopub.execute_input": "2023-05-02T01:35:18.796035Z",
     "iopub.status.busy": "2023-05-02T01:35:18.795707Z",
     "iopub.status.idle": "2023-05-02T01:35:18.807480Z",
     "shell.execute_reply": "2023-05-02T01:35:18.806183Z"
    }
   },
   "outputs": [],
   "source": [
    "def find_threshold(scores, labels, metric='f1'):\n",
    "    # metric: 'acc' or 'f1'\n",
    "\n",
    "    for label in labels:\n",
    "        assert abs(label - 1) < 1e-10 or abs(label) < 1e-10\n",
    "    assert metric in ['acc', 'f1']\n",
    "\n",
    "    arr = sorted(list(zip(scores, labels)), key=lambda x: x[0])\n",
    "\n",
    "    pre = 0.0\n",
    "    post = sum(labels)\n",
    "\n",
    "    max_eval, best_threshold = 0.0, arr[0][0]\n",
    "    for i in range(len(arr) - 1):\n",
    "        pre += arr[i][1]\n",
    "        post -= arr[i][1]\n",
    "\n",
    "        tp = post\n",
    "        fp = len(arr) - i - post\n",
    "        fn = pre\n",
    "        tn = (i-pre)\n",
    "\n",
    "        acc = (tp + tn) / len(arr)\n",
    "        precision = tp / (tp + fp)\n",
    "        recall = tp / (tp + fn)\n",
    "        f1 = 2 * precision * recall / (precision + recall)\n",
    "\n",
    "        eval = {'acc': acc, 'f1': f1}\n",
    "\n",
    "        if max_eval < eval[metric]:\n",
    "            max_eval = acc\n",
    "            best_threshold = (arr[i][0] + arr[i][1]) / 2\n",
    "    return best_threshold\n",
    "\n",
    "def accuracy(scores, labels, threshold):\n",
    "    return np.mean(((scores > threshold).astype(np.int32) == labels).astype(np.float32)).tolist()\n",
    "\n",
    "\n",
    "def f1_score(scores, labels, threshold):\n",
    "    return metrics.f1_score((scores > threshold), labels)\n",
    "\n",
    "def sumCounter(counter):\n",
    "    return sum(counter.values())\n",
    "\n",
    "    \n",
    "class AugmentedDataset(Dataset):\n",
    "    def __init__(self, inputs):\n",
    "        self.data = inputs\n",
    "\n",
    "    def __len__(self):\n",
    "        return len(self.data)\n",
    "\n",
    "    def __getitem__(self, idx):\n",
    "        return self.data[idx]\n",
    "    \n"
   ]
  },
  {
   "cell_type": "markdown",
   "id": "0475cd8e",
   "metadata": {},
   "source": [
    "# Load Model"
   ]
  },
  {
   "cell_type": "code",
   "execution_count": 3,
   "id": "8438cb26",
   "metadata": {
    "execution": {
     "iopub.execute_input": "2023-05-02T01:35:18.811882Z",
     "iopub.status.busy": "2023-05-02T01:35:18.811410Z",
     "iopub.status.idle": "2023-05-02T01:35:21.572417Z",
     "shell.execute_reply": "2023-05-02T01:35:21.571915Z"
    }
   },
   "outputs": [
    {
     "name": "stdout",
     "output_type": "stream",
     "text": [
      "CPU times: user 1.67 s, sys: 972 ms, total: 2.64 s\n",
      "Wall time: 2.75 s\n"
     ]
    },
    {
     "data": {
      "text/plain": [
       "CloneDetector(\n",
       "  (model): RobertaModel(\n",
       "    (embeddings): RobertaEmbeddings(\n",
       "      (word_embeddings): Embedding(50265, 768, padding_idx=1)\n",
       "      (position_embeddings): Embedding(514, 768, padding_idx=1)\n",
       "      (token_type_embeddings): Embedding(1, 768)\n",
       "      (LayerNorm): LayerNorm((768,), eps=1e-05, elementwise_affine=True)\n",
       "      (dropout): Dropout(p=0.1, inplace=False)\n",
       "    )\n",
       "    (encoder): RobertaEncoder(\n",
       "      (layer): ModuleList(\n",
       "        (0): RobertaLayer(\n",
       "          (attention): RobertaAttention(\n",
       "            (self): RobertaSelfAttention(\n",
       "              (query): Linear(in_features=768, out_features=768, bias=True)\n",
       "              (key): Linear(in_features=768, out_features=768, bias=True)\n",
       "              (value): Linear(in_features=768, out_features=768, bias=True)\n",
       "              (dropout): Dropout(p=0.1, inplace=False)\n",
       "            )\n",
       "            (output): RobertaSelfOutput(\n",
       "              (dense): Linear(in_features=768, out_features=768, bias=True)\n",
       "              (LayerNorm): LayerNorm((768,), eps=1e-05, elementwise_affine=True)\n",
       "              (dropout): Dropout(p=0.1, inplace=False)\n",
       "            )\n",
       "          )\n",
       "          (intermediate): RobertaIntermediate(\n",
       "            (dense): Linear(in_features=768, out_features=3072, bias=True)\n",
       "            (intermediate_act_fn): GELUActivation()\n",
       "          )\n",
       "          (output): RobertaOutput(\n",
       "            (dense): Linear(in_features=3072, out_features=768, bias=True)\n",
       "            (LayerNorm): LayerNorm((768,), eps=1e-05, elementwise_affine=True)\n",
       "            (dropout): Dropout(p=0.1, inplace=False)\n",
       "          )\n",
       "        )\n",
       "        (1): RobertaLayer(\n",
       "          (attention): RobertaAttention(\n",
       "            (self): RobertaSelfAttention(\n",
       "              (query): Linear(in_features=768, out_features=768, bias=True)\n",
       "              (key): Linear(in_features=768, out_features=768, bias=True)\n",
       "              (value): Linear(in_features=768, out_features=768, bias=True)\n",
       "              (dropout): Dropout(p=0.1, inplace=False)\n",
       "            )\n",
       "            (output): RobertaSelfOutput(\n",
       "              (dense): Linear(in_features=768, out_features=768, bias=True)\n",
       "              (LayerNorm): LayerNorm((768,), eps=1e-05, elementwise_affine=True)\n",
       "              (dropout): Dropout(p=0.1, inplace=False)\n",
       "            )\n",
       "          )\n",
       "          (intermediate): RobertaIntermediate(\n",
       "            (dense): Linear(in_features=768, out_features=3072, bias=True)\n",
       "            (intermediate_act_fn): GELUActivation()\n",
       "          )\n",
       "          (output): RobertaOutput(\n",
       "            (dense): Linear(in_features=3072, out_features=768, bias=True)\n",
       "            (LayerNorm): LayerNorm((768,), eps=1e-05, elementwise_affine=True)\n",
       "            (dropout): Dropout(p=0.1, inplace=False)\n",
       "          )\n",
       "        )\n",
       "        (2): RobertaLayer(\n",
       "          (attention): RobertaAttention(\n",
       "            (self): RobertaSelfAttention(\n",
       "              (query): Linear(in_features=768, out_features=768, bias=True)\n",
       "              (key): Linear(in_features=768, out_features=768, bias=True)\n",
       "              (value): Linear(in_features=768, out_features=768, bias=True)\n",
       "              (dropout): Dropout(p=0.1, inplace=False)\n",
       "            )\n",
       "            (output): RobertaSelfOutput(\n",
       "              (dense): Linear(in_features=768, out_features=768, bias=True)\n",
       "              (LayerNorm): LayerNorm((768,), eps=1e-05, elementwise_affine=True)\n",
       "              (dropout): Dropout(p=0.1, inplace=False)\n",
       "            )\n",
       "          )\n",
       "          (intermediate): RobertaIntermediate(\n",
       "            (dense): Linear(in_features=768, out_features=3072, bias=True)\n",
       "            (intermediate_act_fn): GELUActivation()\n",
       "          )\n",
       "          (output): RobertaOutput(\n",
       "            (dense): Linear(in_features=3072, out_features=768, bias=True)\n",
       "            (LayerNorm): LayerNorm((768,), eps=1e-05, elementwise_affine=True)\n",
       "            (dropout): Dropout(p=0.1, inplace=False)\n",
       "          )\n",
       "        )\n",
       "        (3): RobertaLayer(\n",
       "          (attention): RobertaAttention(\n",
       "            (self): RobertaSelfAttention(\n",
       "              (query): Linear(in_features=768, out_features=768, bias=True)\n",
       "              (key): Linear(in_features=768, out_features=768, bias=True)\n",
       "              (value): Linear(in_features=768, out_features=768, bias=True)\n",
       "              (dropout): Dropout(p=0.1, inplace=False)\n",
       "            )\n",
       "            (output): RobertaSelfOutput(\n",
       "              (dense): Linear(in_features=768, out_features=768, bias=True)\n",
       "              (LayerNorm): LayerNorm((768,), eps=1e-05, elementwise_affine=True)\n",
       "              (dropout): Dropout(p=0.1, inplace=False)\n",
       "            )\n",
       "          )\n",
       "          (intermediate): RobertaIntermediate(\n",
       "            (dense): Linear(in_features=768, out_features=3072, bias=True)\n",
       "            (intermediate_act_fn): GELUActivation()\n",
       "          )\n",
       "          (output): RobertaOutput(\n",
       "            (dense): Linear(in_features=3072, out_features=768, bias=True)\n",
       "            (LayerNorm): LayerNorm((768,), eps=1e-05, elementwise_affine=True)\n",
       "            (dropout): Dropout(p=0.1, inplace=False)\n",
       "          )\n",
       "        )\n",
       "        (4): RobertaLayer(\n",
       "          (attention): RobertaAttention(\n",
       "            (self): RobertaSelfAttention(\n",
       "              (query): Linear(in_features=768, out_features=768, bias=True)\n",
       "              (key): Linear(in_features=768, out_features=768, bias=True)\n",
       "              (value): Linear(in_features=768, out_features=768, bias=True)\n",
       "              (dropout): Dropout(p=0.1, inplace=False)\n",
       "            )\n",
       "            (output): RobertaSelfOutput(\n",
       "              (dense): Linear(in_features=768, out_features=768, bias=True)\n",
       "              (LayerNorm): LayerNorm((768,), eps=1e-05, elementwise_affine=True)\n",
       "              (dropout): Dropout(p=0.1, inplace=False)\n",
       "            )\n",
       "          )\n",
       "          (intermediate): RobertaIntermediate(\n",
       "            (dense): Linear(in_features=768, out_features=3072, bias=True)\n",
       "            (intermediate_act_fn): GELUActivation()\n",
       "          )\n",
       "          (output): RobertaOutput(\n",
       "            (dense): Linear(in_features=3072, out_features=768, bias=True)\n",
       "            (LayerNorm): LayerNorm((768,), eps=1e-05, elementwise_affine=True)\n",
       "            (dropout): Dropout(p=0.1, inplace=False)\n",
       "          )\n",
       "        )\n",
       "        (5): RobertaLayer(\n",
       "          (attention): RobertaAttention(\n",
       "            (self): RobertaSelfAttention(\n",
       "              (query): Linear(in_features=768, out_features=768, bias=True)\n",
       "              (key): Linear(in_features=768, out_features=768, bias=True)\n",
       "              (value): Linear(in_features=768, out_features=768, bias=True)\n",
       "              (dropout): Dropout(p=0.1, inplace=False)\n",
       "            )\n",
       "            (output): RobertaSelfOutput(\n",
       "              (dense): Linear(in_features=768, out_features=768, bias=True)\n",
       "              (LayerNorm): LayerNorm((768,), eps=1e-05, elementwise_affine=True)\n",
       "              (dropout): Dropout(p=0.1, inplace=False)\n",
       "            )\n",
       "          )\n",
       "          (intermediate): RobertaIntermediate(\n",
       "            (dense): Linear(in_features=768, out_features=3072, bias=True)\n",
       "            (intermediate_act_fn): GELUActivation()\n",
       "          )\n",
       "          (output): RobertaOutput(\n",
       "            (dense): Linear(in_features=3072, out_features=768, bias=True)\n",
       "            (LayerNorm): LayerNorm((768,), eps=1e-05, elementwise_affine=True)\n",
       "            (dropout): Dropout(p=0.1, inplace=False)\n",
       "          )\n",
       "        )\n",
       "        (6): RobertaLayer(\n",
       "          (attention): RobertaAttention(\n",
       "            (self): RobertaSelfAttention(\n",
       "              (query): Linear(in_features=768, out_features=768, bias=True)\n",
       "              (key): Linear(in_features=768, out_features=768, bias=True)\n",
       "              (value): Linear(in_features=768, out_features=768, bias=True)\n",
       "              (dropout): Dropout(p=0.1, inplace=False)\n",
       "            )\n",
       "            (output): RobertaSelfOutput(\n",
       "              (dense): Linear(in_features=768, out_features=768, bias=True)\n",
       "              (LayerNorm): LayerNorm((768,), eps=1e-05, elementwise_affine=True)\n",
       "              (dropout): Dropout(p=0.1, inplace=False)\n",
       "            )\n",
       "          )\n",
       "          (intermediate): RobertaIntermediate(\n",
       "            (dense): Linear(in_features=768, out_features=3072, bias=True)\n",
       "            (intermediate_act_fn): GELUActivation()\n",
       "          )\n",
       "          (output): RobertaOutput(\n",
       "            (dense): Linear(in_features=3072, out_features=768, bias=True)\n",
       "            (LayerNorm): LayerNorm((768,), eps=1e-05, elementwise_affine=True)\n",
       "            (dropout): Dropout(p=0.1, inplace=False)\n",
       "          )\n",
       "        )\n",
       "        (7): RobertaLayer(\n",
       "          (attention): RobertaAttention(\n",
       "            (self): RobertaSelfAttention(\n",
       "              (query): Linear(in_features=768, out_features=768, bias=True)\n",
       "              (key): Linear(in_features=768, out_features=768, bias=True)\n",
       "              (value): Linear(in_features=768, out_features=768, bias=True)\n",
       "              (dropout): Dropout(p=0.1, inplace=False)\n",
       "            )\n",
       "            (output): RobertaSelfOutput(\n",
       "              (dense): Linear(in_features=768, out_features=768, bias=True)\n",
       "              (LayerNorm): LayerNorm((768,), eps=1e-05, elementwise_affine=True)\n",
       "              (dropout): Dropout(p=0.1, inplace=False)\n",
       "            )\n",
       "          )\n",
       "          (intermediate): RobertaIntermediate(\n",
       "            (dense): Linear(in_features=768, out_features=3072, bias=True)\n",
       "            (intermediate_act_fn): GELUActivation()\n",
       "          )\n",
       "          (output): RobertaOutput(\n",
       "            (dense): Linear(in_features=3072, out_features=768, bias=True)\n",
       "            (LayerNorm): LayerNorm((768,), eps=1e-05, elementwise_affine=True)\n",
       "            (dropout): Dropout(p=0.1, inplace=False)\n",
       "          )\n",
       "        )\n",
       "        (8): RobertaLayer(\n",
       "          (attention): RobertaAttention(\n",
       "            (self): RobertaSelfAttention(\n",
       "              (query): Linear(in_features=768, out_features=768, bias=True)\n",
       "              (key): Linear(in_features=768, out_features=768, bias=True)\n",
       "              (value): Linear(in_features=768, out_features=768, bias=True)\n",
       "              (dropout): Dropout(p=0.1, inplace=False)\n",
       "            )\n",
       "            (output): RobertaSelfOutput(\n",
       "              (dense): Linear(in_features=768, out_features=768, bias=True)\n",
       "              (LayerNorm): LayerNorm((768,), eps=1e-05, elementwise_affine=True)\n",
       "              (dropout): Dropout(p=0.1, inplace=False)\n",
       "            )\n",
       "          )\n",
       "          (intermediate): RobertaIntermediate(\n",
       "            (dense): Linear(in_features=768, out_features=3072, bias=True)\n",
       "            (intermediate_act_fn): GELUActivation()\n",
       "          )\n",
       "          (output): RobertaOutput(\n",
       "            (dense): Linear(in_features=3072, out_features=768, bias=True)\n",
       "            (LayerNorm): LayerNorm((768,), eps=1e-05, elementwise_affine=True)\n",
       "            (dropout): Dropout(p=0.1, inplace=False)\n",
       "          )\n",
       "        )\n",
       "        (9): RobertaLayer(\n",
       "          (attention): RobertaAttention(\n",
       "            (self): RobertaSelfAttention(\n",
       "              (query): Linear(in_features=768, out_features=768, bias=True)\n",
       "              (key): Linear(in_features=768, out_features=768, bias=True)\n",
       "              (value): Linear(in_features=768, out_features=768, bias=True)\n",
       "              (dropout): Dropout(p=0.1, inplace=False)\n",
       "            )\n",
       "            (output): RobertaSelfOutput(\n",
       "              (dense): Linear(in_features=768, out_features=768, bias=True)\n",
       "              (LayerNorm): LayerNorm((768,), eps=1e-05, elementwise_affine=True)\n",
       "              (dropout): Dropout(p=0.1, inplace=False)\n",
       "            )\n",
       "          )\n",
       "          (intermediate): RobertaIntermediate(\n",
       "            (dense): Linear(in_features=768, out_features=3072, bias=True)\n",
       "            (intermediate_act_fn): GELUActivation()\n",
       "          )\n",
       "          (output): RobertaOutput(\n",
       "            (dense): Linear(in_features=3072, out_features=768, bias=True)\n",
       "            (LayerNorm): LayerNorm((768,), eps=1e-05, elementwise_affine=True)\n",
       "            (dropout): Dropout(p=0.1, inplace=False)\n",
       "          )\n",
       "        )\n",
       "        (10): RobertaLayer(\n",
       "          (attention): RobertaAttention(\n",
       "            (self): RobertaSelfAttention(\n",
       "              (query): Linear(in_features=768, out_features=768, bias=True)\n",
       "              (key): Linear(in_features=768, out_features=768, bias=True)\n",
       "              (value): Linear(in_features=768, out_features=768, bias=True)\n",
       "              (dropout): Dropout(p=0.1, inplace=False)\n",
       "            )\n",
       "            (output): RobertaSelfOutput(\n",
       "              (dense): Linear(in_features=768, out_features=768, bias=True)\n",
       "              (LayerNorm): LayerNorm((768,), eps=1e-05, elementwise_affine=True)\n",
       "              (dropout): Dropout(p=0.1, inplace=False)\n",
       "            )\n",
       "          )\n",
       "          (intermediate): RobertaIntermediate(\n",
       "            (dense): Linear(in_features=768, out_features=3072, bias=True)\n",
       "            (intermediate_act_fn): GELUActivation()\n",
       "          )\n",
       "          (output): RobertaOutput(\n",
       "            (dense): Linear(in_features=3072, out_features=768, bias=True)\n",
       "            (LayerNorm): LayerNorm((768,), eps=1e-05, elementwise_affine=True)\n",
       "            (dropout): Dropout(p=0.1, inplace=False)\n",
       "          )\n",
       "        )\n",
       "        (11): RobertaLayer(\n",
       "          (attention): RobertaAttention(\n",
       "            (self): RobertaSelfAttention(\n",
       "              (query): Linear(in_features=768, out_features=768, bias=True)\n",
       "              (key): Linear(in_features=768, out_features=768, bias=True)\n",
       "              (value): Linear(in_features=768, out_features=768, bias=True)\n",
       "              (dropout): Dropout(p=0.1, inplace=False)\n",
       "            )\n",
       "            (output): RobertaSelfOutput(\n",
       "              (dense): Linear(in_features=768, out_features=768, bias=True)\n",
       "              (LayerNorm): LayerNorm((768,), eps=1e-05, elementwise_affine=True)\n",
       "              (dropout): Dropout(p=0.1, inplace=False)\n",
       "            )\n",
       "          )\n",
       "          (intermediate): RobertaIntermediate(\n",
       "            (dense): Linear(in_features=768, out_features=3072, bias=True)\n",
       "            (intermediate_act_fn): GELUActivation()\n",
       "          )\n",
       "          (output): RobertaOutput(\n",
       "            (dense): Linear(in_features=3072, out_features=768, bias=True)\n",
       "            (LayerNorm): LayerNorm((768,), eps=1e-05, elementwise_affine=True)\n",
       "            (dropout): Dropout(p=0.1, inplace=False)\n",
       "          )\n",
       "        )\n",
       "      )\n",
       "    )\n",
       "    (pooler): RobertaPooler(\n",
       "      (dense): Linear(in_features=768, out_features=768, bias=True)\n",
       "      (activation): Tanh()\n",
       "    )\n",
       "  )\n",
       "  (linear): Linear(in_features=768, out_features=768, bias=True)\n",
       "  (dropout): Dropout(p=0.1, inplace=False)\n",
       "  (sigmoid): Sigmoid()\n",
       "  (bce_loss): BCELoss()\n",
       ")"
      ]
     },
     "execution_count": 3,
     "metadata": {},
     "output_type": "execute_result"
    }
   ],
   "source": [
    "%%time\n",
    "\n",
    "\n",
    "model_name = \"microsoft/codebert-base\"\n",
    "tokenizer = AutoTokenizer.from_pretrained(model_name)\n",
    "batch_size = 8\n",
    "\n",
    "def tokenize(code):\n",
    "    return tokenizer(code, return_tensors=\"pt\", truncation=True, padding=\"longest\", max_length=512)\n",
    "\n",
    "def collate_fn(items):\n",
    "    x = {}\n",
    "\n",
    "    code1, code2, labels = [], [], []\n",
    "    for item in items:\n",
    "        code1.append(item['code1'])\n",
    "        code2.append(item['code2'])\n",
    "        labels.append(item['similar'])\n",
    "\n",
    "    x['code1'] = tokenize(code1)\n",
    "    x['code2'] = tokenize(code2)\n",
    "    x['labels'] = torch.tensor(labels, dtype=torch.float32)\n",
    "\n",
    "    return x\n",
    "\n",
    "ckpt_path = '/mnt/hdd/696ds/tasks/clone_detection/codebert/ckpt/0512_codebert-base_lr1.0e-06-w5000/step400000.pt'\n",
    "# model = CloneDetector(model_name, device)\n",
    "model = torch.load(ckpt_path).to(device)\n",
    "model.device = device\n",
    "model.train(False)"
   ]
  },
  {
   "cell_type": "markdown",
   "id": "0c48094e",
   "metadata": {},
   "source": [
    "# Find threshold using val data from a different fold (fold 5/5)"
   ]
  },
  {
   "cell_type": "code",
   "execution_count": 4,
   "id": "8cce09b1",
   "metadata": {
    "execution": {
     "iopub.execute_input": "2023-05-02T01:35:21.578346Z",
     "iopub.status.busy": "2023-05-02T01:35:21.578183Z",
     "iopub.status.idle": "2023-05-02T01:35:22.265466Z",
     "shell.execute_reply": "2023-05-02T01:35:22.264819Z"
    }
   },
   "outputs": [
    {
     "name": "stderr",
     "output_type": "stream",
     "text": [
      "Found cached dataset parquet (/home/dlim/.cache/huggingface/datasets/PoolC___parquet/snoop2head--1-fold-clone-detection-600k-5fold-57d7a53828ee0494/0.0.0/2a3b91fbd88a2c90d1dbbb32b460cf621d31bd5b05b934492fdef7d8d6f236ec)\n"
     ]
    },
    {
     "name": "stdout",
     "output_type": "stream",
     "text": [
      "CPU times: user 162 ms, sys: 22.4 ms, total: 185 ms\n",
      "Wall time: 1.31 s\n"
     ]
    }
   ],
   "source": [
    "%%time\n",
    "batch_size = 8\n",
    "n_th = 30000\n",
    "\n",
    "# dataset = load_from_disk(\"/mnt/ssd/696ds_data/PoolC/original/1-fold-clone-detection-600k-5fold\")[\"val\"]\n",
    "dataset = load_dataset(\"PoolC/1-fold-clone-detection-600k-5fold\", split=\"val\")\n",
    "dataloader = DataLoader(dataset, batch_size=batch_size, shuffle=True, collate_fn=collate_fn)"
   ]
  },
  {
   "cell_type": "code",
   "execution_count": 5,
   "id": "213e7159",
   "metadata": {
    "execution": {
     "iopub.execute_input": "2023-05-02T01:35:22.269710Z",
     "iopub.status.busy": "2023-05-02T01:35:22.269522Z",
     "iopub.status.idle": "2023-05-02T01:40:57.036402Z",
     "shell.execute_reply": "2023-05-02T01:40:57.035762Z"
    },
    "scrolled": true
   },
   "outputs": [
    {
     "data": {
      "application/vnd.jupyter.widget-view+json": {
       "model_id": "56fffe7495f849c39c41ff82dc766a81",
       "version_major": 2,
       "version_minor": 0
      },
      "text/plain": [
       "  0%|          | 0/3750 [00:00<?, ?it/s]"
      ]
     },
     "metadata": {},
     "output_type": "display_data"
    },
    {
     "name": "stdout",
     "output_type": "stream",
     "text": [
      "0.6679710149765015\n",
      "CPU times: user 6min 56s, sys: 25.5 s, total: 7min 21s\n",
      "Wall time: 5min 33s\n"
     ]
    }
   ],
   "source": [
    "%%time\n",
    "scores_list, labels_list = [], []\n",
    "pbar = tqdm(dataloader, total=(n_th+batch_size-1) // batch_size)\n",
    "for i, batch in enumerate(pbar):\n",
    "        \n",
    "    if batch_size * i >= n_th:\n",
    "        break\n",
    "    \n",
    "    labels = batch['labels']\n",
    "    \n",
    "    scores = model(batch).to('cpu')\n",
    "    \n",
    "    scores, labels = scores.tolist(), labels.tolist()\n",
    "    \n",
    "    scores_list += scores if type(scores) == list else [scores]\n",
    "    labels_list += labels if type(labels) == list else [labels]\n",
    "    \n",
    "scores, labels = np.array(scores_list), np.array(labels_list)\n",
    "threshold = find_threshold(scores, labels)\n",
    "acc, f1 = accuracy(scores, labels, threshold), f1_score(scores, labels, threshold)\n",
    "print(threshold)"
   ]
  },
  {
   "cell_type": "code",
   "execution_count": 6,
   "id": "2aae74cc",
   "metadata": {
    "execution": {
     "iopub.execute_input": "2023-05-02T01:40:57.040150Z",
     "iopub.status.busy": "2023-05-02T01:40:57.039578Z",
     "iopub.status.idle": "2023-05-02T01:40:57.044840Z",
     "shell.execute_reply": "2023-05-02T01:40:57.043548Z"
    }
   },
   "outputs": [],
   "source": [
    "# threshold = 0.7560033202171326"
   ]
  },
  {
   "cell_type": "markdown",
   "id": "405b9ce9",
   "metadata": {},
   "source": [
    "# Read Augmented Dataset"
   ]
  },
  {
   "cell_type": "code",
   "execution_count": 7,
   "id": "d05ca397",
   "metadata": {
    "execution": {
     "iopub.execute_input": "2023-05-02T01:40:57.048372Z",
     "iopub.status.busy": "2023-05-02T01:40:57.047952Z",
     "iopub.status.idle": "2023-05-02T01:40:57.067698Z",
     "shell.execute_reply": "2023-05-02T01:40:57.066456Z"
    }
   },
   "outputs": [
    {
     "data": {
      "text/plain": [
       "['050123', '052023']"
      ]
     },
     "execution_count": 7,
     "metadata": {},
     "output_type": "execute_result"
    }
   ],
   "source": [
    "os.listdir(\"/mnt/ssd/696ds_data/PoolC/1-fold-clone-detection-600k-5fold/val\")"
   ]
  },
  {
   "cell_type": "code",
   "execution_count": 8,
   "id": "f4508bb0",
   "metadata": {
    "execution": {
     "iopub.execute_input": "2023-05-02T01:40:57.072754Z",
     "iopub.status.busy": "2023-05-02T01:40:57.072339Z",
     "iopub.status.idle": "2023-05-02T01:41:14.903952Z",
     "shell.execute_reply": "2023-05-02T01:41:14.903372Z"
    }
   },
   "outputs": [
    {
     "name": "stdout",
     "output_type": "stream",
     "text": [
      "['augmented__p0.1_p0.2_p0.3_p0.4_p0.5_p0.6_p0.7_p0.8_p0.9_p1.0_group.json']\n",
      "<class 'dict'>\n",
      "CPU times: user 14.9 s, sys: 2.66 s, total: 17.5 s\n",
      "Wall time: 17.4 s\n"
     ]
    }
   ],
   "source": [
    "%%time\n",
    "save_dir = \"/mnt/ssd/696ds_data/PoolC/1-fold-clone-detection-600k-5fold/val/050123/\"\n",
    "print(os.listdir(save_dir))\n",
    "save_path = os.path.join(save_dir, \"augmented__p0.1_p0.2_p0.3_p0.4_p0.5_p0.6_p0.7_p0.8_p0.9_p1.0_group.json\")\n",
    "\n",
    "# p2index = {\"0.5\": 0}\n",
    "\n",
    "with open(save_path, 'r') as f:\n",
    "    json_data = json.load(f)\n",
    "    print(type(json_data))\n",
    "    \n",
    "data = json_data['data']\n",
    "\n"
   ]
  },
  {
   "cell_type": "code",
   "execution_count": 9,
   "id": "6f5e107c",
   "metadata": {
    "execution": {
     "iopub.execute_input": "2023-05-02T01:41:14.908122Z",
     "iopub.status.busy": "2023-05-02T01:41:14.907881Z",
     "iopub.status.idle": "2023-05-02T01:41:14.911781Z",
     "shell.execute_reply": "2023-05-02T01:41:14.911298Z"
    }
   },
   "outputs": [
    {
     "name": "stdout",
     "output_type": "stream",
     "text": [
      "dict_keys(['code1', 'code1_log', 'code2', 'code2_log'])\n"
     ]
    }
   ],
   "source": [
    "print(data[0]['augmented'][0].keys())"
   ]
  },
  {
   "cell_type": "code",
   "execution_count": 10,
   "id": "25b9024d",
   "metadata": {
    "execution": {
     "iopub.execute_input": "2023-05-02T01:41:14.916659Z",
     "iopub.status.busy": "2023-05-02T01:41:14.916471Z",
     "iopub.status.idle": "2023-05-02T01:41:14.933293Z",
     "shell.execute_reply": "2023-05-02T01:41:14.932441Z"
    }
   },
   "outputs": [
    {
     "name": "stdout",
     "output_type": "stream",
     "text": [
      "dict_keys(['add_whitespace,add_new_lines,add_commas', 'list_comp_to_for,set_comp_to_for,dict_comp_to_for', 'change_variable_names', 'for_to_while,lambda_to_function,combine_statement', 'remove_comments', 'remove_empty_line,remove_whitespace,remove_commas', 'remove_unused_imports'])\n"
     ]
    }
   ],
   "source": [
    "print(data[0]['augmented'][0]['code1_log'].keys())"
   ]
  },
  {
   "cell_type": "code",
   "execution_count": 11,
   "id": "1db7e460",
   "metadata": {
    "execution": {
     "iopub.execute_input": "2023-05-02T01:41:14.937914Z",
     "iopub.status.busy": "2023-05-02T01:41:14.937467Z",
     "iopub.status.idle": "2023-05-02T01:41:14.943276Z",
     "shell.execute_reply": "2023-05-02T01:41:14.942326Z"
    }
   },
   "outputs": [
    {
     "name": "stdout",
     "output_type": "stream",
     "text": [
      "dict_keys(['add_whitespace,add_new_lines,add_commas', 'list_comp_to_for,set_comp_to_for,dict_comp_to_for', 'change_variable_names', 'for_to_while,lambda_to_function,combine_statement', 'remove_comments', 'remove_empty_line,remove_whitespace,remove_commas', 'remove_unused_imports'])\n"
     ]
    }
   ],
   "source": [
    "print(data[0]['augmented'][0]['code1'].keys())"
   ]
  },
  {
   "cell_type": "markdown",
   "id": "60a8966d",
   "metadata": {},
   "source": [
    "# Evaluate on the PoolC dataset"
   ]
  },
  {
   "cell_type": "code",
   "execution_count": 12,
   "id": "969f09e0",
   "metadata": {
    "execution": {
     "iopub.execute_input": "2023-05-02T01:41:14.948655Z",
     "iopub.status.busy": "2023-05-02T01:41:14.948238Z",
     "iopub.status.idle": "2023-05-02T01:41:14.971155Z",
     "shell.execute_reply": "2023-05-02T01:41:14.969995Z"
    }
   },
   "outputs": [],
   "source": [
    "def func(datapoints):\n",
    "        \n",
    "    dataset = AugmentedDataset(datapoints)\n",
    "    dataloader = DataLoader(dataset, batch_size=batch_size, shuffle=False, collate_fn=collate_fn)\n",
    "    scores_list = []\n",
    "    labels_list = []\n",
    "    for j, batch in enumerate(dataloader):\n",
    "\n",
    "        labels = batch['labels']\n",
    "        scores = model(batch).to('cpu')\n",
    "\n",
    "        labels, scores = labels.tolist(), scores.tolist()\n",
    "        labels_list += labels if type(labels) == list else [labels]\n",
    "        scores_list += scores if type(scores) == list else [scores]\n",
    "\n",
    "\n",
    "    scores = np.array(scores_list)\n",
    "    labels = np.array(labels_list)\n",
    "    return np.array(scores_list), np.array(labels_list)\n",
    "\n",
    "def original_scores(n):\n",
    "    dataset1 = []\n",
    "    for i in range(len(data)):\n",
    "        if len(dataset1) == n:\n",
    "            break\n",
    "            \n",
    "        dataset1.append(\n",
    "            {\n",
    "                'code1': data[i]['original']['code1'],\n",
    "                'code2': data[i]['original']['code2'],\n",
    "                'similar': data[i]['original']['similar']\n",
    "            }\n",
    "        )\n",
    "\n",
    "    scores1, labels1 = func(dataset1)\n",
    "    acc1 = accuracy(scores1, labels1, threshold)\n",
    "    f1_1 = f1_score(scores1, labels1, threshold)\n",
    "    \n",
    "    \n",
    "    results = {\n",
    "        'Accuracy': acc1,\n",
    "        'F1': f1_1,\n",
    "        'Mean': np.mean(scores1),\n",
    "        'Standard Deviation': np.std(scores1),\n",
    "        'Same Prediction': 1.0,\n",
    "        'Mean Absolute Difference': 0.0,\n",
    "#         'Standard Deviation of Absolute Difference': 0.0,\n",
    "#         'Root Mean Squared Difference': 0.0\n",
    "        \n",
    "    }\n",
    "    \n",
    "    return scores1, results\n",
    "    \n",
    "\n",
    "def augmented_scores(p, transformation_type, n, scores1):\n",
    "    index = p2index[p]\n",
    "    logs = Counter()\n",
    "    dataset2 = []\n",
    "    for i in range(len(data)):\n",
    "        if len(dataset2) == n:\n",
    "            break\n",
    "            \n",
    "        dataset2.append(\n",
    "            {\n",
    "                'code1': data[i]['augmented'][p2index[p]]['code1'][transformation_type],\n",
    "                'code2': data[i]['original']['code2'],\n",
    "                'similar': data[i]['original']['similar']\n",
    "            }\n",
    "        )\n",
    "        \n",
    "        for key, value in data[i]['augmented'][p2index[p]]['code1_log'][transformation_type].items():\n",
    "            logs[key] += value\n",
    "            \n",
    "    scores, labels = func(dataset2)\n",
    "\n",
    "    acc = accuracy(scores, labels, threshold)\n",
    "    f1 = f1_score(scores, labels, threshold)\n",
    "    mean_absolute_difference = np.mean(np.abs(scores1-scores))\n",
    "    \n",
    "    results = {\n",
    "        'Accuracy': acc,\n",
    "        'F1': f1,\n",
    "        'Mean': np.mean(scores),\n",
    "        'Standard Deviation': np.std(scores),\n",
    "        'Same Prediction': np.mean((scores1 > threshold) == (scores > threshold)),\n",
    "        'Mean Absolute Difference': mean_absolute_difference,\n",
    "#         'Standard Deviation of Absolute Difference': np.std(abs(scores1-scores) - mean_absolute_difference),\n",
    "#         'Root Mean Squared Difference': np.sqrt(np.mean((scores1 - scores) ** 2))\n",
    "    }\n",
    "    \n",
    "    diffs = [(i, original_pred) for i, (original_pred, same) in enumerate(zip(scores1 > threshold, (scores1 > threshold) == (scores > threshold))) if not same]\n",
    "\n",
    "    \n",
    "    \n",
    "#     print('p:', p)\n",
    "#     for key, value in results.items():\n",
    "#         print(f\"{key:<30}: {value:>3.3f}\")\n",
    "#     print()\n",
    "    return results, logs, diffs, scores\n"
   ]
  },
  {
   "cell_type": "code",
   "execution_count": 13,
   "id": "29a1dbe2",
   "metadata": {
    "execution": {
     "iopub.execute_input": "2023-05-02T01:41:14.975184Z",
     "iopub.status.busy": "2023-05-02T01:41:14.974738Z",
     "iopub.status.idle": "2023-05-02T01:46:35.874181Z",
     "shell.execute_reply": "2023-05-02T01:46:35.873622Z"
    }
   },
   "outputs": [
    {
     "name": "stdout",
     "output_type": "stream",
     "text": [
      "CPU times: user 6min 38s, sys: 22.5 s, total: 7min 1s\n",
      "Wall time: 5min 20s\n"
     ]
    }
   ],
   "source": [
    "%%time\n",
    "n_pc = 30000\n",
    "\n",
    "scores1, results1 = original_scores(n_pc)\n"
   ]
  },
  {
   "cell_type": "code",
   "execution_count": 14,
   "id": "6645f779",
   "metadata": {
    "execution": {
     "iopub.execute_input": "2023-05-02T01:46:35.879859Z",
     "iopub.status.busy": "2023-05-02T01:46:35.879259Z",
     "iopub.status.idle": "2023-05-02T01:46:35.886020Z",
     "shell.execute_reply": "2023-05-02T01:46:35.884842Z"
    }
   },
   "outputs": [
    {
     "name": "stdout",
     "output_type": "stream",
     "text": [
      "{'Accuracy': 0.8357320427894592, 'F1': 0.8514330958036422, 'Mean': 1.3602613049422247, 'Standard Deviation': 1.760299376918363, 'Same Prediction': 1.0, 'Mean Absolute Difference': 0.0}\n"
     ]
    }
   ],
   "source": [
    "print(results1)"
   ]
  },
  {
   "cell_type": "code",
   "execution_count": 15,
   "id": "7f138cd9",
   "metadata": {
    "execution": {
     "iopub.execute_input": "2023-05-02T01:46:35.889691Z",
     "iopub.status.busy": "2023-05-02T01:46:35.889235Z",
     "iopub.status.idle": "2023-05-02T01:46:35.906871Z",
     "shell.execute_reply": "2023-05-02T01:46:35.905725Z"
    }
   },
   "outputs": [],
   "source": [
    "p2index = {f'0.{i+1}': i for i in range(9)}\n",
    "p2index['1.0'] = 9\n",
    "transformation_types = list(data[0]['augmented'][0]['code1_log'].keys())"
   ]
  },
  {
   "cell_type": "code",
   "execution_count": null,
   "id": "0e451825",
   "metadata": {
    "execution": {
     "iopub.execute_input": "2023-05-02T01:46:35.911449Z",
     "iopub.status.busy": "2023-05-02T01:46:35.910996Z",
     "iopub.status.idle": "2023-05-02T08:04:35.498112Z",
     "shell.execute_reply": "2023-05-02T08:04:35.497540Z"
    }
   },
   "outputs": [],
   "source": [
    "%%time\n",
    "targets = sorted(list(p2index.keys()), key=lambda x:float(x))\n",
    "# targets = ['0.2', '0.5', '0.7', '1.0']\n",
    "results = defaultdict(dict)\n",
    "logs = defaultdict(dict)\n",
    "diffs = defaultdict(dict)\n",
    "scores = defaultdict(dict)\n",
    "for transformation_type in transformation_types:\n",
    "    for p in targets:\n",
    "        results[transformation_type]['0.0'] = results1\n",
    "        logs[transformation_type]['0.0'] = Counter()\n",
    "        scores[transformation_type]['0.0'] = scores1\n",
    "        results[transformation_type][p], logs[transformation_type][p], diffs[transformation_type][p], scores[transformation_type][p] = \\\n",
    "                    augmented_scores(p, transformation_type, n_pc, scores1)"
   ]
  },
  {
   "cell_type": "code",
   "execution_count": null,
   "id": "09232b66",
   "metadata": {
    "execution": {
     "iopub.execute_input": "2023-05-02T08:04:35.503852Z",
     "iopub.status.busy": "2023-05-02T08:04:35.503269Z",
     "iopub.status.idle": "2023-05-02T08:04:35.509528Z",
     "shell.execute_reply": "2023-05-02T08:04:35.508239Z"
    }
   },
   "outputs": [],
   "source": [
    "\n",
    "targets = [\"0.0\"] + targets\n",
    "x = [float(target) for target in targets]\n"
   ]
  },
  {
   "cell_type": "code",
   "execution_count": null,
   "id": "63e98253",
   "metadata": {
    "execution": {
     "iopub.execute_input": "2023-05-02T08:04:35.513116Z",
     "iopub.status.busy": "2023-05-02T08:04:35.512662Z",
     "iopub.status.idle": "2023-05-02T08:04:35.532400Z",
     "shell.execute_reply": "2023-05-02T08:04:35.531109Z"
    }
   },
   "outputs": [],
   "source": [
    "print(transformation_types)\n",
    "\n",
    "labels = {\n",
    "    'add_whitespace,add_new_lines,add_commas': 'add whitespaces, new lines, commas',\n",
    "    'list_comp_to_for,set_comp_to_for,dict_comp_to_for': 'comprehension to for loop',\n",
    "    'change_variable_names': 'change local variable names',\n",
    "    'for_to_while,lambda_to_function,combine_statement': 'for loop to while loop, lambda to function, combine statement',\n",
    "    'remove_comments': 'remove comments',\n",
    "    'remove_empty_line,remove_whitespace,remove_commas': 'remove empty lines, whitespaces, commas',\n",
    "    'remove_unused_imports': 'remove unused imports'\n",
    "}"
   ]
  },
  {
   "cell_type": "code",
   "execution_count": null,
   "id": "6f3a1a17",
   "metadata": {
    "execution": {
     "iopub.execute_input": "2023-05-02T08:04:35.537423Z",
     "iopub.status.busy": "2023-05-02T08:04:35.536975Z",
     "iopub.status.idle": "2023-05-02T08:04:36.326394Z",
     "shell.execute_reply": "2023-05-02T08:04:36.325516Z"
    },
    "scrolled": true
   },
   "outputs": [],
   "source": [
    "metrics_list = ['Accuracy', 'F1', 'Mean', 'Standard Deviation', 'Same Prediction', \n",
    "                'Mean Absolute Difference']\n",
    "# cm = plt.get_cmap('gist_rainbow')\n",
    "\n",
    "for metric in metrics_list:\n",
    "    plt.figure(figsize=(8, 6))\n",
    "#     ax = fig.add_subplot(111)\n",
    "    for i, transformation_type in enumerate(transformation_types):\n",
    "        plt.plot(x, [results[transformation_type][p][metric] for p in targets], label=labels[transformation_type])\n",
    "\n",
    "    plt.title(metric)\n",
    "    plt.xlabel('temperature')\n",
    "    plt.xlim((0.0, 1.0))\n",
    "    plt.legend()\n",
    "    plt.show()\n",
    "    \n",
    "    "
   ]
  },
  {
   "cell_type": "markdown",
   "id": "415daf13",
   "metadata": {},
   "source": [
    "# Print results"
   ]
  },
  {
   "cell_type": "code",
   "execution_count": null,
   "id": "2de9f16e",
   "metadata": {
    "execution": {
     "iopub.execute_input": "2023-05-02T08:04:37.215136Z",
     "iopub.status.busy": "2023-05-02T08:04:37.214897Z",
     "iopub.status.idle": "2023-05-02T08:04:37.251856Z",
     "shell.execute_reply": "2023-05-02T08:04:37.251007Z"
    },
    "scrolled": true
   },
   "outputs": [],
   "source": [
    "\n",
    "for p in targets:\n",
    "    print(f'======================== [p = {p}] ================================')\n",
    "    for key in logs.keys():\n",
    "        print(logs[key][p])\n",
    "        print(sum(logs[key][p].values()))\n",
    "        print(results[key][p])\n",
    "        print()"
   ]
  },
  {
   "cell_type": "markdown",
   "id": "d6569237",
   "metadata": {},
   "source": [
    "# Print cases when the predictions are changed"
   ]
  },
  {
   "cell_type": "code",
   "execution_count": null,
   "id": "4832ef8d",
   "metadata": {
    "scrolled": false
   },
   "outputs": [],
   "source": [
    "for p in targets[1:]:\n",
    "    print(f'############################## [p = {p}] #####################################')\n",
    "    for key in diffs.keys():\n",
    "        print(f'%%%%%%%%%%%%%%%%%%%%%% [key = {key}] %%%%%%%%%%%%%%%%%%%%%%%%%%%')\n",
    "        item = diffs[key][p]\n",
    "        size = len(diffs[key][p])\n",
    "        for i in range(min(3, size)):\n",
    "            index = item[i][0]\n",
    "            code1 = data[index]['original']['code1']\n",
    "            code1_augmented = data[index]['augmented'][p2index[p]]['code1'][key]\n",
    "            similar = data[index]['original']['similar']\n",
    "            code2 = data[index]['original']['code2']\n",
    "            original_pred = item[i][1]\n",
    "            print('==================================================================')\n",
    "            print(f\"p={p}, key={key}\")\n",
    "            print('------------------------------------------------------------------')\n",
    "            print(\n",
    "                \"\".join(\n",
    "                    difflib.unified_diff(code1.splitlines(1), code1_augmented.splitlines(1))\n",
    "                )\n",
    "            )\n",
    "            print('------------------------------------------------------------------')\n",
    "            print(code1)\n",
    "            print('------------------------------------------------------------------')\n",
    "            print(code1_augmented)\n",
    "            print('------------------------------------------------------------------')\n",
    "            print(code2)\n",
    "            print('------------------------------------------------------------------')\n",
    "            print(f'similar (original): {similar}, pred(original): {original_pred}')\n",
    "            print(f'original: {scores[transformation_type][\"0.0\"][index]}, transformed: {scores[transformation_type][p][index]}')\n",
    "            print('==================================================================')\n",
    "            \n",
    "#             print_code_diff(f\"p={p}, key={key}\", original, augmented, code2, similar, show_diff=True)\n",
    "            \n",
    "            time.sleep(0.5)\n",
    "    "
   ]
  },
  {
   "cell_type": "code",
   "execution_count": null,
   "id": "5fdf08e1",
   "metadata": {},
   "outputs": [],
   "source": [
    "\n",
    "import string\n",
    "plt.figure(figsize=(16, 12))\n",
    "for i, metric in enumerate(['Accuracy', 'Same Prediction', 'Standard Deviation', 'Mean Absolute Difference']):\n",
    "    plt.subplot(2,2,i+1)\n",
    "#     ax = fig.add_subplot(111)\n",
    "    for j, transformation_type in enumerate(transformation_types):\n",
    "        plt.plot(x, [results[transformation_type][p][metric] for p in targets], label=labels[transformation_type])\n",
    "        print(metric, transformation_type)\n",
    "        print(x)\n",
    "        print([results[transformation_type][p][metric] for p in targets])\n",
    "        print(labels[transformation_type])\n",
    "        print()\n",
    "\n",
    "    plt.title(f\"({string.ascii_lowercase[i]}) {metric}\")\n",
    "    plt.xlabel('temperature')\n",
    "    plt.xlim((0.0, 1.0))\n",
    "    plt.legend()\n",
    "plt.savefig('0524_codebert_2')"
   ]
  },
  {
   "cell_type": "code",
   "execution_count": null,
   "id": "f199829a",
   "metadata": {},
   "outputs": [],
   "source": []
  },
  {
   "cell_type": "markdown",
   "id": "1966d044",
   "metadata": {},
   "source": [
    "## ----------------------------------"
   ]
  },
  {
   "cell_type": "code",
   "execution_count": null,
   "id": "eca43866",
   "metadata": {
    "execution": {
     "iopub.execute_input": "2023-05-02T08:04:37.257087Z",
     "iopub.status.busy": "2023-05-02T08:04:37.256304Z",
     "iopub.status.idle": "2023-05-02T08:04:37.264992Z",
     "shell.execute_reply": "2023-05-02T08:04:37.264202Z"
    }
   },
   "outputs": [],
   "source": [
    "def print_code_diff(text, code1, code2, code3, similar, show_diff=False, show_codes=True):\n",
    "    print('==================================================================')\n",
    "    print(text)\n",
    "    print('------------------------------------------------------------------')\n",
    "    if show_diff:\n",
    "        print(\n",
    "            \"\".join(\n",
    "                difflib.unified_diff(code1.splitlines(1), code2.splitlines(1))\n",
    "            )\n",
    "        )\n",
    "        print('------------------------------------------------------------------')\n",
    "    if show_codes:\n",
    "        print(code1)\n",
    "        print('------------------------------------------------------------------')\n",
    "        print(code2)\n",
    "        print('------------------------------------------------------------------')\n",
    "        print(code3)\n",
    "        print('------------------------------------------------------------------')\n",
    "    print(f'similar (original): {similar}')\n",
    "    print('==================================================================')\n",
    "    "
   ]
  },
  {
   "cell_type": "code",
   "execution_count": null,
   "id": "1d6fe5dd",
   "metadata": {
    "execution": {
     "iopub.execute_input": "2023-05-02T08:04:37.270566Z",
     "iopub.status.busy": "2023-05-02T08:04:37.270026Z",
     "iopub.status.idle": "2023-05-02T08:06:23.037491Z",
     "shell.execute_reply": "2023-05-02T08:06:23.035998Z"
    },
    "scrolled": true
   },
   "outputs": [],
   "source": [
    "for p in targets:\n",
    "    print(f'############################## [p = {p}] #####################################')\n",
    "    for key in diffs.keys():\n",
    "        print(f'%%%%%%%%%%%%%%%%%%%%%% [key = {key}] %%%%%%%%%%%%%%%%%%%%%%%%%%%')\n",
    "        key = 'change_variable_names'\n",
    "        item = diffs[key][p]\n",
    "        size = len(diffs[key][p])\n",
    "        for i in range(min(3, size)):\n",
    "            code1 = data[item[i]]['original']['code1']\n",
    "            code1_augmented = data[item[i]]['augmented'][p2index[p]]['code1'][key]\n",
    "            similar = data[item[i]]['original']['similar']\n",
    "            code2 = data[item[i]]['original']['code2']\n",
    "            print('==================================================================')\n",
    "            print(f\"p={p}, key={key}\")\n",
    "            print('------------------------------------------------------------------')\n",
    "            print(\n",
    "                \"\".join(\n",
    "                    difflib.unified_diff(code1.splitlines(1), code1_augmented.splitlines(1))\n",
    "                )\n",
    "            )\n",
    "            print('------------------------------------------------------------------')\n",
    "            print(code1)\n",
    "            print('------------------------------------------------------------------')\n",
    "            print(code1_augmented)\n",
    "            print('------------------------------------------------------------------')\n",
    "            print(code2)\n",
    "            print('------------------------------------------------------------------')\n",
    "            print(f'similar (original): {similar}')\n",
    "            print(f'original: {scores[transformation_type][\"0.0\"][item[i]]}, transformed: {scores[transformation_type][p][item[i]]}')\n",
    "            print('==================================================================')\n",
    "            \n",
    "#             print_code_diff(f\"p={p}, key={key}\", original, augmented, code2, similar, show_diff=True)\n",
    "            \n",
    "            time.sleep(0.5)\n",
    "    "
   ]
  },
  {
   "cell_type": "code",
   "execution_count": null,
   "id": "4f942140",
   "metadata": {
    "execution": {
     "iopub.execute_input": "2023-05-02T08:06:23.043279Z",
     "iopub.status.busy": "2023-05-02T08:06:23.042735Z",
     "iopub.status.idle": "2023-05-02T08:06:30.599312Z",
     "shell.execute_reply": "2023-05-02T08:06:30.597790Z"
    }
   },
   "outputs": [],
   "source": [
    "p = \"1.0\"\n",
    "print(f'############################## [p = {p}] #####################################')\n",
    "for key in diffs.keys():\n",
    "    print(f'%%%%%%%%%%%%%%%%%%%%%% [key = {key}] %%%%%%%%%%%%%%%%%%%%%%%%%%%')\n",
    "    item = diffs[key][p]\n",
    "    size = len(diffs[key][p])\n",
    "    for i in range(min(3, size)):\n",
    "        original = data[item[i]]['original']['code1']\n",
    "        augmented = data[item[i]]['augmented'][p2index[p]]['code1'][key]\n",
    "        similar = data[item[i]]['original']['similar']\n",
    "        code2 = data[item[i]]['original']['code2']\n",
    "        print_code_diff(f\"p={p}, key={key}\", original, augmented, code2, similar, show_diff=True)\n",
    "        time.sleep(0.5)"
   ]
  },
  {
   "cell_type": "code",
   "execution_count": null,
   "id": "a6d0b009",
   "metadata": {
    "execution": {
     "iopub.execute_input": "2023-05-02T08:06:30.605213Z",
     "iopub.status.busy": "2023-05-02T08:06:30.604705Z",
     "iopub.status.idle": "2023-05-02T08:06:31.327249Z",
     "shell.execute_reply": "2023-05-02T08:06:31.326098Z"
    },
    "scrolled": false
   },
   "outputs": [],
   "source": [
    "\n",
    "import string\n",
    "plt.figure(figsize=(16, 12))\n",
    "for i, metric in enumerate(['Accuracy', 'Same Prediction', 'Standard Deviation', 'Mean Absolute Difference']):\n",
    "    plt.subplot(2,2,i+1)\n",
    "#     ax = fig.add_subplot(111)\n",
    "    for j, transformation_type in enumerate(transformation_types):\n",
    "        plt.plot(x, [results[transformation_type][p][metric] for p in targets], label=labels[transformation_type])\n",
    "        print(metric, transformation_type)\n",
    "        print(x)\n",
    "        print([results[transformation_type][p][metric] for p in targets])\n",
    "        print(labels[transformation_type])\n",
    "\n",
    "    plt.title(f\"({string.ascii_lowercase[i]}) {metric}\")\n",
    "    plt.xlabel('temperature')\n",
    "    plt.xlim((0.0, 1.0))\n",
    "    plt.legend()\n",
    "plt.savefig('0411_codebert')"
   ]
  },
  {
   "cell_type": "code",
   "execution_count": null,
   "id": "75a60461",
   "metadata": {},
   "outputs": [],
   "source": []
  }
 ],
 "metadata": {
  "kernelspec": {
   "display_name": "Python(rl)",
   "language": "python",
   "name": "rl"
  },
  "language_info": {
   "codemirror_mode": {
    "name": "ipython",
    "version": 3
   },
   "file_extension": ".py",
   "mimetype": "text/x-python",
   "name": "python",
   "nbconvert_exporter": "python",
   "pygments_lexer": "ipython3",
   "version": "3.8.12"
  },
  "varInspector": {
   "cols": {
    "lenName": 16,
    "lenType": 16,
    "lenVar": 40
   },
   "kernels_config": {
    "python": {
     "delete_cmd_postfix": "",
     "delete_cmd_prefix": "del ",
     "library": "var_list.py",
     "varRefreshCmd": "print(var_dic_list())"
    },
    "r": {
     "delete_cmd_postfix": ") ",
     "delete_cmd_prefix": "rm(",
     "library": "var_list.r",
     "varRefreshCmd": "cat(var_dic_list()) "
    }
   },
   "types_to_exclude": [
    "module",
    "function",
    "builtin_function_or_method",
    "instance",
    "_Feature"
   ],
   "window_display": false
  },
  "widgets": {
   "application/vnd.jupyter.widget-state+json": {
    "state": {
     "0dc2b6a646b54cf9953110ad0594b8ca": {
      "model_module": "@jupyter-widgets/controls",
      "model_module_version": "2.0.0",
      "model_name": "HTMLModel",
      "state": {
       "_dom_classes": [],
       "_model_module": "@jupyter-widgets/controls",
       "_model_module_version": "2.0.0",
       "_model_name": "HTMLModel",
       "_view_count": null,
       "_view_module": "@jupyter-widgets/controls",
       "_view_module_version": "2.0.0",
       "_view_name": "HTMLView",
       "description": "",
       "description_allow_html": false,
       "layout": "IPY_MODEL_1ddc22bdb0154fec92345bf141b2714a",
       "placeholder": "​",
       "style": "IPY_MODEL_ec09e0ca5418401a8d9cfc5b0ea3ff8f",
       "tabbable": null,
       "tooltip": null,
       "value": "100%"
      }
     },
     "16157a2b66e6452e9c1f3b3b2de7288e": {
      "model_module": "@jupyter-widgets/controls",
      "model_module_version": "2.0.0",
      "model_name": "ProgressStyleModel",
      "state": {
       "_model_module": "@jupyter-widgets/controls",
       "_model_module_version": "2.0.0",
       "_model_name": "ProgressStyleModel",
       "_view_count": null,
       "_view_module": "@jupyter-widgets/base",
       "_view_module_version": "2.0.0",
       "_view_name": "StyleView",
       "bar_color": null,
       "description_width": ""
      }
     },
     "1ddc22bdb0154fec92345bf141b2714a": {
      "model_module": "@jupyter-widgets/base",
      "model_module_version": "2.0.0",
      "model_name": "LayoutModel",
      "state": {
       "_model_module": "@jupyter-widgets/base",
       "_model_module_version": "2.0.0",
       "_model_name": "LayoutModel",
       "_view_count": null,
       "_view_module": "@jupyter-widgets/base",
       "_view_module_version": "2.0.0",
       "_view_name": "LayoutView",
       "align_content": null,
       "align_items": null,
       "align_self": null,
       "border_bottom": null,
       "border_left": null,
       "border_right": null,
       "border_top": null,
       "bottom": null,
       "display": null,
       "flex": null,
       "flex_flow": null,
       "grid_area": null,
       "grid_auto_columns": null,
       "grid_auto_flow": null,
       "grid_auto_rows": null,
       "grid_column": null,
       "grid_gap": null,
       "grid_row": null,
       "grid_template_areas": null,
       "grid_template_columns": null,
       "grid_template_rows": null,
       "height": null,
       "justify_content": null,
       "justify_items": null,
       "left": null,
       "margin": null,
       "max_height": null,
       "max_width": null,
       "min_height": null,
       "min_width": null,
       "object_fit": null,
       "object_position": null,
       "order": null,
       "overflow": null,
       "padding": null,
       "right": null,
       "top": null,
       "visibility": null,
       "width": null
      }
     },
     "4369499133b045348b432a2e05165f32": {
      "model_module": "@jupyter-widgets/controls",
      "model_module_version": "2.0.0",
      "model_name": "HTMLStyleModel",
      "state": {
       "_model_module": "@jupyter-widgets/controls",
       "_model_module_version": "2.0.0",
       "_model_name": "HTMLStyleModel",
       "_view_count": null,
       "_view_module": "@jupyter-widgets/base",
       "_view_module_version": "2.0.0",
       "_view_name": "StyleView",
       "background": null,
       "description_width": "",
       "font_size": null,
       "text_color": null
      }
     },
     "5ca458a9d909406e95dd0d78fb0aa401": {
      "model_module": "@jupyter-widgets/base",
      "model_module_version": "2.0.0",
      "model_name": "LayoutModel",
      "state": {
       "_model_module": "@jupyter-widgets/base",
       "_model_module_version": "2.0.0",
       "_model_name": "LayoutModel",
       "_view_count": null,
       "_view_module": "@jupyter-widgets/base",
       "_view_module_version": "2.0.0",
       "_view_name": "LayoutView",
       "align_content": null,
       "align_items": null,
       "align_self": null,
       "border_bottom": null,
       "border_left": null,
       "border_right": null,
       "border_top": null,
       "bottom": null,
       "display": null,
       "flex": null,
       "flex_flow": null,
       "grid_area": null,
       "grid_auto_columns": null,
       "grid_auto_flow": null,
       "grid_auto_rows": null,
       "grid_column": null,
       "grid_gap": null,
       "grid_row": null,
       "grid_template_areas": null,
       "grid_template_columns": null,
       "grid_template_rows": null,
       "height": null,
       "justify_content": null,
       "justify_items": null,
       "left": null,
       "margin": null,
       "max_height": null,
       "max_width": null,
       "min_height": null,
       "min_width": null,
       "object_fit": null,
       "object_position": null,
       "order": null,
       "overflow": null,
       "padding": null,
       "right": null,
       "top": null,
       "visibility": null,
       "width": null
      }
     },
     "89cd6744527b42a99ab0d838bab9378c": {
      "model_module": "@jupyter-widgets/controls",
      "model_module_version": "2.0.0",
      "model_name": "HTMLModel",
      "state": {
       "_dom_classes": [],
       "_model_module": "@jupyter-widgets/controls",
       "_model_module_version": "2.0.0",
       "_model_name": "HTMLModel",
       "_view_count": null,
       "_view_module": "@jupyter-widgets/controls",
       "_view_module_version": "2.0.0",
       "_view_name": "HTMLView",
       "description": "",
       "description_allow_html": false,
       "layout": "IPY_MODEL_ccb1d22339204f0d8f769b79677a849b",
       "placeholder": "​",
       "style": "IPY_MODEL_4369499133b045348b432a2e05165f32",
       "tabbable": null,
       "tooltip": null,
       "value": " 3750/3750 [05:34&lt;00:00, 11.83it/s]"
      }
     },
     "a99f4462cca542348f3c40f63b619f92": {
      "model_module": "@jupyter-widgets/controls",
      "model_module_version": "2.0.0",
      "model_name": "HBoxModel",
      "state": {
       "_dom_classes": [],
       "_model_module": "@jupyter-widgets/controls",
       "_model_module_version": "2.0.0",
       "_model_name": "HBoxModel",
       "_view_count": null,
       "_view_module": "@jupyter-widgets/controls",
       "_view_module_version": "2.0.0",
       "_view_name": "HBoxView",
       "box_style": "",
       "children": [
        "IPY_MODEL_0dc2b6a646b54cf9953110ad0594b8ca",
        "IPY_MODEL_ad2d86f30b0943c3ae4b73bb0aaf3a47",
        "IPY_MODEL_89cd6744527b42a99ab0d838bab9378c"
       ],
       "layout": "IPY_MODEL_c7d779385b7b4414aadd17dd1380c2ac",
       "tabbable": null,
       "tooltip": null
      }
     },
     "ad2d86f30b0943c3ae4b73bb0aaf3a47": {
      "model_module": "@jupyter-widgets/controls",
      "model_module_version": "2.0.0",
      "model_name": "FloatProgressModel",
      "state": {
       "_dom_classes": [],
       "_model_module": "@jupyter-widgets/controls",
       "_model_module_version": "2.0.0",
       "_model_name": "FloatProgressModel",
       "_view_count": null,
       "_view_module": "@jupyter-widgets/controls",
       "_view_module_version": "2.0.0",
       "_view_name": "ProgressView",
       "bar_style": "danger",
       "description": "",
       "description_allow_html": false,
       "layout": "IPY_MODEL_5ca458a9d909406e95dd0d78fb0aa401",
       "max": 3750,
       "min": 0,
       "orientation": "horizontal",
       "style": "IPY_MODEL_16157a2b66e6452e9c1f3b3b2de7288e",
       "tabbable": null,
       "tooltip": null,
       "value": 3750
      }
     },
     "c7d779385b7b4414aadd17dd1380c2ac": {
      "model_module": "@jupyter-widgets/base",
      "model_module_version": "2.0.0",
      "model_name": "LayoutModel",
      "state": {
       "_model_module": "@jupyter-widgets/base",
       "_model_module_version": "2.0.0",
       "_model_name": "LayoutModel",
       "_view_count": null,
       "_view_module": "@jupyter-widgets/base",
       "_view_module_version": "2.0.0",
       "_view_name": "LayoutView",
       "align_content": null,
       "align_items": null,
       "align_self": null,
       "border_bottom": null,
       "border_left": null,
       "border_right": null,
       "border_top": null,
       "bottom": null,
       "display": null,
       "flex": null,
       "flex_flow": null,
       "grid_area": null,
       "grid_auto_columns": null,
       "grid_auto_flow": null,
       "grid_auto_rows": null,
       "grid_column": null,
       "grid_gap": null,
       "grid_row": null,
       "grid_template_areas": null,
       "grid_template_columns": null,
       "grid_template_rows": null,
       "height": null,
       "justify_content": null,
       "justify_items": null,
       "left": null,
       "margin": null,
       "max_height": null,
       "max_width": null,
       "min_height": null,
       "min_width": null,
       "object_fit": null,
       "object_position": null,
       "order": null,
       "overflow": null,
       "padding": null,
       "right": null,
       "top": null,
       "visibility": null,
       "width": null
      }
     },
     "ccb1d22339204f0d8f769b79677a849b": {
      "model_module": "@jupyter-widgets/base",
      "model_module_version": "2.0.0",
      "model_name": "LayoutModel",
      "state": {
       "_model_module": "@jupyter-widgets/base",
       "_model_module_version": "2.0.0",
       "_model_name": "LayoutModel",
       "_view_count": null,
       "_view_module": "@jupyter-widgets/base",
       "_view_module_version": "2.0.0",
       "_view_name": "LayoutView",
       "align_content": null,
       "align_items": null,
       "align_self": null,
       "border_bottom": null,
       "border_left": null,
       "border_right": null,
       "border_top": null,
       "bottom": null,
       "display": null,
       "flex": null,
       "flex_flow": null,
       "grid_area": null,
       "grid_auto_columns": null,
       "grid_auto_flow": null,
       "grid_auto_rows": null,
       "grid_column": null,
       "grid_gap": null,
       "grid_row": null,
       "grid_template_areas": null,
       "grid_template_columns": null,
       "grid_template_rows": null,
       "height": null,
       "justify_content": null,
       "justify_items": null,
       "left": null,
       "margin": null,
       "max_height": null,
       "max_width": null,
       "min_height": null,
       "min_width": null,
       "object_fit": null,
       "object_position": null,
       "order": null,
       "overflow": null,
       "padding": null,
       "right": null,
       "top": null,
       "visibility": null,
       "width": null
      }
     },
     "ec09e0ca5418401a8d9cfc5b0ea3ff8f": {
      "model_module": "@jupyter-widgets/controls",
      "model_module_version": "2.0.0",
      "model_name": "HTMLStyleModel",
      "state": {
       "_model_module": "@jupyter-widgets/controls",
       "_model_module_version": "2.0.0",
       "_model_name": "HTMLStyleModel",
       "_view_count": null,
       "_view_module": "@jupyter-widgets/base",
       "_view_module_version": "2.0.0",
       "_view_name": "StyleView",
       "background": null,
       "description_width": "",
       "font_size": null,
       "text_color": null
      }
     }
    },
    "version_major": 2,
    "version_minor": 0
   }
  }
 },
 "nbformat": 4,
 "nbformat_minor": 5
}
