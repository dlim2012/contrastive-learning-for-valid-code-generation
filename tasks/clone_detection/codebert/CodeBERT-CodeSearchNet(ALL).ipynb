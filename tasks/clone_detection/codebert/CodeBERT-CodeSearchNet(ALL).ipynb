{
 "cells": [
  {
   "cell_type": "code",
   "execution_count": 1,
   "id": "2b9aa056",
   "metadata": {
    "execution": {
     "iopub.execute_input": "2023-04-04T02:10:53.556968Z",
     "iopub.status.busy": "2023-04-04T02:10:53.556302Z",
     "iopub.status.idle": "2023-04-04T02:10:56.479302Z",
     "shell.execute_reply": "2023-04-04T02:10:56.478636Z"
    }
   },
   "outputs": [
    {
     "name": "stdout",
     "output_type": "stream",
     "text": [
      "cuda\n"
     ]
    }
   ],
   "source": [
    "import argparse\n",
    "import torch\n",
    "from transformers import AutoTokenizer, AutoModel\n",
    "from datasets import load_dataset_builder, load_dataset, load_from_disk\n",
    "from torch.utils.data import Dataset, DataLoader\n",
    "import os\n",
    "import json\n",
    "from tensorboardX import SummaryWriter\n",
    "from tqdm.notebook import tqdm\n",
    "import random\n",
    "import numpy as np\n",
    "from sklearn import metrics\n",
    "import matplotlib.pyplot as plt\n",
    "from collections import defaultdict\n",
    "\n",
    "from finetune import CloneDetector\n",
    "\n",
    "device = 'cuda' if torch.cuda.is_available() else 'cpu'\n",
    "print(device)"
   ]
  },
  {
   "cell_type": "markdown",
   "id": "a2d5f476",
   "metadata": {},
   "source": [
    "# Functions"
   ]
  },
  {
   "cell_type": "code",
   "execution_count": 2,
   "id": "7d16985c",
   "metadata": {
    "execution": {
     "iopub.execute_input": "2023-04-04T02:10:56.485050Z",
     "iopub.status.busy": "2023-04-04T02:10:56.484558Z",
     "iopub.status.idle": "2023-04-04T02:10:56.494445Z",
     "shell.execute_reply": "2023-04-04T02:10:56.493837Z"
    }
   },
   "outputs": [],
   "source": [
    "def find_threshold(scores, labels, metric='f1'):\n",
    "    # metric: 'acc' or 'f1'\n",
    "\n",
    "    for label in labels:\n",
    "        assert abs(label - 1) < 1e-10 or abs(label) < 1e-10\n",
    "    assert metric in ['acc', 'f1']\n",
    "\n",
    "    arr = sorted(list(zip(scores, labels)), key=lambda x: x[0])\n",
    "\n",
    "    pre = 0.0\n",
    "    post = sum(labels)\n",
    "\n",
    "    max_eval, best_threshold = 0.0, arr[0][0]\n",
    "    for i in range(len(arr) - 1):\n",
    "        pre += arr[i][1]\n",
    "        post -= arr[i][1]\n",
    "\n",
    "        tp = post\n",
    "        fp = len(arr) - i - post\n",
    "        fn = pre\n",
    "        tn = (i-pre)\n",
    "\n",
    "        acc = (tp + tn) / len(arr)\n",
    "        precision = tp / (tp + fp)\n",
    "        recall = tp / (tp + fn)\n",
    "        f1 = 2 * precision * recall / (precision + recall)\n",
    "\n",
    "        eval = {'acc': acc, 'f1': f1}\n",
    "\n",
    "        if max_eval < eval[metric]:\n",
    "            max_eval = acc\n",
    "            best_threshold = (arr[i][0] + arr[i][1]) / 2\n",
    "    return best_threshold\n",
    "\n",
    "def accuracy(scores, labels, threshold):\n",
    "    return np.mean(((scores > threshold).astype(np.int32) == labels).astype(np.float32)).tolist()\n",
    "\n",
    "\n",
    "def f1_score(scores, labels, threshold):\n",
    "    return metrics.f1_score((scores > threshold), labels)\n",
    "    \n",
    "class AugmentedDataset(Dataset):\n",
    "    def __init__(self, inputs):\n",
    "        self.data = inputs\n",
    "\n",
    "    def __len__(self):\n",
    "        return len(self.data)\n",
    "\n",
    "    def __getitem__(self, idx):\n",
    "        return self.data[idx]\n",
    "    \n"
   ]
  },
  {
   "cell_type": "markdown",
   "id": "0475cd8e",
   "metadata": {},
   "source": [
    "# Load Model"
   ]
  },
  {
   "cell_type": "code",
   "execution_count": 3,
   "id": "8438cb26",
   "metadata": {
    "execution": {
     "iopub.execute_input": "2023-04-04T02:10:56.498162Z",
     "iopub.status.busy": "2023-04-04T02:10:56.497965Z",
     "iopub.status.idle": "2023-04-04T02:10:59.464915Z",
     "shell.execute_reply": "2023-04-04T02:10:59.464340Z"
    }
   },
   "outputs": [
    {
     "name": "stdout",
     "output_type": "stream",
     "text": [
      "CPU times: user 1.69 s, sys: 1.08 s, total: 2.78 s\n",
      "Wall time: 2.92 s\n"
     ]
    },
    {
     "data": {
      "text/plain": [
       "CloneDetector(\n",
       "  (model): RobertaModel(\n",
       "    (embeddings): RobertaEmbeddings(\n",
       "      (word_embeddings): Embedding(50265, 768, padding_idx=1)\n",
       "      (position_embeddings): Embedding(514, 768, padding_idx=1)\n",
       "      (token_type_embeddings): Embedding(1, 768)\n",
       "      (LayerNorm): LayerNorm((768,), eps=1e-05, elementwise_affine=True)\n",
       "      (dropout): Dropout(p=0.1, inplace=False)\n",
       "    )\n",
       "    (encoder): RobertaEncoder(\n",
       "      (layer): ModuleList(\n",
       "        (0): RobertaLayer(\n",
       "          (attention): RobertaAttention(\n",
       "            (self): RobertaSelfAttention(\n",
       "              (query): Linear(in_features=768, out_features=768, bias=True)\n",
       "              (key): Linear(in_features=768, out_features=768, bias=True)\n",
       "              (value): Linear(in_features=768, out_features=768, bias=True)\n",
       "              (dropout): Dropout(p=0.1, inplace=False)\n",
       "            )\n",
       "            (output): RobertaSelfOutput(\n",
       "              (dense): Linear(in_features=768, out_features=768, bias=True)\n",
       "              (LayerNorm): LayerNorm((768,), eps=1e-05, elementwise_affine=True)\n",
       "              (dropout): Dropout(p=0.1, inplace=False)\n",
       "            )\n",
       "          )\n",
       "          (intermediate): RobertaIntermediate(\n",
       "            (dense): Linear(in_features=768, out_features=3072, bias=True)\n",
       "            (intermediate_act_fn): GELUActivation()\n",
       "          )\n",
       "          (output): RobertaOutput(\n",
       "            (dense): Linear(in_features=3072, out_features=768, bias=True)\n",
       "            (LayerNorm): LayerNorm((768,), eps=1e-05, elementwise_affine=True)\n",
       "            (dropout): Dropout(p=0.1, inplace=False)\n",
       "          )\n",
       "        )\n",
       "        (1): RobertaLayer(\n",
       "          (attention): RobertaAttention(\n",
       "            (self): RobertaSelfAttention(\n",
       "              (query): Linear(in_features=768, out_features=768, bias=True)\n",
       "              (key): Linear(in_features=768, out_features=768, bias=True)\n",
       "              (value): Linear(in_features=768, out_features=768, bias=True)\n",
       "              (dropout): Dropout(p=0.1, inplace=False)\n",
       "            )\n",
       "            (output): RobertaSelfOutput(\n",
       "              (dense): Linear(in_features=768, out_features=768, bias=True)\n",
       "              (LayerNorm): LayerNorm((768,), eps=1e-05, elementwise_affine=True)\n",
       "              (dropout): Dropout(p=0.1, inplace=False)\n",
       "            )\n",
       "          )\n",
       "          (intermediate): RobertaIntermediate(\n",
       "            (dense): Linear(in_features=768, out_features=3072, bias=True)\n",
       "            (intermediate_act_fn): GELUActivation()\n",
       "          )\n",
       "          (output): RobertaOutput(\n",
       "            (dense): Linear(in_features=3072, out_features=768, bias=True)\n",
       "            (LayerNorm): LayerNorm((768,), eps=1e-05, elementwise_affine=True)\n",
       "            (dropout): Dropout(p=0.1, inplace=False)\n",
       "          )\n",
       "        )\n",
       "        (2): RobertaLayer(\n",
       "          (attention): RobertaAttention(\n",
       "            (self): RobertaSelfAttention(\n",
       "              (query): Linear(in_features=768, out_features=768, bias=True)\n",
       "              (key): Linear(in_features=768, out_features=768, bias=True)\n",
       "              (value): Linear(in_features=768, out_features=768, bias=True)\n",
       "              (dropout): Dropout(p=0.1, inplace=False)\n",
       "            )\n",
       "            (output): RobertaSelfOutput(\n",
       "              (dense): Linear(in_features=768, out_features=768, bias=True)\n",
       "              (LayerNorm): LayerNorm((768,), eps=1e-05, elementwise_affine=True)\n",
       "              (dropout): Dropout(p=0.1, inplace=False)\n",
       "            )\n",
       "          )\n",
       "          (intermediate): RobertaIntermediate(\n",
       "            (dense): Linear(in_features=768, out_features=3072, bias=True)\n",
       "            (intermediate_act_fn): GELUActivation()\n",
       "          )\n",
       "          (output): RobertaOutput(\n",
       "            (dense): Linear(in_features=3072, out_features=768, bias=True)\n",
       "            (LayerNorm): LayerNorm((768,), eps=1e-05, elementwise_affine=True)\n",
       "            (dropout): Dropout(p=0.1, inplace=False)\n",
       "          )\n",
       "        )\n",
       "        (3): RobertaLayer(\n",
       "          (attention): RobertaAttention(\n",
       "            (self): RobertaSelfAttention(\n",
       "              (query): Linear(in_features=768, out_features=768, bias=True)\n",
       "              (key): Linear(in_features=768, out_features=768, bias=True)\n",
       "              (value): Linear(in_features=768, out_features=768, bias=True)\n",
       "              (dropout): Dropout(p=0.1, inplace=False)\n",
       "            )\n",
       "            (output): RobertaSelfOutput(\n",
       "              (dense): Linear(in_features=768, out_features=768, bias=True)\n",
       "              (LayerNorm): LayerNorm((768,), eps=1e-05, elementwise_affine=True)\n",
       "              (dropout): Dropout(p=0.1, inplace=False)\n",
       "            )\n",
       "          )\n",
       "          (intermediate): RobertaIntermediate(\n",
       "            (dense): Linear(in_features=768, out_features=3072, bias=True)\n",
       "            (intermediate_act_fn): GELUActivation()\n",
       "          )\n",
       "          (output): RobertaOutput(\n",
       "            (dense): Linear(in_features=3072, out_features=768, bias=True)\n",
       "            (LayerNorm): LayerNorm((768,), eps=1e-05, elementwise_affine=True)\n",
       "            (dropout): Dropout(p=0.1, inplace=False)\n",
       "          )\n",
       "        )\n",
       "        (4): RobertaLayer(\n",
       "          (attention): RobertaAttention(\n",
       "            (self): RobertaSelfAttention(\n",
       "              (query): Linear(in_features=768, out_features=768, bias=True)\n",
       "              (key): Linear(in_features=768, out_features=768, bias=True)\n",
       "              (value): Linear(in_features=768, out_features=768, bias=True)\n",
       "              (dropout): Dropout(p=0.1, inplace=False)\n",
       "            )\n",
       "            (output): RobertaSelfOutput(\n",
       "              (dense): Linear(in_features=768, out_features=768, bias=True)\n",
       "              (LayerNorm): LayerNorm((768,), eps=1e-05, elementwise_affine=True)\n",
       "              (dropout): Dropout(p=0.1, inplace=False)\n",
       "            )\n",
       "          )\n",
       "          (intermediate): RobertaIntermediate(\n",
       "            (dense): Linear(in_features=768, out_features=3072, bias=True)\n",
       "            (intermediate_act_fn): GELUActivation()\n",
       "          )\n",
       "          (output): RobertaOutput(\n",
       "            (dense): Linear(in_features=3072, out_features=768, bias=True)\n",
       "            (LayerNorm): LayerNorm((768,), eps=1e-05, elementwise_affine=True)\n",
       "            (dropout): Dropout(p=0.1, inplace=False)\n",
       "          )\n",
       "        )\n",
       "        (5): RobertaLayer(\n",
       "          (attention): RobertaAttention(\n",
       "            (self): RobertaSelfAttention(\n",
       "              (query): Linear(in_features=768, out_features=768, bias=True)\n",
       "              (key): Linear(in_features=768, out_features=768, bias=True)\n",
       "              (value): Linear(in_features=768, out_features=768, bias=True)\n",
       "              (dropout): Dropout(p=0.1, inplace=False)\n",
       "            )\n",
       "            (output): RobertaSelfOutput(\n",
       "              (dense): Linear(in_features=768, out_features=768, bias=True)\n",
       "              (LayerNorm): LayerNorm((768,), eps=1e-05, elementwise_affine=True)\n",
       "              (dropout): Dropout(p=0.1, inplace=False)\n",
       "            )\n",
       "          )\n",
       "          (intermediate): RobertaIntermediate(\n",
       "            (dense): Linear(in_features=768, out_features=3072, bias=True)\n",
       "            (intermediate_act_fn): GELUActivation()\n",
       "          )\n",
       "          (output): RobertaOutput(\n",
       "            (dense): Linear(in_features=3072, out_features=768, bias=True)\n",
       "            (LayerNorm): LayerNorm((768,), eps=1e-05, elementwise_affine=True)\n",
       "            (dropout): Dropout(p=0.1, inplace=False)\n",
       "          )\n",
       "        )\n",
       "        (6): RobertaLayer(\n",
       "          (attention): RobertaAttention(\n",
       "            (self): RobertaSelfAttention(\n",
       "              (query): Linear(in_features=768, out_features=768, bias=True)\n",
       "              (key): Linear(in_features=768, out_features=768, bias=True)\n",
       "              (value): Linear(in_features=768, out_features=768, bias=True)\n",
       "              (dropout): Dropout(p=0.1, inplace=False)\n",
       "            )\n",
       "            (output): RobertaSelfOutput(\n",
       "              (dense): Linear(in_features=768, out_features=768, bias=True)\n",
       "              (LayerNorm): LayerNorm((768,), eps=1e-05, elementwise_affine=True)\n",
       "              (dropout): Dropout(p=0.1, inplace=False)\n",
       "            )\n",
       "          )\n",
       "          (intermediate): RobertaIntermediate(\n",
       "            (dense): Linear(in_features=768, out_features=3072, bias=True)\n",
       "            (intermediate_act_fn): GELUActivation()\n",
       "          )\n",
       "          (output): RobertaOutput(\n",
       "            (dense): Linear(in_features=3072, out_features=768, bias=True)\n",
       "            (LayerNorm): LayerNorm((768,), eps=1e-05, elementwise_affine=True)\n",
       "            (dropout): Dropout(p=0.1, inplace=False)\n",
       "          )\n",
       "        )\n",
       "        (7): RobertaLayer(\n",
       "          (attention): RobertaAttention(\n",
       "            (self): RobertaSelfAttention(\n",
       "              (query): Linear(in_features=768, out_features=768, bias=True)\n",
       "              (key): Linear(in_features=768, out_features=768, bias=True)\n",
       "              (value): Linear(in_features=768, out_features=768, bias=True)\n",
       "              (dropout): Dropout(p=0.1, inplace=False)\n",
       "            )\n",
       "            (output): RobertaSelfOutput(\n",
       "              (dense): Linear(in_features=768, out_features=768, bias=True)\n",
       "              (LayerNorm): LayerNorm((768,), eps=1e-05, elementwise_affine=True)\n",
       "              (dropout): Dropout(p=0.1, inplace=False)\n",
       "            )\n",
       "          )\n",
       "          (intermediate): RobertaIntermediate(\n",
       "            (dense): Linear(in_features=768, out_features=3072, bias=True)\n",
       "            (intermediate_act_fn): GELUActivation()\n",
       "          )\n",
       "          (output): RobertaOutput(\n",
       "            (dense): Linear(in_features=3072, out_features=768, bias=True)\n",
       "            (LayerNorm): LayerNorm((768,), eps=1e-05, elementwise_affine=True)\n",
       "            (dropout): Dropout(p=0.1, inplace=False)\n",
       "          )\n",
       "        )\n",
       "        (8): RobertaLayer(\n",
       "          (attention): RobertaAttention(\n",
       "            (self): RobertaSelfAttention(\n",
       "              (query): Linear(in_features=768, out_features=768, bias=True)\n",
       "              (key): Linear(in_features=768, out_features=768, bias=True)\n",
       "              (value): Linear(in_features=768, out_features=768, bias=True)\n",
       "              (dropout): Dropout(p=0.1, inplace=False)\n",
       "            )\n",
       "            (output): RobertaSelfOutput(\n",
       "              (dense): Linear(in_features=768, out_features=768, bias=True)\n",
       "              (LayerNorm): LayerNorm((768,), eps=1e-05, elementwise_affine=True)\n",
       "              (dropout): Dropout(p=0.1, inplace=False)\n",
       "            )\n",
       "          )\n",
       "          (intermediate): RobertaIntermediate(\n",
       "            (dense): Linear(in_features=768, out_features=3072, bias=True)\n",
       "            (intermediate_act_fn): GELUActivation()\n",
       "          )\n",
       "          (output): RobertaOutput(\n",
       "            (dense): Linear(in_features=3072, out_features=768, bias=True)\n",
       "            (LayerNorm): LayerNorm((768,), eps=1e-05, elementwise_affine=True)\n",
       "            (dropout): Dropout(p=0.1, inplace=False)\n",
       "          )\n",
       "        )\n",
       "        (9): RobertaLayer(\n",
       "          (attention): RobertaAttention(\n",
       "            (self): RobertaSelfAttention(\n",
       "              (query): Linear(in_features=768, out_features=768, bias=True)\n",
       "              (key): Linear(in_features=768, out_features=768, bias=True)\n",
       "              (value): Linear(in_features=768, out_features=768, bias=True)\n",
       "              (dropout): Dropout(p=0.1, inplace=False)\n",
       "            )\n",
       "            (output): RobertaSelfOutput(\n",
       "              (dense): Linear(in_features=768, out_features=768, bias=True)\n",
       "              (LayerNorm): LayerNorm((768,), eps=1e-05, elementwise_affine=True)\n",
       "              (dropout): Dropout(p=0.1, inplace=False)\n",
       "            )\n",
       "          )\n",
       "          (intermediate): RobertaIntermediate(\n",
       "            (dense): Linear(in_features=768, out_features=3072, bias=True)\n",
       "            (intermediate_act_fn): GELUActivation()\n",
       "          )\n",
       "          (output): RobertaOutput(\n",
       "            (dense): Linear(in_features=3072, out_features=768, bias=True)\n",
       "            (LayerNorm): LayerNorm((768,), eps=1e-05, elementwise_affine=True)\n",
       "            (dropout): Dropout(p=0.1, inplace=False)\n",
       "          )\n",
       "        )\n",
       "        (10): RobertaLayer(\n",
       "          (attention): RobertaAttention(\n",
       "            (self): RobertaSelfAttention(\n",
       "              (query): Linear(in_features=768, out_features=768, bias=True)\n",
       "              (key): Linear(in_features=768, out_features=768, bias=True)\n",
       "              (value): Linear(in_features=768, out_features=768, bias=True)\n",
       "              (dropout): Dropout(p=0.1, inplace=False)\n",
       "            )\n",
       "            (output): RobertaSelfOutput(\n",
       "              (dense): Linear(in_features=768, out_features=768, bias=True)\n",
       "              (LayerNorm): LayerNorm((768,), eps=1e-05, elementwise_affine=True)\n",
       "              (dropout): Dropout(p=0.1, inplace=False)\n",
       "            )\n",
       "          )\n",
       "          (intermediate): RobertaIntermediate(\n",
       "            (dense): Linear(in_features=768, out_features=3072, bias=True)\n",
       "            (intermediate_act_fn): GELUActivation()\n",
       "          )\n",
       "          (output): RobertaOutput(\n",
       "            (dense): Linear(in_features=3072, out_features=768, bias=True)\n",
       "            (LayerNorm): LayerNorm((768,), eps=1e-05, elementwise_affine=True)\n",
       "            (dropout): Dropout(p=0.1, inplace=False)\n",
       "          )\n",
       "        )\n",
       "        (11): RobertaLayer(\n",
       "          (attention): RobertaAttention(\n",
       "            (self): RobertaSelfAttention(\n",
       "              (query): Linear(in_features=768, out_features=768, bias=True)\n",
       "              (key): Linear(in_features=768, out_features=768, bias=True)\n",
       "              (value): Linear(in_features=768, out_features=768, bias=True)\n",
       "              (dropout): Dropout(p=0.1, inplace=False)\n",
       "            )\n",
       "            (output): RobertaSelfOutput(\n",
       "              (dense): Linear(in_features=768, out_features=768, bias=True)\n",
       "              (LayerNorm): LayerNorm((768,), eps=1e-05, elementwise_affine=True)\n",
       "              (dropout): Dropout(p=0.1, inplace=False)\n",
       "            )\n",
       "          )\n",
       "          (intermediate): RobertaIntermediate(\n",
       "            (dense): Linear(in_features=768, out_features=3072, bias=True)\n",
       "            (intermediate_act_fn): GELUActivation()\n",
       "          )\n",
       "          (output): RobertaOutput(\n",
       "            (dense): Linear(in_features=3072, out_features=768, bias=True)\n",
       "            (LayerNorm): LayerNorm((768,), eps=1e-05, elementwise_affine=True)\n",
       "            (dropout): Dropout(p=0.1, inplace=False)\n",
       "          )\n",
       "        )\n",
       "      )\n",
       "    )\n",
       "    (pooler): RobertaPooler(\n",
       "      (dense): Linear(in_features=768, out_features=768, bias=True)\n",
       "      (activation): Tanh()\n",
       "    )\n",
       "  )\n",
       "  (linear): Linear(in_features=768, out_features=768, bias=True)\n",
       "  (sigmoid): Sigmoid()\n",
       "  (bce_loss): BCELoss()\n",
       ")"
      ]
     },
     "execution_count": 3,
     "metadata": {},
     "output_type": "execute_result"
    }
   ],
   "source": [
    "%%time\n",
    "\n",
    "\n",
    "model_name = \"microsoft/codebert-base\"\n",
    "tokenizer = AutoTokenizer.from_pretrained(model_name)\n",
    "batch_size = 8\n",
    "\n",
    "def tokenize(code):\n",
    "    return tokenizer(code, return_tensors=\"pt\", truncation=True, padding=\"longest\", max_length=512)\n",
    "\n",
    "def collate_fn(items):\n",
    "    x = {}\n",
    "\n",
    "    code1, code2, labels = [], [], []\n",
    "    for item in items:\n",
    "        code1.append(item['code1'])\n",
    "        code2.append(item['code2'])\n",
    "        labels.append(item['similar'])\n",
    "\n",
    "    x['code1'] = tokenize(code1)\n",
    "    x['code2'] = tokenize(code2)\n",
    "    x['labels'] = torch.tensor(labels, dtype=torch.float32)\n",
    "\n",
    "    return x\n",
    "\n",
    "\n",
    "\n",
    "ckpt_path = '/mnt/ssd/696ds/checkpoints/0326_codebert-base_lr3.0e-07-w5000/step200000.pt'\n",
    "# model = CloneDetector(model_name, device)\n",
    "model = torch.load(ckpt_path).to(device)\n",
    "model.device = device\n",
    "model.train(False)"
   ]
  },
  {
   "cell_type": "markdown",
   "id": "a5336b30",
   "metadata": {},
   "source": [
    "# Read CodeSearchNet Data"
   ]
  },
  {
   "cell_type": "code",
   "execution_count": 4,
   "id": "e524d0bc",
   "metadata": {
    "execution": {
     "iopub.execute_input": "2023-04-04T02:10:59.469686Z",
     "iopub.status.busy": "2023-04-04T02:10:59.469515Z",
     "iopub.status.idle": "2023-04-04T02:11:02.041809Z",
     "shell.execute_reply": "2023-04-04T02:11:02.041250Z"
    }
   },
   "outputs": [
    {
     "name": "stdout",
     "output_type": "stream",
     "text": [
      "[\"augmented_['0.2', '0.5', '0.7', '1.0'].json\"]\n",
      "<class 'dict'>\n",
      "CPU times: user 2.22 s, sys: 371 ms, total: 2.59 s\n",
      "Wall time: 2.57 s\n"
     ]
    }
   ],
   "source": [
    "%%time\n",
    "data_dir = \"/mnt/ssd/696ds_data/CodeSearchNet/resources/data/python/augmented/train/python_train_0/040223\"\n",
    "print(os.listdir(data_dir))\n",
    "data_path = os.path.join(data_dir, \"augmented_['0.2', '0.5', '0.7', '1.0'].json\")\n",
    "with open(data_path, 'r') as f:\n",
    "    json_data = json.load(f)\n",
    "    print(type(json_data))\n",
    "data = json_data['data']\n",
    "    "
   ]
  },
  {
   "cell_type": "markdown",
   "id": "fc8ffd05",
   "metadata": {},
   "source": [
    "# Evaluate on the CodeSearchNet dataset (only positive)"
   ]
  },
  {
   "cell_type": "code",
   "execution_count": 5,
   "id": "64a7def3",
   "metadata": {
    "execution": {
     "iopub.execute_input": "2023-04-04T02:11:02.046161Z",
     "iopub.status.busy": "2023-04-04T02:11:02.045868Z",
     "iopub.status.idle": "2023-04-04T02:27:30.806046Z",
     "shell.execute_reply": "2023-04-04T02:27:30.803768Z"
    }
   },
   "outputs": [
    {
     "name": "stdout",
     "output_type": "stream",
     "text": [
      "p: 0.2\n",
      "Accuracy1                     : 0.986\n",
      "Accuracy2                     : 0.988\n",
      "Mean1                         : 1.387\n",
      "Mean2                         : 1.363\n",
      "Standard Deviation1           : 0.997\n",
      "Standard Deviation2           : 0.992\n",
      "Same Prediction               : 0.997\n",
      "Mean Absolute Difference      : 0.070\n",
      "Root Mean Squared Difference  : 0.128\n",
      "\n",
      "p: 0.5\n",
      "Accuracy1                     : 0.987\n",
      "Accuracy2                     : 0.990\n",
      "Mean1                         : 1.406\n",
      "Mean2                         : 1.347\n",
      "Standard Deviation1           : 0.998\n",
      "Standard Deviation2           : 0.990\n",
      "Same Prediction               : 0.996\n",
      "Mean Absolute Difference      : 0.137\n",
      "Root Mean Squared Difference  : 0.213\n",
      "\n",
      "p: 0.7\n",
      "Accuracy1                     : 0.987\n",
      "Accuracy2                     : 0.991\n",
      "Mean1                         : 1.376\n",
      "Mean2                         : 1.297\n",
      "Standard Deviation1           : 0.997\n",
      "Standard Deviation2           : 0.976\n",
      "Same Prediction               : 0.995\n",
      "Mean Absolute Difference      : 0.176\n",
      "Root Mean Squared Difference  : 0.264\n",
      "\n",
      "p: 1.0\n",
      "Accuracy1                     : 0.986\n",
      "Accuracy2                     : 0.992\n",
      "Mean1                         : 1.404\n",
      "Mean2                         : 1.286\n",
      "Standard Deviation1           : 0.997\n",
      "Standard Deviation2           : 0.957\n",
      "Same Prediction               : 0.991\n",
      "Mean Absolute Difference      : 0.235\n",
      "Root Mean Squared Difference  : 0.347\n",
      "\n"
     ]
    }
   ],
   "source": [
    "n_cs = 10000\n",
    "threshold = 3.5\n",
    "targets = ['0.2', '0.5', '0.7', '1.0']\n",
    "p2index = {p: i for i, p in enumerate(targets)}\n",
    "\n",
    "results = {}\n",
    "for p in ['0.2', '0.5', '0.7', '1.0']:\n",
    "    index = p2index[p]\n",
    "    original_datapoints = []\n",
    "    augmented_datapoints = []\n",
    "    for i in range(len(data)):\n",
    "        j = random.randint(0, len(data) - 1)\n",
    "        while j == i:\n",
    "            j = random.randint(0, len(data) - 1)\n",
    "            \n",
    "        if len(original_datapoints) == n_cs:\n",
    "            break\n",
    "        \n",
    "        original_datapoints.append(\n",
    "            {\n",
    "                'code1': data[i]['original']['code'],\n",
    "                #             'code2': data[j]['augmented'][index]['code'],\n",
    "                'code2': data[j]['original']['code'],\n",
    "                'similar': 0\n",
    "            }\n",
    "        )\n",
    "\n",
    "        augmented_datapoints.append(\n",
    "            {\n",
    "                'code1': data[i]['augmented'][index]['code'],\n",
    "                #             'code2': data[j]['augmented'][index]['code'],\n",
    "                'code2': data[j]['original']['code'],\n",
    "                'similar': 0\n",
    "            }\n",
    "        )\n",
    "\n",
    "\n",
    "    original_dataset = AugmentedDataset(original_datapoints)\n",
    "    original_dataloader = DataLoader(original_dataset, batch_size=batch_size, shuffle=False, collate_fn=collate_fn)\n",
    "    augmented_dataset = AugmentedDataset(augmented_datapoints)\n",
    "    augmented_dataloader = DataLoader(augmented_dataset, batch_size=batch_size, shuffle=False, collate_fn=collate_fn)\n",
    "\n",
    "    scores1 = []\n",
    "    for i, batch in enumerate(original_dataloader):\n",
    "        scores = model(batch).to('cpu')\n",
    "\n",
    "        scores = scores.tolist()\n",
    "        scores1 += scores if type(scores) == list else [scores]\n",
    "\n",
    "    scores2 = []\n",
    "    for i, batch in enumerate(augmented_dataloader):\n",
    "        scores = model(batch).to('cpu')\n",
    "\n",
    "        scores = scores.tolist()\n",
    "        scores2 += scores if type(scores) == list else [scores]\n",
    "        \n",
    "    scores1, scores2 = np.array(scores1), np.array(scores2)\n",
    "\n",
    "    acc1 = accuracy(scores1, np.zeros(len(scores1)), threshold)\n",
    "    acc2 = accuracy(scores2, np.zeros(len(scores2)), threshold)\n",
    "\n",
    "    _results = {\n",
    "        'Accuracy1': acc1,\n",
    "        'Accuracy2': acc2,\n",
    "        'Mean1': np.mean(scores1),\n",
    "        'Mean2': np.mean(scores2),\n",
    "        'Standard Deviation1': np.std(scores1),\n",
    "        'Standard Deviation2': np.std(scores2),\n",
    "        'Same Prediction': np.mean((scores1 > threshold) == (scores2 > threshold)),\n",
    "        'Mean Absolute Difference': np.mean(np.abs(scores1 - scores2)),\n",
    "        'Root Mean Squared Difference': np.sqrt(np.mean((scores1 - scores2) ** 2))\n",
    "    }\n",
    "\n",
    "    print('p:', p)\n",
    "    for key, value in _results.items():\n",
    "        print(f\"{key:<30}: {value:>3.3f}\")\n",
    "    print()\n",
    "    \n",
    "    results[p] = _results\n"
   ]
  },
  {
   "cell_type": "code",
   "execution_count": 6,
   "id": "10dd2c47",
   "metadata": {
    "execution": {
     "iopub.execute_input": "2023-04-04T02:27:30.809929Z",
     "iopub.status.busy": "2023-04-04T02:27:30.809719Z",
     "iopub.status.idle": "2023-04-04T02:27:30.813246Z",
     "shell.execute_reply": "2023-04-04T02:27:30.812709Z"
    }
   },
   "outputs": [],
   "source": [
    "\n",
    "targets = targets\n",
    "x = [float(target) for target in targets]"
   ]
  },
  {
   "cell_type": "code",
   "execution_count": 7,
   "id": "c3d9f64f",
   "metadata": {
    "execution": {
     "iopub.execute_input": "2023-04-04T02:27:30.817330Z",
     "iopub.status.busy": "2023-04-04T02:27:30.817077Z",
     "iopub.status.idle": "2023-04-04T02:27:30.914950Z",
     "shell.execute_reply": "2023-04-04T02:27:30.914421Z"
    }
   },
   "outputs": [
    {
     "data": {
      "image/png": "[encoded data removed]",
      "text/plain": [
       "<Figure size 432x288 with 1 Axes>"
      ]
     },
     "metadata": {
      "needs_background": "light"
     },
     "output_type": "display_data"
    }
   ],
   "source": [
    "plt.plot(x, [results[p]['Accuracy1'] for p in targets], label='Accuracy1')\n",
    "plt.plot(x, [results[p]['Accuracy2'] for p in targets], label='Accuracy2')\n",
    "plt.xlabel('temperature')\n",
    "plt.xlim((0.0, 1.0))\n",
    "plt.legend()\n",
    "plt.show()"
   ]
  },
  {
   "cell_type": "code",
   "execution_count": 8,
   "id": "5a1d9f59",
   "metadata": {
    "execution": {
     "iopub.execute_input": "2023-04-04T02:27:30.919356Z",
     "iopub.status.busy": "2023-04-04T02:27:30.919155Z",
     "iopub.status.idle": "2023-04-04T02:27:30.995782Z",
     "shell.execute_reply": "2023-04-04T02:27:30.995251Z"
    }
   },
   "outputs": [
    {
     "data": {
      "image/png": "[encoded data removed]",
      "text/plain": [
       "<Figure size 432x288 with 1 Axes>"
      ]
     },
     "metadata": {
      "needs_background": "light"
     },
     "output_type": "display_data"
    }
   ],
   "source": [
    "\n",
    "plt.plot(x, [results[p]['Same Prediction'] for p in targets], label='Same Prediction')\n",
    "plt.xlabel('temperature')\n",
    "plt.xlim((0.0, 1.0))\n",
    "plt.legend()\n",
    "plt.show()"
   ]
  },
  {
   "cell_type": "code",
   "execution_count": 9,
   "id": "8f945946",
   "metadata": {
    "execution": {
     "iopub.execute_input": "2023-04-04T02:27:30.998499Z",
     "iopub.status.busy": "2023-04-04T02:27:30.998136Z",
     "iopub.status.idle": "2023-04-04T02:27:31.086060Z",
     "shell.execute_reply": "2023-04-04T02:27:31.085532Z"
    }
   },
   "outputs": [
    {
     "data": {
      "image/png": "[encoded data removed]",
      "text/plain": [
       "<Figure size 432x288 with 1 Axes>"
      ]
     },
     "metadata": {
      "needs_background": "light"
     },
     "output_type": "display_data"
    }
   ],
   "source": [
    "\n",
    "plt.plot(x, [results[p]['Mean1'] for p in targets], label='Mean1')\n",
    "plt.plot(x, [results[p]['Mean2'] for p in targets], label='Mean2')\n",
    "plt.plot(x, [results[p]['Standard Deviation1'] for p in targets], label='Standard Deviation1')\n",
    "plt.plot(x, [results[p]['Standard Deviation2'] for p in targets], label='Standard Deviation2')\n",
    "plt.xlabel('temperature')\n",
    "plt.xlim((0.0, 1.0))\n",
    "plt.legend()\n",
    "plt.show()\n"
   ]
  },
  {
   "cell_type": "code",
   "execution_count": 10,
   "id": "d9d78c8f",
   "metadata": {
    "execution": {
     "iopub.execute_input": "2023-04-04T02:27:31.090797Z",
     "iopub.status.busy": "2023-04-04T02:27:31.090133Z",
     "iopub.status.idle": "2023-04-04T02:27:31.186006Z",
     "shell.execute_reply": "2023-04-04T02:27:31.185477Z"
    }
   },
   "outputs": [
    {
     "data": {
      "image/png": "[encoded data removed]",
      "text/plain": [
       "<Figure size 432x288 with 1 Axes>"
      ]
     },
     "metadata": {
      "needs_background": "light"
     },
     "output_type": "display_data"
    }
   ],
   "source": [
    "\n",
    "plt.plot(x, [results[p]['Mean Absolute Difference'] for p in targets], label='Mean Absolute Difference')\n",
    "plt.plot(x, [results[p]['Root Mean Squared Difference'] for p in targets], label='Root Mean Squared Difference')\n",
    "plt.xlabel('temperature')\n",
    "plt.xlim((0.0, 1.0))\n",
    "plt.legend()\n",
    "plt.show()"
   ]
  },
  {
   "cell_type": "code",
   "execution_count": null,
   "id": "eb586a3e",
   "metadata": {},
   "outputs": [],
   "source": []
  }
 ],
 "metadata": {
  "kernelspec": {
   "display_name": "Python(rl)",
   "language": "python",
   "name": "rl"
  },
  "language_info": {
   "codemirror_mode": {
    "name": "ipython",
    "version": 3
   },
   "file_extension": ".py",
   "mimetype": "text/x-python",
   "name": "python",
   "nbconvert_exporter": "python",
   "pygments_lexer": "ipython3",
   "version": "3.8.12"
  },
  "varInspector": {
   "cols": {
    "lenName": 16,
    "lenType": 16,
    "lenVar": 40
   },
   "kernels_config": {
    "python": {
     "delete_cmd_postfix": "",
     "delete_cmd_prefix": "del ",
     "library": "var_list.py",
     "varRefreshCmd": "print(var_dic_list())"
    },
    "r": {
     "delete_cmd_postfix": ") ",
     "delete_cmd_prefix": "rm(",
     "library": "var_list.r",
     "varRefreshCmd": "cat(var_dic_list()) "
    }
   },
   "types_to_exclude": [
    "module",
    "function",
    "builtin_function_or_method",
    "instance",
    "_Feature"
   ],
   "window_display": false
  }
 },
 "nbformat": 4,
 "nbformat_minor": 5
}
