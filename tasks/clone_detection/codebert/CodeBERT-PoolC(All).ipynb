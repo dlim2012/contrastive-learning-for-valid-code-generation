{
 "cells": [
  {
   "cell_type": "code",
   "execution_count": 1,
   "id": "2b9aa056",
   "metadata": {
    "execution": {
     "iopub.execute_input": "2023-04-04T00:26:06.362081Z",
     "iopub.status.busy": "2023-04-04T00:26:06.361509Z",
     "iopub.status.idle": "2023-04-04T00:26:09.158776Z",
     "shell.execute_reply": "2023-04-04T00:26:09.158088Z"
    }
   },
   "outputs": [
    {
     "name": "stdout",
     "output_type": "stream",
     "text": [
      "cuda\n"
     ]
    }
   ],
   "source": [
    "import argparse\n",
    "import torch\n",
    "from transformers import AutoTokenizer, AutoModel\n",
    "from datasets import load_dataset_builder, load_dataset, load_from_disk\n",
    "from torch.utils.data import Dataset, DataLoader\n",
    "import os\n",
    "import json\n",
    "from tensorboardX import SummaryWriter\n",
    "from tqdm.notebook import tqdm\n",
    "import random\n",
    "import numpy as np\n",
    "from sklearn import metrics\n",
    "import matplotlib.pyplot as plt\n",
    "from collections import defaultdict\n",
    "\n",
    "from finetune import CloneDetector\n",
    "\n",
    "device = 'cuda' if torch.cuda.is_available() else 'cpu'\n",
    "print(device)"
   ]
  },
  {
   "cell_type": "markdown",
   "id": "a2d5f476",
   "metadata": {},
   "source": [
    "# Functions"
   ]
  },
  {
   "cell_type": "code",
   "execution_count": 2,
   "id": "7d16985c",
   "metadata": {
    "execution": {
     "iopub.execute_input": "2023-04-04T00:26:09.163048Z",
     "iopub.status.busy": "2023-04-04T00:26:09.162719Z",
     "iopub.status.idle": "2023-04-04T00:26:09.172034Z",
     "shell.execute_reply": "2023-04-04T00:26:09.170705Z"
    }
   },
   "outputs": [],
   "source": [
    "def find_threshold(scores, labels, metric='f1'):\n",
    "    # metric: 'acc' or 'f1'\n",
    "\n",
    "    for label in labels:\n",
    "        assert abs(label - 1) < 1e-10 or abs(label) < 1e-10\n",
    "    assert metric in ['acc', 'f1']\n",
    "\n",
    "    arr = sorted(list(zip(scores, labels)), key=lambda x: x[0])\n",
    "\n",
    "    pre = 0.0\n",
    "    post = sum(labels)\n",
    "\n",
    "    max_eval, best_threshold = 0.0, arr[0][0]\n",
    "    for i in range(len(arr) - 1):\n",
    "        pre += arr[i][1]\n",
    "        post -= arr[i][1]\n",
    "\n",
    "        tp = post\n",
    "        fp = len(arr) - i - post\n",
    "        fn = pre\n",
    "        tn = (i-pre)\n",
    "\n",
    "        acc = (tp + tn) / len(arr)\n",
    "        precision = tp / (tp + fp)\n",
    "        recall = tp / (tp + fn)\n",
    "        f1 = 2 * precision * recall / (precision + recall)\n",
    "\n",
    "        eval = {'acc': acc, 'f1': f1}\n",
    "\n",
    "        if max_eval < eval[metric]:\n",
    "            max_eval = acc\n",
    "            best_threshold = (arr[i][0] + arr[i][1]) / 2\n",
    "    return best_threshold\n",
    "\n",
    "def accuracy(scores, labels, threshold):\n",
    "    return np.mean(((scores > threshold).astype(np.int32) == labels).astype(np.float32)).tolist()\n",
    "\n",
    "\n",
    "def f1_score(scores, labels, threshold):\n",
    "    return metrics.f1_score((scores > threshold), labels)\n",
    "    \n",
    "class AugmentedDataset(Dataset):\n",
    "    def __init__(self, inputs):\n",
    "        self.data = inputs\n",
    "\n",
    "    def __len__(self):\n",
    "        return len(self.data)\n",
    "\n",
    "    def __getitem__(self, idx):\n",
    "        return self.data[idx]\n",
    "    \n"
   ]
  },
  {
   "cell_type": "markdown",
   "id": "0475cd8e",
   "metadata": {},
   "source": [
    "# Load Model"
   ]
  },
  {
   "cell_type": "code",
   "execution_count": 3,
   "id": "8438cb26",
   "metadata": {
    "execution": {
     "iopub.execute_input": "2023-04-04T00:26:09.176895Z",
     "iopub.status.busy": "2023-04-04T00:26:09.176346Z",
     "iopub.status.idle": "2023-04-04T00:26:12.023639Z",
     "shell.execute_reply": "2023-04-04T00:26:12.023118Z"
    }
   },
   "outputs": [
    {
     "name": "stdout",
     "output_type": "stream",
     "text": [
      "CPU times: user 1.71 s, sys: 955 ms, total: 2.66 s\n",
      "Wall time: 2.8 s\n"
     ]
    },
    {
     "data": {
      "text/plain": [
       "CloneDetector(\n",
       "  (model): RobertaModel(\n",
       "    (embeddings): RobertaEmbeddings(\n",
       "      (word_embeddings): Embedding(50265, 768, padding_idx=1)\n",
       "      (position_embeddings): Embedding(514, 768, padding_idx=1)\n",
       "      (token_type_embeddings): Embedding(1, 768)\n",
       "      (LayerNorm): LayerNorm((768,), eps=1e-05, elementwise_affine=True)\n",
       "      (dropout): Dropout(p=0.1, inplace=False)\n",
       "    )\n",
       "    (encoder): RobertaEncoder(\n",
       "      (layer): ModuleList(\n",
       "        (0): RobertaLayer(\n",
       "          (attention): RobertaAttention(\n",
       "            (self): RobertaSelfAttention(\n",
       "              (query): Linear(in_features=768, out_features=768, bias=True)\n",
       "              (key): Linear(in_features=768, out_features=768, bias=True)\n",
       "              (value): Linear(in_features=768, out_features=768, bias=True)\n",
       "              (dropout): Dropout(p=0.1, inplace=False)\n",
       "            )\n",
       "            (output): RobertaSelfOutput(\n",
       "              (dense): Linear(in_features=768, out_features=768, bias=True)\n",
       "              (LayerNorm): LayerNorm((768,), eps=1e-05, elementwise_affine=True)\n",
       "              (dropout): Dropout(p=0.1, inplace=False)\n",
       "            )\n",
       "          )\n",
       "          (intermediate): RobertaIntermediate(\n",
       "            (dense): Linear(in_features=768, out_features=3072, bias=True)\n",
       "            (intermediate_act_fn): GELUActivation()\n",
       "          )\n",
       "          (output): RobertaOutput(\n",
       "            (dense): Linear(in_features=3072, out_features=768, bias=True)\n",
       "            (LayerNorm): LayerNorm((768,), eps=1e-05, elementwise_affine=True)\n",
       "            (dropout): Dropout(p=0.1, inplace=False)\n",
       "          )\n",
       "        )\n",
       "        (1): RobertaLayer(\n",
       "          (attention): RobertaAttention(\n",
       "            (self): RobertaSelfAttention(\n",
       "              (query): Linear(in_features=768, out_features=768, bias=True)\n",
       "              (key): Linear(in_features=768, out_features=768, bias=True)\n",
       "              (value): Linear(in_features=768, out_features=768, bias=True)\n",
       "              (dropout): Dropout(p=0.1, inplace=False)\n",
       "            )\n",
       "            (output): RobertaSelfOutput(\n",
       "              (dense): Linear(in_features=768, out_features=768, bias=True)\n",
       "              (LayerNorm): LayerNorm((768,), eps=1e-05, elementwise_affine=True)\n",
       "              (dropout): Dropout(p=0.1, inplace=False)\n",
       "            )\n",
       "          )\n",
       "          (intermediate): RobertaIntermediate(\n",
       "            (dense): Linear(in_features=768, out_features=3072, bias=True)\n",
       "            (intermediate_act_fn): GELUActivation()\n",
       "          )\n",
       "          (output): RobertaOutput(\n",
       "            (dense): Linear(in_features=3072, out_features=768, bias=True)\n",
       "            (LayerNorm): LayerNorm((768,), eps=1e-05, elementwise_affine=True)\n",
       "            (dropout): Dropout(p=0.1, inplace=False)\n",
       "          )\n",
       "        )\n",
       "        (2): RobertaLayer(\n",
       "          (attention): RobertaAttention(\n",
       "            (self): RobertaSelfAttention(\n",
       "              (query): Linear(in_features=768, out_features=768, bias=True)\n",
       "              (key): Linear(in_features=768, out_features=768, bias=True)\n",
       "              (value): Linear(in_features=768, out_features=768, bias=True)\n",
       "              (dropout): Dropout(p=0.1, inplace=False)\n",
       "            )\n",
       "            (output): RobertaSelfOutput(\n",
       "              (dense): Linear(in_features=768, out_features=768, bias=True)\n",
       "              (LayerNorm): LayerNorm((768,), eps=1e-05, elementwise_affine=True)\n",
       "              (dropout): Dropout(p=0.1, inplace=False)\n",
       "            )\n",
       "          )\n",
       "          (intermediate): RobertaIntermediate(\n",
       "            (dense): Linear(in_features=768, out_features=3072, bias=True)\n",
       "            (intermediate_act_fn): GELUActivation()\n",
       "          )\n",
       "          (output): RobertaOutput(\n",
       "            (dense): Linear(in_features=3072, out_features=768, bias=True)\n",
       "            (LayerNorm): LayerNorm((768,), eps=1e-05, elementwise_affine=True)\n",
       "            (dropout): Dropout(p=0.1, inplace=False)\n",
       "          )\n",
       "        )\n",
       "        (3): RobertaLayer(\n",
       "          (attention): RobertaAttention(\n",
       "            (self): RobertaSelfAttention(\n",
       "              (query): Linear(in_features=768, out_features=768, bias=True)\n",
       "              (key): Linear(in_features=768, out_features=768, bias=True)\n",
       "              (value): Linear(in_features=768, out_features=768, bias=True)\n",
       "              (dropout): Dropout(p=0.1, inplace=False)\n",
       "            )\n",
       "            (output): RobertaSelfOutput(\n",
       "              (dense): Linear(in_features=768, out_features=768, bias=True)\n",
       "              (LayerNorm): LayerNorm((768,), eps=1e-05, elementwise_affine=True)\n",
       "              (dropout): Dropout(p=0.1, inplace=False)\n",
       "            )\n",
       "          )\n",
       "          (intermediate): RobertaIntermediate(\n",
       "            (dense): Linear(in_features=768, out_features=3072, bias=True)\n",
       "            (intermediate_act_fn): GELUActivation()\n",
       "          )\n",
       "          (output): RobertaOutput(\n",
       "            (dense): Linear(in_features=3072, out_features=768, bias=True)\n",
       "            (LayerNorm): LayerNorm((768,), eps=1e-05, elementwise_affine=True)\n",
       "            (dropout): Dropout(p=0.1, inplace=False)\n",
       "          )\n",
       "        )\n",
       "        (4): RobertaLayer(\n",
       "          (attention): RobertaAttention(\n",
       "            (self): RobertaSelfAttention(\n",
       "              (query): Linear(in_features=768, out_features=768, bias=True)\n",
       "              (key): Linear(in_features=768, out_features=768, bias=True)\n",
       "              (value): Linear(in_features=768, out_features=768, bias=True)\n",
       "              (dropout): Dropout(p=0.1, inplace=False)\n",
       "            )\n",
       "            (output): RobertaSelfOutput(\n",
       "              (dense): Linear(in_features=768, out_features=768, bias=True)\n",
       "              (LayerNorm): LayerNorm((768,), eps=1e-05, elementwise_affine=True)\n",
       "              (dropout): Dropout(p=0.1, inplace=False)\n",
       "            )\n",
       "          )\n",
       "          (intermediate): RobertaIntermediate(\n",
       "            (dense): Linear(in_features=768, out_features=3072, bias=True)\n",
       "            (intermediate_act_fn): GELUActivation()\n",
       "          )\n",
       "          (output): RobertaOutput(\n",
       "            (dense): Linear(in_features=3072, out_features=768, bias=True)\n",
       "            (LayerNorm): LayerNorm((768,), eps=1e-05, elementwise_affine=True)\n",
       "            (dropout): Dropout(p=0.1, inplace=False)\n",
       "          )\n",
       "        )\n",
       "        (5): RobertaLayer(\n",
       "          (attention): RobertaAttention(\n",
       "            (self): RobertaSelfAttention(\n",
       "              (query): Linear(in_features=768, out_features=768, bias=True)\n",
       "              (key): Linear(in_features=768, out_features=768, bias=True)\n",
       "              (value): Linear(in_features=768, out_features=768, bias=True)\n",
       "              (dropout): Dropout(p=0.1, inplace=False)\n",
       "            )\n",
       "            (output): RobertaSelfOutput(\n",
       "              (dense): Linear(in_features=768, out_features=768, bias=True)\n",
       "              (LayerNorm): LayerNorm((768,), eps=1e-05, elementwise_affine=True)\n",
       "              (dropout): Dropout(p=0.1, inplace=False)\n",
       "            )\n",
       "          )\n",
       "          (intermediate): RobertaIntermediate(\n",
       "            (dense): Linear(in_features=768, out_features=3072, bias=True)\n",
       "            (intermediate_act_fn): GELUActivation()\n",
       "          )\n",
       "          (output): RobertaOutput(\n",
       "            (dense): Linear(in_features=3072, out_features=768, bias=True)\n",
       "            (LayerNorm): LayerNorm((768,), eps=1e-05, elementwise_affine=True)\n",
       "            (dropout): Dropout(p=0.1, inplace=False)\n",
       "          )\n",
       "        )\n",
       "        (6): RobertaLayer(\n",
       "          (attention): RobertaAttention(\n",
       "            (self): RobertaSelfAttention(\n",
       "              (query): Linear(in_features=768, out_features=768, bias=True)\n",
       "              (key): Linear(in_features=768, out_features=768, bias=True)\n",
       "              (value): Linear(in_features=768, out_features=768, bias=True)\n",
       "              (dropout): Dropout(p=0.1, inplace=False)\n",
       "            )\n",
       "            (output): RobertaSelfOutput(\n",
       "              (dense): Linear(in_features=768, out_features=768, bias=True)\n",
       "              (LayerNorm): LayerNorm((768,), eps=1e-05, elementwise_affine=True)\n",
       "              (dropout): Dropout(p=0.1, inplace=False)\n",
       "            )\n",
       "          )\n",
       "          (intermediate): RobertaIntermediate(\n",
       "            (dense): Linear(in_features=768, out_features=3072, bias=True)\n",
       "            (intermediate_act_fn): GELUActivation()\n",
       "          )\n",
       "          (output): RobertaOutput(\n",
       "            (dense): Linear(in_features=3072, out_features=768, bias=True)\n",
       "            (LayerNorm): LayerNorm((768,), eps=1e-05, elementwise_affine=True)\n",
       "            (dropout): Dropout(p=0.1, inplace=False)\n",
       "          )\n",
       "        )\n",
       "        (7): RobertaLayer(\n",
       "          (attention): RobertaAttention(\n",
       "            (self): RobertaSelfAttention(\n",
       "              (query): Linear(in_features=768, out_features=768, bias=True)\n",
       "              (key): Linear(in_features=768, out_features=768, bias=True)\n",
       "              (value): Linear(in_features=768, out_features=768, bias=True)\n",
       "              (dropout): Dropout(p=0.1, inplace=False)\n",
       "            )\n",
       "            (output): RobertaSelfOutput(\n",
       "              (dense): Linear(in_features=768, out_features=768, bias=True)\n",
       "              (LayerNorm): LayerNorm((768,), eps=1e-05, elementwise_affine=True)\n",
       "              (dropout): Dropout(p=0.1, inplace=False)\n",
       "            )\n",
       "          )\n",
       "          (intermediate): RobertaIntermediate(\n",
       "            (dense): Linear(in_features=768, out_features=3072, bias=True)\n",
       "            (intermediate_act_fn): GELUActivation()\n",
       "          )\n",
       "          (output): RobertaOutput(\n",
       "            (dense): Linear(in_features=3072, out_features=768, bias=True)\n",
       "            (LayerNorm): LayerNorm((768,), eps=1e-05, elementwise_affine=True)\n",
       "            (dropout): Dropout(p=0.1, inplace=False)\n",
       "          )\n",
       "        )\n",
       "        (8): RobertaLayer(\n",
       "          (attention): RobertaAttention(\n",
       "            (self): RobertaSelfAttention(\n",
       "              (query): Linear(in_features=768, out_features=768, bias=True)\n",
       "              (key): Linear(in_features=768, out_features=768, bias=True)\n",
       "              (value): Linear(in_features=768, out_features=768, bias=True)\n",
       "              (dropout): Dropout(p=0.1, inplace=False)\n",
       "            )\n",
       "            (output): RobertaSelfOutput(\n",
       "              (dense): Linear(in_features=768, out_features=768, bias=True)\n",
       "              (LayerNorm): LayerNorm((768,), eps=1e-05, elementwise_affine=True)\n",
       "              (dropout): Dropout(p=0.1, inplace=False)\n",
       "            )\n",
       "          )\n",
       "          (intermediate): RobertaIntermediate(\n",
       "            (dense): Linear(in_features=768, out_features=3072, bias=True)\n",
       "            (intermediate_act_fn): GELUActivation()\n",
       "          )\n",
       "          (output): RobertaOutput(\n",
       "            (dense): Linear(in_features=3072, out_features=768, bias=True)\n",
       "            (LayerNorm): LayerNorm((768,), eps=1e-05, elementwise_affine=True)\n",
       "            (dropout): Dropout(p=0.1, inplace=False)\n",
       "          )\n",
       "        )\n",
       "        (9): RobertaLayer(\n",
       "          (attention): RobertaAttention(\n",
       "            (self): RobertaSelfAttention(\n",
       "              (query): Linear(in_features=768, out_features=768, bias=True)\n",
       "              (key): Linear(in_features=768, out_features=768, bias=True)\n",
       "              (value): Linear(in_features=768, out_features=768, bias=True)\n",
       "              (dropout): Dropout(p=0.1, inplace=False)\n",
       "            )\n",
       "            (output): RobertaSelfOutput(\n",
       "              (dense): Linear(in_features=768, out_features=768, bias=True)\n",
       "              (LayerNorm): LayerNorm((768,), eps=1e-05, elementwise_affine=True)\n",
       "              (dropout): Dropout(p=0.1, inplace=False)\n",
       "            )\n",
       "          )\n",
       "          (intermediate): RobertaIntermediate(\n",
       "            (dense): Linear(in_features=768, out_features=3072, bias=True)\n",
       "            (intermediate_act_fn): GELUActivation()\n",
       "          )\n",
       "          (output): RobertaOutput(\n",
       "            (dense): Linear(in_features=3072, out_features=768, bias=True)\n",
       "            (LayerNorm): LayerNorm((768,), eps=1e-05, elementwise_affine=True)\n",
       "            (dropout): Dropout(p=0.1, inplace=False)\n",
       "          )\n",
       "        )\n",
       "        (10): RobertaLayer(\n",
       "          (attention): RobertaAttention(\n",
       "            (self): RobertaSelfAttention(\n",
       "              (query): Linear(in_features=768, out_features=768, bias=True)\n",
       "              (key): Linear(in_features=768, out_features=768, bias=True)\n",
       "              (value): Linear(in_features=768, out_features=768, bias=True)\n",
       "              (dropout): Dropout(p=0.1, inplace=False)\n",
       "            )\n",
       "            (output): RobertaSelfOutput(\n",
       "              (dense): Linear(in_features=768, out_features=768, bias=True)\n",
       "              (LayerNorm): LayerNorm((768,), eps=1e-05, elementwise_affine=True)\n",
       "              (dropout): Dropout(p=0.1, inplace=False)\n",
       "            )\n",
       "          )\n",
       "          (intermediate): RobertaIntermediate(\n",
       "            (dense): Linear(in_features=768, out_features=3072, bias=True)\n",
       "            (intermediate_act_fn): GELUActivation()\n",
       "          )\n",
       "          (output): RobertaOutput(\n",
       "            (dense): Linear(in_features=3072, out_features=768, bias=True)\n",
       "            (LayerNorm): LayerNorm((768,), eps=1e-05, elementwise_affine=True)\n",
       "            (dropout): Dropout(p=0.1, inplace=False)\n",
       "          )\n",
       "        )\n",
       "        (11): RobertaLayer(\n",
       "          (attention): RobertaAttention(\n",
       "            (self): RobertaSelfAttention(\n",
       "              (query): Linear(in_features=768, out_features=768, bias=True)\n",
       "              (key): Linear(in_features=768, out_features=768, bias=True)\n",
       "              (value): Linear(in_features=768, out_features=768, bias=True)\n",
       "              (dropout): Dropout(p=0.1, inplace=False)\n",
       "            )\n",
       "            (output): RobertaSelfOutput(\n",
       "              (dense): Linear(in_features=768, out_features=768, bias=True)\n",
       "              (LayerNorm): LayerNorm((768,), eps=1e-05, elementwise_affine=True)\n",
       "              (dropout): Dropout(p=0.1, inplace=False)\n",
       "            )\n",
       "          )\n",
       "          (intermediate): RobertaIntermediate(\n",
       "            (dense): Linear(in_features=768, out_features=3072, bias=True)\n",
       "            (intermediate_act_fn): GELUActivation()\n",
       "          )\n",
       "          (output): RobertaOutput(\n",
       "            (dense): Linear(in_features=3072, out_features=768, bias=True)\n",
       "            (LayerNorm): LayerNorm((768,), eps=1e-05, elementwise_affine=True)\n",
       "            (dropout): Dropout(p=0.1, inplace=False)\n",
       "          )\n",
       "        )\n",
       "      )\n",
       "    )\n",
       "    (pooler): RobertaPooler(\n",
       "      (dense): Linear(in_features=768, out_features=768, bias=True)\n",
       "      (activation): Tanh()\n",
       "    )\n",
       "  )\n",
       "  (linear): Linear(in_features=768, out_features=768, bias=True)\n",
       "  (sigmoid): Sigmoid()\n",
       "  (bce_loss): BCELoss()\n",
       ")"
      ]
     },
     "execution_count": 3,
     "metadata": {},
     "output_type": "execute_result"
    }
   ],
   "source": [
    "%%time\n",
    "\n",
    "\n",
    "model_name = \"microsoft/codebert-base\"\n",
    "tokenizer = AutoTokenizer.from_pretrained(model_name)\n",
    "batch_size = 8\n",
    "\n",
    "def tokenize(code):\n",
    "    return tokenizer(code, return_tensors=\"pt\", truncation=True, padding=\"longest\", max_length=512)\n",
    "\n",
    "def collate_fn(items):\n",
    "    x = {}\n",
    "\n",
    "    code1, code2, labels = [], [], []\n",
    "    for item in items:\n",
    "        code1.append(item['code1'])\n",
    "        code2.append(item['code2'])\n",
    "        labels.append(item['similar'])\n",
    "\n",
    "    x['code1'] = tokenize(code1)\n",
    "    x['code2'] = tokenize(code2)\n",
    "    x['labels'] = torch.tensor(labels, dtype=torch.float32)\n",
    "\n",
    "    return x\n",
    "\n",
    "\n",
    "\n",
    "ckpt_path = '/mnt/ssd/696ds/checkpoints/0326_codebert-base_lr3.0e-07-w5000/step200000.pt'\n",
    "# model = CloneDetector(model_name, device)\n",
    "model = torch.load(ckpt_path).to(device)\n",
    "model.device = device\n",
    "model.train(False)"
   ]
  },
  {
   "cell_type": "markdown",
   "id": "0c48094e",
   "metadata": {},
   "source": [
    "# Find threshold using val data from a different fold (fold 5/5)"
   ]
  },
  {
   "cell_type": "code",
   "execution_count": 4,
   "id": "8cce09b1",
   "metadata": {
    "execution": {
     "iopub.execute_input": "2023-04-04T00:26:12.029076Z",
     "iopub.status.busy": "2023-04-04T00:26:12.028900Z",
     "iopub.status.idle": "2023-04-04T00:26:12.203400Z",
     "shell.execute_reply": "2023-04-04T00:26:12.202845Z"
    }
   },
   "outputs": [
    {
     "name": "stdout",
     "output_type": "stream",
     "text": [
      "CPU times: user 78 ms, sys: 94.8 ms, total: 173 ms\n",
      "Wall time: 171 ms\n"
     ]
    }
   ],
   "source": [
    "%%time\n",
    "batch_size = 8\n",
    "n_th = 30000\n",
    "\n",
    "dataset = load_from_disk(\"/mnt/ssd/696ds_data/PoolC/original/5-fold-clone-detection-600k-5fold\")[\"val\"]\n",
    "dataloader = DataLoader(dataset, batch_size=batch_size, shuffle=True, collate_fn=collate_fn)"
   ]
  },
  {
   "cell_type": "code",
   "execution_count": 5,
   "id": "213e7159",
   "metadata": {
    "execution": {
     "iopub.execute_input": "2023-04-04T00:26:12.213803Z",
     "iopub.status.busy": "2023-04-04T00:26:12.213594Z",
     "iopub.status.idle": "2023-04-04T00:31:55.182786Z",
     "shell.execute_reply": "2023-04-04T00:31:55.182240Z"
    },
    "scrolled": true
   },
   "outputs": [
    {
     "data": {
      "application/vnd.jupyter.widget-view+json": {
       "model_id": "53682583af744c3886ef4aecf43437d3",
       "version_major": 2,
       "version_minor": 0
      },
      "text/plain": [
       "  0%|          | 0/3750 [00:00<?, ?it/s]"
      ]
     },
     "metadata": {},
     "output_type": "display_data"
    },
    {
     "name": "stdout",
     "output_type": "stream",
     "text": [
      "0.8031601309776306\n",
      "CPU times: user 7min 9s, sys: 25.5 s, total: 7min 34s\n",
      "Wall time: 5min 42s\n"
     ]
    }
   ],
   "source": [
    "%%time\n",
    "scores_list, labels_list = [], []\n",
    "pbar = tqdm(dataloader, total=(n_th+batch_size-1) // batch_size)\n",
    "for i, batch in enumerate(pbar):\n",
    "        \n",
    "    if batch_size * i >= n_th:\n",
    "        break\n",
    "    \n",
    "    labels = batch['labels']\n",
    "    \n",
    "    scores = model(batch).to('cpu')\n",
    "    \n",
    "    scores, labels = scores.tolist(), labels.tolist()\n",
    "    \n",
    "    scores_list += scores if type(scores) == list else [scores]\n",
    "    labels_list += labels if type(labels) == list else [labels]\n",
    "    \n",
    "scores, labels = np.array(scores_list), np.array(labels_list)\n",
    "threshold = find_threshold(scores, labels)\n",
    "acc, f1 = accuracy(scores, labels, threshold), f1_score(scores, labels, threshold)\n",
    "print(threshold)"
   ]
  },
  {
   "cell_type": "code",
   "execution_count": 6,
   "id": "2aae74cc",
   "metadata": {
    "execution": {
     "iopub.execute_input": "2023-04-04T00:31:55.186928Z",
     "iopub.status.busy": "2023-04-04T00:31:55.186332Z",
     "iopub.status.idle": "2023-04-04T00:31:55.191532Z",
     "shell.execute_reply": "2023-04-04T00:31:55.190414Z"
    }
   },
   "outputs": [],
   "source": [
    "# threshold = 0.8414617776870728"
   ]
  },
  {
   "cell_type": "markdown",
   "id": "405b9ce9",
   "metadata": {},
   "source": [
    "# Read Augmented Dataset"
   ]
  },
  {
   "cell_type": "code",
   "execution_count": 7,
   "id": "f4508bb0",
   "metadata": {
    "execution": {
     "iopub.execute_input": "2023-04-04T00:31:55.194770Z",
     "iopub.status.busy": "2023-04-04T00:31:55.194210Z",
     "iopub.status.idle": "2023-04-04T00:32:00.186747Z",
     "shell.execute_reply": "2023-04-04T00:32:00.186156Z"
    }
   },
   "outputs": [
    {
     "name": "stdout",
     "output_type": "stream",
     "text": [
      "[\"augmented_['0.5'].json\", \"augmented_['0.1', '0.2', '0.3', '0.4', '0.5', '0.6', '0.7', '0.8', '0.9', '1.0'].json\"]\n",
      "<class 'dict'>\n"
     ]
    }
   ],
   "source": [
    "save_dir = \"/mnt/ssd/696ds_data/PoolC/train/032923/\"\n",
    "print(os.listdir(save_dir))\n",
    "save_path = os.path.join(save_dir, \"augmented_['0.1', '0.2', '0.3', '0.4', '0.5', '0.6', '0.7', '0.8', '0.9', '1.0'].json\")\n",
    "\n",
    "p2index = {f'0.{i+1}': i for i in range(9)}\n",
    "p2index['1.0'] = 9\n",
    "# p2index = {\"0.5\": 0}\n",
    "\n",
    "with open(save_path, 'r') as f:\n",
    "    json_data = json.load(f)\n",
    "    print(type(json_data))\n",
    "    \n",
    "data = json_data['data']"
   ]
  },
  {
   "cell_type": "code",
   "execution_count": 8,
   "id": "1de2ad09",
   "metadata": {
    "execution": {
     "iopub.execute_input": "2023-04-04T00:32:00.190485Z",
     "iopub.status.busy": "2023-04-04T00:32:00.190310Z",
     "iopub.status.idle": "2023-04-04T00:32:00.195664Z",
     "shell.execute_reply": "2023-04-04T00:32:00.194523Z"
    }
   },
   "outputs": [
    {
     "name": "stdout",
     "output_type": "stream",
     "text": [
      "{'code1': 'n, m, l = map(int, input().split())\\na = [list(map(int, input().split())) for _ in range(n)]\\nb = [list(map(int, input().split())) for _ in range(m)]\\nc = [[0 for i in range(l)] for j in range(n)]\\n\\nfor i in range(n):\\n    for j in range(l):\\n        for k in range(m):\\n            c[i][j] += a[i][k] * b[k][j]\\nfor i in range(n):\\n    print(\" \".join(map(str, c[i])))\\n\\n', 'code2': \"def main():\\n\\n    N, D = map(int, input().split())\\n    ans = 0\\n    for _ in range(N):\\n        x, y = map(int, input().split())\\n        if x*x + y* y <= D*D:\\n            ans += 1\\n    return ans\\n\\nif __name__ == '__main__':\\n    print(main())\\n\", 'similar': 0, 'pair_id': None, 'question_pair_id': 3686761737148.0, 'code1_group': 60, 'code2_group': 96}\n"
     ]
    }
   ],
   "source": [
    "print(json_data['data'][0]['original'])"
   ]
  },
  {
   "cell_type": "markdown",
   "id": "60a8966d",
   "metadata": {},
   "source": [
    "# Evaluate on the PoolC dataset (positive only)"
   ]
  },
  {
   "cell_type": "code",
   "execution_count": 9,
   "id": "969f09e0",
   "metadata": {
    "execution": {
     "iopub.execute_input": "2023-04-04T00:32:00.199199Z",
     "iopub.status.busy": "2023-04-04T00:32:00.198750Z",
     "iopub.status.idle": "2023-04-04T00:32:00.221540Z",
     "shell.execute_reply": "2023-04-04T00:32:00.220306Z"
    }
   },
   "outputs": [],
   "source": [
    "def func(datapoints):\n",
    "        \n",
    "    dataset = AugmentedDataset(datapoints)\n",
    "    dataloader = DataLoader(dataset, batch_size=batch_size, shuffle=False, collate_fn=collate_fn)\n",
    "    scores_list = []\n",
    "    labels_list = []\n",
    "    for j, batch in enumerate(dataloader):\n",
    "\n",
    "        labels = batch['labels']\n",
    "        scores = model(batch).to('cpu')\n",
    "\n",
    "        labels, scores = labels.tolist(), scores.tolist()\n",
    "        labels_list += labels if type(labels) == list else [labels]\n",
    "        scores_list += scores if type(scores) == list else [scores]\n",
    "\n",
    "\n",
    "    scores = np.array(scores_list)\n",
    "    labels = np.array(labels_list)\n",
    "    return np.array(scores_list), np.array(labels_list)\n",
    "\n",
    "def original_scores(n):\n",
    "    dataset1 = []\n",
    "    for i in range(len(data)):\n",
    "        if len(dataset1) == n:\n",
    "            break\n",
    "            \n",
    "        dataset1.append(\n",
    "            {\n",
    "                'code1': data[i]['original']['code1'],\n",
    "                'code2': data[i]['original']['code2'],\n",
    "                'similar': data[i]['original']['similar']\n",
    "            }\n",
    "        )\n",
    "\n",
    "    scores1, labels1 = func(dataset1)\n",
    "    acc1 = accuracy(scores1, labels1, threshold)\n",
    "    f1_1 = f1_score(scores1, labels1, threshold)\n",
    "    \n",
    "    \n",
    "    results = {\n",
    "        'Accuracy': acc1,\n",
    "        'F1': f1_1,\n",
    "        'Mean': np.mean(scores1),\n",
    "        'Standard Deviation': np.std(scores1),\n",
    "        'Same Prediction': 1.0,\n",
    "        'Mean Absolute Difference': 0.0,\n",
    "        'Root Mean Squared Difference': 0.0\n",
    "        \n",
    "    }\n",
    "    \n",
    "    return scores1, results\n",
    "    \n",
    "\n",
    "def augmented_scores(p, n, scores1):\n",
    "    index = p2index[p]\n",
    "    dataset2 = []\n",
    "    for i in range(len(data)):\n",
    "        if len(dataset2) == n:\n",
    "            break\n",
    "            \n",
    "        dataset2.append(\n",
    "            {\n",
    "                'code1': data[i]['augmented'][p2index[p]]['code1'],\n",
    "                'code2': data[i]['original']['code2'],\n",
    "                'similar': data[i]['original']['similar']\n",
    "            }\n",
    "        )\n",
    "            \n",
    "    scores, labels = func(dataset2)\n",
    "\n",
    "    acc = accuracy(scores, labels, threshold)\n",
    "    f1 = f1_score(scores, labels, threshold)\n",
    "\n",
    "    \n",
    "    results = {\n",
    "        'Accuracy': acc,\n",
    "        'F1': f1,\n",
    "        'Mean': np.mean(scores),\n",
    "        'Standard Deviation': np.std(scores),\n",
    "        'Same Prediction': np.mean((scores1 > threshold) == (scores > threshold)),\n",
    "        'Mean Absolute Difference': np.mean(np.abs(scores1-scores)),\n",
    "        'Root Mean Squared Difference': np.sqrt(np.mean((scores1 - scores) ** 2))\n",
    "        \n",
    "    }\n",
    "    \n",
    "    \n",
    "    print('p:', p)\n",
    "    for key, value in results.items():\n",
    "        print(f\"{key:<30}: {value:>3.3f}\")\n",
    "    print()\n",
    "    return results"
   ]
  },
  {
   "cell_type": "code",
   "execution_count": 10,
   "id": "ca20dfc9",
   "metadata": {
    "execution": {
     "iopub.execute_input": "2023-04-04T00:32:00.225170Z",
     "iopub.status.busy": "2023-04-04T00:32:00.224867Z",
     "iopub.status.idle": "2023-04-04T01:33:24.276531Z",
     "shell.execute_reply": "2023-04-04T01:33:24.275407Z"
    }
   },
   "outputs": [
    {
     "name": "stdout",
     "output_type": "stream",
     "text": [
      "p: 0.1\n",
      "Accuracy                      : 0.887\n",
      "F1                            : 0.895\n",
      "Mean                          : 1.656\n",
      "Standard Deviation            : 1.988\n",
      "Same Prediction               : 0.992\n",
      "Mean Absolute Difference      : 0.054\n",
      "Root Mean Squared Difference  : 0.131\n",
      "\n",
      "p: 0.2\n",
      "Accuracy                      : 0.886\n",
      "F1                            : 0.895\n",
      "Mean                          : 1.649\n",
      "Standard Deviation            : 1.982\n",
      "Same Prediction               : 0.988\n",
      "Mean Absolute Difference      : 0.087\n",
      "Root Mean Squared Difference  : 0.179\n",
      "\n",
      "p: 0.3\n",
      "Accuracy                      : 0.885\n",
      "F1                            : 0.894\n",
      "Mean                          : 1.637\n",
      "Standard Deviation            : 1.974\n",
      "Same Prediction               : 0.983\n",
      "Mean Absolute Difference      : 0.119\n",
      "Root Mean Squared Difference  : 0.239\n",
      "\n",
      "p: 0.4\n",
      "Accuracy                      : 0.884\n",
      "F1                            : 0.892\n",
      "Mean                          : 1.624\n",
      "Standard Deviation            : 1.966\n",
      "Same Prediction               : 0.978\n",
      "Mean Absolute Difference      : 0.149\n",
      "Root Mean Squared Difference  : 0.297\n",
      "\n",
      "p: 0.5\n",
      "Accuracy                      : 0.883\n",
      "F1                            : 0.892\n",
      "Mean                          : 1.612\n",
      "Standard Deviation            : 1.959\n",
      "Same Prediction               : 0.974\n",
      "Mean Absolute Difference      : 0.177\n",
      "Root Mean Squared Difference  : 0.351\n",
      "\n",
      "p: 0.6\n",
      "Accuracy                      : 0.881\n",
      "F1                            : 0.889\n",
      "Mean                          : 1.600\n",
      "Standard Deviation            : 1.953\n",
      "Same Prediction               : 0.969\n",
      "Mean Absolute Difference      : 0.204\n",
      "Root Mean Squared Difference  : 0.399\n",
      "\n",
      "p: 0.7\n",
      "Accuracy                      : 0.879\n",
      "F1                            : 0.888\n",
      "Mean                          : 1.584\n",
      "Standard Deviation            : 1.946\n",
      "Same Prediction               : 0.963\n",
      "Mean Absolute Difference      : 0.236\n",
      "Root Mean Squared Difference  : 0.459\n",
      "\n",
      "p: 0.8\n",
      "Accuracy                      : 0.878\n",
      "F1                            : 0.886\n",
      "Mean                          : 1.570\n",
      "Standard Deviation            : 1.939\n",
      "Same Prediction               : 0.957\n",
      "Mean Absolute Difference      : 0.263\n",
      "Root Mean Squared Difference  : 0.505\n",
      "\n",
      "p: 0.9\n",
      "Accuracy                      : 0.875\n",
      "F1                            : 0.883\n",
      "Mean                          : 1.554\n",
      "Standard Deviation            : 1.934\n",
      "Same Prediction               : 0.952\n",
      "Mean Absolute Difference      : 0.291\n",
      "Root Mean Squared Difference  : 0.558\n",
      "\n",
      "p: 1.0\n",
      "Accuracy                      : 0.870\n",
      "F1                            : 0.878\n",
      "Mean                          : 1.539\n",
      "Standard Deviation            : 1.928\n",
      "Same Prediction               : 0.946\n",
      "Mean Absolute Difference      : 0.320\n",
      "Root Mean Squared Difference  : 0.609\n",
      "\n",
      "CPU times: user 1h 16min 35s, sys: 4min 30s, total: 1h 21min 5s\n",
      "Wall time: 1h 1min 24s\n"
     ]
    }
   ],
   "source": [
    "%%time\n",
    "n_pc = 30000\n",
    "results = {}\n",
    "\n",
    "scores1, results1 = original_scores(n_pc)\n",
    "results['0.0'] = results1\n",
    "\n",
    "targets = sorted(list(p2index.keys()), key=lambda x:float(x))\n",
    "# targets = ['0.2', '0.5', '0.7', '1.0']\n",
    "for p in targets:\n",
    "    results[p] = augmented_scores(p, n_pc, scores1)"
   ]
  },
  {
   "cell_type": "code",
   "execution_count": 11,
   "id": "09232b66",
   "metadata": {
    "execution": {
     "iopub.execute_input": "2023-04-04T01:33:24.280723Z",
     "iopub.status.busy": "2023-04-04T01:33:24.279919Z",
     "iopub.status.idle": "2023-04-04T01:33:24.285423Z",
     "shell.execute_reply": "2023-04-04T01:33:24.284363Z"
    }
   },
   "outputs": [],
   "source": [
    "\n",
    "targets = [\"0.0\"] + targets\n",
    "x = [float(target) for target in targets]"
   ]
  },
  {
   "cell_type": "code",
   "execution_count": 12,
   "id": "c6194710",
   "metadata": {
    "execution": {
     "iopub.execute_input": "2023-04-04T01:33:24.289337Z",
     "iopub.status.busy": "2023-04-04T01:33:24.288663Z",
     "iopub.status.idle": "2023-04-04T01:33:24.422546Z",
     "shell.execute_reply": "2023-04-04T01:33:24.421525Z"
    },
    "scrolled": false
   },
   "outputs": [
    {
     "data": {
      "image/png": "[encoded data removed]",
      "text/plain": [
       "<Figure size 432x288 with 1 Axes>"
      ]
     },
     "metadata": {
      "needs_background": "light"
     },
     "output_type": "display_data"
    }
   ],
   "source": [
    "\n",
    "\n",
    "plt.plot(x, [results[p]['Accuracy'] for p in targets], label='Accuracy')\n",
    "plt.plot(x, [results[p]['F1'] for p in targets], label='F1')\n",
    "plt.xlabel('temperature')\n",
    "plt.xlim((0.0, 1.0))\n",
    "plt.legend()\n",
    "plt.show()"
   ]
  },
  {
   "cell_type": "code",
   "execution_count": 13,
   "id": "9ba7a92b",
   "metadata": {
    "execution": {
     "iopub.execute_input": "2023-04-04T01:33:24.426760Z",
     "iopub.status.busy": "2023-04-04T01:33:24.426051Z",
     "iopub.status.idle": "2023-04-04T01:33:24.430679Z",
     "shell.execute_reply": "2023-04-04T01:33:24.429601Z"
    }
   },
   "outputs": [],
   "source": [
    "# precison, only positive"
   ]
  },
  {
   "cell_type": "code",
   "execution_count": 14,
   "id": "4c18d2d5",
   "metadata": {
    "execution": {
     "iopub.execute_input": "2023-04-04T01:33:24.435896Z",
     "iopub.status.busy": "2023-04-04T01:33:24.435135Z",
     "iopub.status.idle": "2023-04-04T01:33:24.525133Z",
     "shell.execute_reply": "2023-04-04T01:33:24.524636Z"
    }
   },
   "outputs": [
    {
     "data": {
      "image/png": "[encoded data removed]",
      "text/plain": [
       "<Figure size 432x288 with 1 Axes>"
      ]
     },
     "metadata": {
      "needs_background": "light"
     },
     "output_type": "display_data"
    }
   ],
   "source": [
    "plt.plot(x, [results[p]['Same Prediction'] for p in targets], label='Same Prediction')\n",
    "plt.xlabel('temperature')\n",
    "plt.xlim((0.0, 1.0))\n",
    "plt.legend()\n",
    "plt.show()"
   ]
  },
  {
   "cell_type": "code",
   "execution_count": 15,
   "id": "d11c4325",
   "metadata": {
    "execution": {
     "iopub.execute_input": "2023-04-04T01:33:24.528979Z",
     "iopub.status.busy": "2023-04-04T01:33:24.528827Z",
     "iopub.status.idle": "2023-04-04T01:33:24.607561Z",
     "shell.execute_reply": "2023-04-04T01:33:24.607018Z"
    }
   },
   "outputs": [
    {
     "data": {
      "image/png": "[encoded data removed]",
      "text/plain": [
       "<Figure size 432x288 with 1 Axes>"
      ]
     },
     "metadata": {
      "needs_background": "light"
     },
     "output_type": "display_data"
    }
   ],
   "source": [
    "\n",
    "plt.plot(x, [results[p]['Mean'] for p in targets], label='Mean')\n",
    "plt.plot(x, [results[p]['Standard Deviation'] for p in targets], label='Standard Deviation')\n",
    "plt.xlabel('temperature')\n",
    "plt.xlim((0.0, 1.0))\n",
    "plt.legend()\n",
    "plt.show()\n"
   ]
  },
  {
   "cell_type": "code",
   "execution_count": 16,
   "id": "9fdf3fd4",
   "metadata": {
    "execution": {
     "iopub.execute_input": "2023-04-04T01:33:24.611394Z",
     "iopub.status.busy": "2023-04-04T01:33:24.610619Z",
     "iopub.status.idle": "2023-04-04T01:33:24.708485Z",
     "shell.execute_reply": "2023-04-04T01:33:24.707221Z"
    }
   },
   "outputs": [
    {
     "data": {
      "image/png": "[encoded data removed]",
      "text/plain": [
       "<Figure size 432x288 with 1 Axes>"
      ]
     },
     "metadata": {
      "needs_background": "light"
     },
     "output_type": "display_data"
    }
   ],
   "source": [
    "\n",
    "plt.plot(x, [results[p]['Mean Absolute Difference'] for p in targets], label='Mean Absolute Difference')\n",
    "plt.plot(x, [results[p]['Root Mean Squared Difference'] for p in targets], label='Root Mean Squared Difference')\n",
    "plt.xlabel('temperature')\n",
    "plt.xlim((0.0, 1.0))\n",
    "plt.legend()\n",
    "plt.show()"
   ]
  }
 ],
 "metadata": {
  "kernelspec": {
   "display_name": "Python(rl)",
   "language": "python",
   "name": "rl"
  },
  "language_info": {
   "codemirror_mode": {
    "name": "ipython",
    "version": 3
   },
   "file_extension": ".py",
   "mimetype": "text/x-python",
   "name": "python",
   "nbconvert_exporter": "python",
   "pygments_lexer": "ipython3",
   "version": "3.8.12"
  },
  "varInspector": {
   "cols": {
    "lenName": 16,
    "lenType": 16,
    "lenVar": 40
   },
   "kernels_config": {
    "python": {
     "delete_cmd_postfix": "",
     "delete_cmd_prefix": "del ",
     "library": "var_list.py",
     "varRefreshCmd": "print(var_dic_list())"
    },
    "r": {
     "delete_cmd_postfix": ") ",
     "delete_cmd_prefix": "rm(",
     "library": "var_list.r",
     "varRefreshCmd": "cat(var_dic_list()) "
    }
   },
   "types_to_exclude": [
    "module",
    "function",
    "builtin_function_or_method",
    "instance",
    "_Feature"
   ],
   "window_display": false
  },
  "widgets": {
   "application/vnd.jupyter.widget-state+json": {
    "state": {
     "01057b3dfd624124ab19d36810856082": {
      "model_module": "@jupyter-widgets/controls",
      "model_module_version": "2.0.0",
      "model_name": "HTMLStyleModel",
      "state": {
       "_model_module": "@jupyter-widgets/controls",
       "_model_module_version": "2.0.0",
       "_model_name": "HTMLStyleModel",
       "_view_count": null,
       "_view_module": "@jupyter-widgets/base",
       "_view_module_version": "2.0.0",
       "_view_name": "StyleView",
       "background": null,
       "description_width": "",
       "font_size": null,
       "text_color": null
      }
     },
     "1098731845384453b8af012d45e161c6": {
      "model_module": "@jupyter-widgets/controls",
      "model_module_version": "2.0.0",
      "model_name": "HTMLModel",
      "state": {
       "_dom_classes": [],
       "_model_module": "@jupyter-widgets/controls",
       "_model_module_version": "2.0.0",
       "_model_name": "HTMLModel",
       "_view_count": null,
       "_view_module": "@jupyter-widgets/controls",
       "_view_module_version": "2.0.0",
       "_view_name": "HTMLView",
       "description": "",
       "description_allow_html": false,
       "layout": "IPY_MODEL_b3294eb6ba22456099287d6f20757116",
       "placeholder": "​",
       "style": "IPY_MODEL_01057b3dfd624124ab19d36810856082",
       "tabbable": null,
       "tooltip": null,
       "value": " 3750/3750 [05:42&lt;00:00, 12.01it/s]"
      }
     },
     "21572be366f04311993b953e7aabb810": {
      "model_module": "@jupyter-widgets/base",
      "model_module_version": "2.0.0",
      "model_name": "LayoutModel",
      "state": {
       "_model_module": "@jupyter-widgets/base",
       "_model_module_version": "2.0.0",
       "_model_name": "LayoutModel",
       "_view_count": null,
       "_view_module": "@jupyter-widgets/base",
       "_view_module_version": "2.0.0",
       "_view_name": "LayoutView",
       "align_content": null,
       "align_items": null,
       "align_self": null,
       "border_bottom": null,
       "border_left": null,
       "border_right": null,
       "border_top": null,
       "bottom": null,
       "display": null,
       "flex": null,
       "flex_flow": null,
       "grid_area": null,
       "grid_auto_columns": null,
       "grid_auto_flow": null,
       "grid_auto_rows": null,
       "grid_column": null,
       "grid_gap": null,
       "grid_row": null,
       "grid_template_areas": null,
       "grid_template_columns": null,
       "grid_template_rows": null,
       "height": null,
       "justify_content": null,
       "justify_items": null,
       "left": null,
       "margin": null,
       "max_height": null,
       "max_width": null,
       "min_height": null,
       "min_width": null,
       "object_fit": null,
       "object_position": null,
       "order": null,
       "overflow": null,
       "padding": null,
       "right": null,
       "top": null,
       "visibility": null,
       "width": null
      }
     },
     "32634a53e3934937a150a2dd2c30608f": {
      "model_module": "@jupyter-widgets/controls",
      "model_module_version": "2.0.0",
      "model_name": "HTMLStyleModel",
      "state": {
       "_model_module": "@jupyter-widgets/controls",
       "_model_module_version": "2.0.0",
       "_model_name": "HTMLStyleModel",
       "_view_count": null,
       "_view_module": "@jupyter-widgets/base",
       "_view_module_version": "2.0.0",
       "_view_name": "StyleView",
       "background": null,
       "description_width": "",
       "font_size": null,
       "text_color": null
      }
     },
     "53682583af744c3886ef4aecf43437d3": {
      "model_module": "@jupyter-widgets/controls",
      "model_module_version": "2.0.0",
      "model_name": "HBoxModel",
      "state": {
       "_dom_classes": [],
       "_model_module": "@jupyter-widgets/controls",
       "_model_module_version": "2.0.0",
       "_model_name": "HBoxModel",
       "_view_count": null,
       "_view_module": "@jupyter-widgets/controls",
       "_view_module_version": "2.0.0",
       "_view_name": "HBoxView",
       "box_style": "",
       "children": [
        "IPY_MODEL_ade16ce6b99d44928772cb797591e7d3",
        "IPY_MODEL_7eb8ddc138b24321b770bf56796b5ce1",
        "IPY_MODEL_1098731845384453b8af012d45e161c6"
       ],
       "layout": "IPY_MODEL_ec78acd7935f4a2286e5ee221ab3bc8e",
       "tabbable": null,
       "tooltip": null
      }
     },
     "7eb8ddc138b24321b770bf56796b5ce1": {
      "model_module": "@jupyter-widgets/controls",
      "model_module_version": "2.0.0",
      "model_name": "FloatProgressModel",
      "state": {
       "_dom_classes": [],
       "_model_module": "@jupyter-widgets/controls",
       "_model_module_version": "2.0.0",
       "_model_name": "FloatProgressModel",
       "_view_count": null,
       "_view_module": "@jupyter-widgets/controls",
       "_view_module_version": "2.0.0",
       "_view_name": "ProgressView",
       "bar_style": "danger",
       "description": "",
       "description_allow_html": false,
       "layout": "IPY_MODEL_21572be366f04311993b953e7aabb810",
       "max": 3750.0,
       "min": 0.0,
       "orientation": "horizontal",
       "style": "IPY_MODEL_eff960f1324b49ca91789136df3c5eb7",
       "tabbable": null,
       "tooltip": null,
       "value": 3750.0
      }
     },
     "82deb6eb63fb40f8852de1f8ab1b5958": {
      "model_module": "@jupyter-widgets/base",
      "model_module_version": "2.0.0",
      "model_name": "LayoutModel",
      "state": {
       "_model_module": "@jupyter-widgets/base",
       "_model_module_version": "2.0.0",
       "_model_name": "LayoutModel",
       "_view_count": null,
       "_view_module": "@jupyter-widgets/base",
       "_view_module_version": "2.0.0",
       "_view_name": "LayoutView",
       "align_content": null,
       "align_items": null,
       "align_self": null,
       "border_bottom": null,
       "border_left": null,
       "border_right": null,
       "border_top": null,
       "bottom": null,
       "display": null,
       "flex": null,
       "flex_flow": null,
       "grid_area": null,
       "grid_auto_columns": null,
       "grid_auto_flow": null,
       "grid_auto_rows": null,
       "grid_column": null,
       "grid_gap": null,
       "grid_row": null,
       "grid_template_areas": null,
       "grid_template_columns": null,
       "grid_template_rows": null,
       "height": null,
       "justify_content": null,
       "justify_items": null,
       "left": null,
       "margin": null,
       "max_height": null,
       "max_width": null,
       "min_height": null,
       "min_width": null,
       "object_fit": null,
       "object_position": null,
       "order": null,
       "overflow": null,
       "padding": null,
       "right": null,
       "top": null,
       "visibility": null,
       "width": null
      }
     },
     "ade16ce6b99d44928772cb797591e7d3": {
      "model_module": "@jupyter-widgets/controls",
      "model_module_version": "2.0.0",
      "model_name": "HTMLModel",
      "state": {
       "_dom_classes": [],
       "_model_module": "@jupyter-widgets/controls",
       "_model_module_version": "2.0.0",
       "_model_name": "HTMLModel",
       "_view_count": null,
       "_view_module": "@jupyter-widgets/controls",
       "_view_module_version": "2.0.0",
       "_view_name": "HTMLView",
       "description": "",
       "description_allow_html": false,
       "layout": "IPY_MODEL_82deb6eb63fb40f8852de1f8ab1b5958",
       "placeholder": "​",
       "style": "IPY_MODEL_32634a53e3934937a150a2dd2c30608f",
       "tabbable": null,
       "tooltip": null,
       "value": "100%"
      }
     },
     "b3294eb6ba22456099287d6f20757116": {
      "model_module": "@jupyter-widgets/base",
      "model_module_version": "2.0.0",
      "model_name": "LayoutModel",
      "state": {
       "_model_module": "@jupyter-widgets/base",
       "_model_module_version": "2.0.0",
       "_model_name": "LayoutModel",
       "_view_count": null,
       "_view_module": "@jupyter-widgets/base",
       "_view_module_version": "2.0.0",
       "_view_name": "LayoutView",
       "align_content": null,
       "align_items": null,
       "align_self": null,
       "border_bottom": null,
       "border_left": null,
       "border_right": null,
       "border_top": null,
       "bottom": null,
       "display": null,
       "flex": null,
       "flex_flow": null,
       "grid_area": null,
       "grid_auto_columns": null,
       "grid_auto_flow": null,
       "grid_auto_rows": null,
       "grid_column": null,
       "grid_gap": null,
       "grid_row": null,
       "grid_template_areas": null,
       "grid_template_columns": null,
       "grid_template_rows": null,
       "height": null,
       "justify_content": null,
       "justify_items": null,
       "left": null,
       "margin": null,
       "max_height": null,
       "max_width": null,
       "min_height": null,
       "min_width": null,
       "object_fit": null,
       "object_position": null,
       "order": null,
       "overflow": null,
       "padding": null,
       "right": null,
       "top": null,
       "visibility": null,
       "width": null
      }
     },
     "ec78acd7935f4a2286e5ee221ab3bc8e": {
      "model_module": "@jupyter-widgets/base",
      "model_module_version": "2.0.0",
      "model_name": "LayoutModel",
      "state": {
       "_model_module": "@jupyter-widgets/base",
       "_model_module_version": "2.0.0",
       "_model_name": "LayoutModel",
       "_view_count": null,
       "_view_module": "@jupyter-widgets/base",
       "_view_module_version": "2.0.0",
       "_view_name": "LayoutView",
       "align_content": null,
       "align_items": null,
       "align_self": null,
       "border_bottom": null,
       "border_left": null,
       "border_right": null,
       "border_top": null,
       "bottom": null,
       "display": null,
       "flex": null,
       "flex_flow": null,
       "grid_area": null,
       "grid_auto_columns": null,
       "grid_auto_flow": null,
       "grid_auto_rows": null,
       "grid_column": null,
       "grid_gap": null,
       "grid_row": null,
       "grid_template_areas": null,
       "grid_template_columns": null,
       "grid_template_rows": null,
       "height": null,
       "justify_content": null,
       "justify_items": null,
       "left": null,
       "margin": null,
       "max_height": null,
       "max_width": null,
       "min_height": null,
       "min_width": null,
       "object_fit": null,
       "object_position": null,
       "order": null,
       "overflow": null,
       "padding": null,
       "right": null,
       "top": null,
       "visibility": null,
       "width": null
      }
     },
     "eff960f1324b49ca91789136df3c5eb7": {
      "model_module": "@jupyter-widgets/controls",
      "model_module_version": "2.0.0",
      "model_name": "ProgressStyleModel",
      "state": {
       "_model_module": "@jupyter-widgets/controls",
       "_model_module_version": "2.0.0",
       "_model_name": "ProgressStyleModel",
       "_view_count": null,
       "_view_module": "@jupyter-widgets/base",
       "_view_module_version": "2.0.0",
       "_view_name": "StyleView",
       "bar_color": null,
       "description_width": ""
      }
     }
    },
    "version_major": 2,
    "version_minor": 0
   }
  }
 },
 "nbformat": 4,
 "nbformat_minor": 5
}
