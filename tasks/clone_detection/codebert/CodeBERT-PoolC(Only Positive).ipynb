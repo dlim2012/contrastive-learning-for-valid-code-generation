{
 "cells": [
  {
   "cell_type": "code",
   "execution_count": 1,
   "id": "2b9aa056",
   "metadata": {
    "execution": {
     "iopub.execute_input": "2023-04-04T01:33:29.211491Z",
     "iopub.status.busy": "2023-04-04T01:33:29.210930Z",
     "iopub.status.idle": "2023-04-04T01:33:32.029693Z",
     "shell.execute_reply": "2023-04-04T01:33:32.028696Z"
    }
   },
   "outputs": [
    {
     "name": "stdout",
     "output_type": "stream",
     "text": [
      "cuda\n"
     ]
    }
   ],
   "source": [
    "import argparse\n",
    "import torch\n",
    "from transformers import AutoTokenizer, AutoModel\n",
    "from datasets import load_dataset_builder, load_dataset, load_from_disk\n",
    "from torch.utils.data import Dataset, DataLoader\n",
    "import os\n",
    "import json\n",
    "from tensorboardX import SummaryWriter\n",
    "from tqdm.notebook import tqdm\n",
    "import random\n",
    "import numpy as np\n",
    "from sklearn import metrics\n",
    "import matplotlib.pyplot as plt\n",
    "from collections import defaultdict\n",
    "\n",
    "from finetune import CloneDetector\n",
    "\n",
    "device = 'cuda' if torch.cuda.is_available() else 'cpu'\n",
    "print(device)"
   ]
  },
  {
   "cell_type": "markdown",
   "id": "a2d5f476",
   "metadata": {},
   "source": [
    "# Functions"
   ]
  },
  {
   "cell_type": "code",
   "execution_count": 2,
   "id": "7d16985c",
   "metadata": {
    "execution": {
     "iopub.execute_input": "2023-04-04T01:33:32.036614Z",
     "iopub.status.busy": "2023-04-04T01:33:32.035760Z",
     "iopub.status.idle": "2023-04-04T01:33:32.052275Z",
     "shell.execute_reply": "2023-04-04T01:33:32.051517Z"
    }
   },
   "outputs": [],
   "source": [
    "def find_threshold(scores, labels, metric='f1'):\n",
    "    # metric: 'acc' or 'f1'\n",
    "\n",
    "    for label in labels:\n",
    "        assert abs(label - 1) < 1e-10 or abs(label) < 1e-10\n",
    "    assert metric in ['acc', 'f1']\n",
    "\n",
    "    arr = sorted(list(zip(scores, labels)), key=lambda x: x[0])\n",
    "\n",
    "    pre = 0.0\n",
    "    post = sum(labels)\n",
    "\n",
    "    max_eval, best_threshold = 0.0, arr[0][0]\n",
    "    for i in range(len(arr) - 1):\n",
    "        pre += arr[i][1]\n",
    "        post -= arr[i][1]\n",
    "\n",
    "        tp = post\n",
    "        fp = len(arr) - i - post\n",
    "        fn = pre\n",
    "        tn = (i-pre)\n",
    "\n",
    "        acc = (tp + tn) / len(arr)\n",
    "        precision = tp / (tp + fp)\n",
    "        recall = tp / (tp + fn)\n",
    "        f1 = 2 * precision * recall / (precision + recall)\n",
    "\n",
    "        eval = {'acc': acc, 'f1': f1}\n",
    "\n",
    "        if max_eval < eval[metric]:\n",
    "            max_eval = acc\n",
    "            best_threshold = (arr[i][0] + arr[i][1]) / 2\n",
    "    return best_threshold\n",
    "\n",
    "def accuracy(scores, labels, threshold):\n",
    "    return np.mean(((scores > threshold).astype(np.int32) == labels).astype(np.float32)).tolist()\n",
    "\n",
    "\n",
    "def f1_score(scores, labels, threshold):\n",
    "    return metrics.f1_score((scores > threshold), labels)\n",
    "    \n",
    "class AugmentedDataset(Dataset):\n",
    "    def __init__(self, inputs):\n",
    "        self.data = inputs\n",
    "\n",
    "    def __len__(self):\n",
    "        return len(self.data)\n",
    "\n",
    "    def __getitem__(self, idx):\n",
    "        return self.data[idx]\n",
    "    \n"
   ]
  },
  {
   "cell_type": "markdown",
   "id": "0475cd8e",
   "metadata": {},
   "source": [
    "# Load Model"
   ]
  },
  {
   "cell_type": "code",
   "execution_count": 3,
   "id": "8438cb26",
   "metadata": {
    "execution": {
     "iopub.execute_input": "2023-04-04T01:33:32.057145Z",
     "iopub.status.busy": "2023-04-04T01:33:32.056664Z",
     "iopub.status.idle": "2023-04-04T01:33:35.008739Z",
     "shell.execute_reply": "2023-04-04T01:33:35.008209Z"
    }
   },
   "outputs": [
    {
     "name": "stdout",
     "output_type": "stream",
     "text": [
      "CPU times: user 1.74 s, sys: 1.01 s, total: 2.75 s\n",
      "Wall time: 2.9 s\n"
     ]
    },
    {
     "data": {
      "text/plain": [
       "CloneDetector(\n",
       "  (model): RobertaModel(\n",
       "    (embeddings): RobertaEmbeddings(\n",
       "      (word_embeddings): Embedding(50265, 768, padding_idx=1)\n",
       "      (position_embeddings): Embedding(514, 768, padding_idx=1)\n",
       "      (token_type_embeddings): Embedding(1, 768)\n",
       "      (LayerNorm): LayerNorm((768,), eps=1e-05, elementwise_affine=True)\n",
       "      (dropout): Dropout(p=0.1, inplace=False)\n",
       "    )\n",
       "    (encoder): RobertaEncoder(\n",
       "      (layer): ModuleList(\n",
       "        (0): RobertaLayer(\n",
       "          (attention): RobertaAttention(\n",
       "            (self): RobertaSelfAttention(\n",
       "              (query): Linear(in_features=768, out_features=768, bias=True)\n",
       "              (key): Linear(in_features=768, out_features=768, bias=True)\n",
       "              (value): Linear(in_features=768, out_features=768, bias=True)\n",
       "              (dropout): Dropout(p=0.1, inplace=False)\n",
       "            )\n",
       "            (output): RobertaSelfOutput(\n",
       "              (dense): Linear(in_features=768, out_features=768, bias=True)\n",
       "              (LayerNorm): LayerNorm((768,), eps=1e-05, elementwise_affine=True)\n",
       "              (dropout): Dropout(p=0.1, inplace=False)\n",
       "            )\n",
       "          )\n",
       "          (intermediate): RobertaIntermediate(\n",
       "            (dense): Linear(in_features=768, out_features=3072, bias=True)\n",
       "            (intermediate_act_fn): GELUActivation()\n",
       "          )\n",
       "          (output): RobertaOutput(\n",
       "            (dense): Linear(in_features=3072, out_features=768, bias=True)\n",
       "            (LayerNorm): LayerNorm((768,), eps=1e-05, elementwise_affine=True)\n",
       "            (dropout): Dropout(p=0.1, inplace=False)\n",
       "          )\n",
       "        )\n",
       "        (1): RobertaLayer(\n",
       "          (attention): RobertaAttention(\n",
       "            (self): RobertaSelfAttention(\n",
       "              (query): Linear(in_features=768, out_features=768, bias=True)\n",
       "              (key): Linear(in_features=768, out_features=768, bias=True)\n",
       "              (value): Linear(in_features=768, out_features=768, bias=True)\n",
       "              (dropout): Dropout(p=0.1, inplace=False)\n",
       "            )\n",
       "            (output): RobertaSelfOutput(\n",
       "              (dense): Linear(in_features=768, out_features=768, bias=True)\n",
       "              (LayerNorm): LayerNorm((768,), eps=1e-05, elementwise_affine=True)\n",
       "              (dropout): Dropout(p=0.1, inplace=False)\n",
       "            )\n",
       "          )\n",
       "          (intermediate): RobertaIntermediate(\n",
       "            (dense): Linear(in_features=768, out_features=3072, bias=True)\n",
       "            (intermediate_act_fn): GELUActivation()\n",
       "          )\n",
       "          (output): RobertaOutput(\n",
       "            (dense): Linear(in_features=3072, out_features=768, bias=True)\n",
       "            (LayerNorm): LayerNorm((768,), eps=1e-05, elementwise_affine=True)\n",
       "            (dropout): Dropout(p=0.1, inplace=False)\n",
       "          )\n",
       "        )\n",
       "        (2): RobertaLayer(\n",
       "          (attention): RobertaAttention(\n",
       "            (self): RobertaSelfAttention(\n",
       "              (query): Linear(in_features=768, out_features=768, bias=True)\n",
       "              (key): Linear(in_features=768, out_features=768, bias=True)\n",
       "              (value): Linear(in_features=768, out_features=768, bias=True)\n",
       "              (dropout): Dropout(p=0.1, inplace=False)\n",
       "            )\n",
       "            (output): RobertaSelfOutput(\n",
       "              (dense): Linear(in_features=768, out_features=768, bias=True)\n",
       "              (LayerNorm): LayerNorm((768,), eps=1e-05, elementwise_affine=True)\n",
       "              (dropout): Dropout(p=0.1, inplace=False)\n",
       "            )\n",
       "          )\n",
       "          (intermediate): RobertaIntermediate(\n",
       "            (dense): Linear(in_features=768, out_features=3072, bias=True)\n",
       "            (intermediate_act_fn): GELUActivation()\n",
       "          )\n",
       "          (output): RobertaOutput(\n",
       "            (dense): Linear(in_features=3072, out_features=768, bias=True)\n",
       "            (LayerNorm): LayerNorm((768,), eps=1e-05, elementwise_affine=True)\n",
       "            (dropout): Dropout(p=0.1, inplace=False)\n",
       "          )\n",
       "        )\n",
       "        (3): RobertaLayer(\n",
       "          (attention): RobertaAttention(\n",
       "            (self): RobertaSelfAttention(\n",
       "              (query): Linear(in_features=768, out_features=768, bias=True)\n",
       "              (key): Linear(in_features=768, out_features=768, bias=True)\n",
       "              (value): Linear(in_features=768, out_features=768, bias=True)\n",
       "              (dropout): Dropout(p=0.1, inplace=False)\n",
       "            )\n",
       "            (output): RobertaSelfOutput(\n",
       "              (dense): Linear(in_features=768, out_features=768, bias=True)\n",
       "              (LayerNorm): LayerNorm((768,), eps=1e-05, elementwise_affine=True)\n",
       "              (dropout): Dropout(p=0.1, inplace=False)\n",
       "            )\n",
       "          )\n",
       "          (intermediate): RobertaIntermediate(\n",
       "            (dense): Linear(in_features=768, out_features=3072, bias=True)\n",
       "            (intermediate_act_fn): GELUActivation()\n",
       "          )\n",
       "          (output): RobertaOutput(\n",
       "            (dense): Linear(in_features=3072, out_features=768, bias=True)\n",
       "            (LayerNorm): LayerNorm((768,), eps=1e-05, elementwise_affine=True)\n",
       "            (dropout): Dropout(p=0.1, inplace=False)\n",
       "          )\n",
       "        )\n",
       "        (4): RobertaLayer(\n",
       "          (attention): RobertaAttention(\n",
       "            (self): RobertaSelfAttention(\n",
       "              (query): Linear(in_features=768, out_features=768, bias=True)\n",
       "              (key): Linear(in_features=768, out_features=768, bias=True)\n",
       "              (value): Linear(in_features=768, out_features=768, bias=True)\n",
       "              (dropout): Dropout(p=0.1, inplace=False)\n",
       "            )\n",
       "            (output): RobertaSelfOutput(\n",
       "              (dense): Linear(in_features=768, out_features=768, bias=True)\n",
       "              (LayerNorm): LayerNorm((768,), eps=1e-05, elementwise_affine=True)\n",
       "              (dropout): Dropout(p=0.1, inplace=False)\n",
       "            )\n",
       "          )\n",
       "          (intermediate): RobertaIntermediate(\n",
       "            (dense): Linear(in_features=768, out_features=3072, bias=True)\n",
       "            (intermediate_act_fn): GELUActivation()\n",
       "          )\n",
       "          (output): RobertaOutput(\n",
       "            (dense): Linear(in_features=3072, out_features=768, bias=True)\n",
       "            (LayerNorm): LayerNorm((768,), eps=1e-05, elementwise_affine=True)\n",
       "            (dropout): Dropout(p=0.1, inplace=False)\n",
       "          )\n",
       "        )\n",
       "        (5): RobertaLayer(\n",
       "          (attention): RobertaAttention(\n",
       "            (self): RobertaSelfAttention(\n",
       "              (query): Linear(in_features=768, out_features=768, bias=True)\n",
       "              (key): Linear(in_features=768, out_features=768, bias=True)\n",
       "              (value): Linear(in_features=768, out_features=768, bias=True)\n",
       "              (dropout): Dropout(p=0.1, inplace=False)\n",
       "            )\n",
       "            (output): RobertaSelfOutput(\n",
       "              (dense): Linear(in_features=768, out_features=768, bias=True)\n",
       "              (LayerNorm): LayerNorm((768,), eps=1e-05, elementwise_affine=True)\n",
       "              (dropout): Dropout(p=0.1, inplace=False)\n",
       "            )\n",
       "          )\n",
       "          (intermediate): RobertaIntermediate(\n",
       "            (dense): Linear(in_features=768, out_features=3072, bias=True)\n",
       "            (intermediate_act_fn): GELUActivation()\n",
       "          )\n",
       "          (output): RobertaOutput(\n",
       "            (dense): Linear(in_features=3072, out_features=768, bias=True)\n",
       "            (LayerNorm): LayerNorm((768,), eps=1e-05, elementwise_affine=True)\n",
       "            (dropout): Dropout(p=0.1, inplace=False)\n",
       "          )\n",
       "        )\n",
       "        (6): RobertaLayer(\n",
       "          (attention): RobertaAttention(\n",
       "            (self): RobertaSelfAttention(\n",
       "              (query): Linear(in_features=768, out_features=768, bias=True)\n",
       "              (key): Linear(in_features=768, out_features=768, bias=True)\n",
       "              (value): Linear(in_features=768, out_features=768, bias=True)\n",
       "              (dropout): Dropout(p=0.1, inplace=False)\n",
       "            )\n",
       "            (output): RobertaSelfOutput(\n",
       "              (dense): Linear(in_features=768, out_features=768, bias=True)\n",
       "              (LayerNorm): LayerNorm((768,), eps=1e-05, elementwise_affine=True)\n",
       "              (dropout): Dropout(p=0.1, inplace=False)\n",
       "            )\n",
       "          )\n",
       "          (intermediate): RobertaIntermediate(\n",
       "            (dense): Linear(in_features=768, out_features=3072, bias=True)\n",
       "            (intermediate_act_fn): GELUActivation()\n",
       "          )\n",
       "          (output): RobertaOutput(\n",
       "            (dense): Linear(in_features=3072, out_features=768, bias=True)\n",
       "            (LayerNorm): LayerNorm((768,), eps=1e-05, elementwise_affine=True)\n",
       "            (dropout): Dropout(p=0.1, inplace=False)\n",
       "          )\n",
       "        )\n",
       "        (7): RobertaLayer(\n",
       "          (attention): RobertaAttention(\n",
       "            (self): RobertaSelfAttention(\n",
       "              (query): Linear(in_features=768, out_features=768, bias=True)\n",
       "              (key): Linear(in_features=768, out_features=768, bias=True)\n",
       "              (value): Linear(in_features=768, out_features=768, bias=True)\n",
       "              (dropout): Dropout(p=0.1, inplace=False)\n",
       "            )\n",
       "            (output): RobertaSelfOutput(\n",
       "              (dense): Linear(in_features=768, out_features=768, bias=True)\n",
       "              (LayerNorm): LayerNorm((768,), eps=1e-05, elementwise_affine=True)\n",
       "              (dropout): Dropout(p=0.1, inplace=False)\n",
       "            )\n",
       "          )\n",
       "          (intermediate): RobertaIntermediate(\n",
       "            (dense): Linear(in_features=768, out_features=3072, bias=True)\n",
       "            (intermediate_act_fn): GELUActivation()\n",
       "          )\n",
       "          (output): RobertaOutput(\n",
       "            (dense): Linear(in_features=3072, out_features=768, bias=True)\n",
       "            (LayerNorm): LayerNorm((768,), eps=1e-05, elementwise_affine=True)\n",
       "            (dropout): Dropout(p=0.1, inplace=False)\n",
       "          )\n",
       "        )\n",
       "        (8): RobertaLayer(\n",
       "          (attention): RobertaAttention(\n",
       "            (self): RobertaSelfAttention(\n",
       "              (query): Linear(in_features=768, out_features=768, bias=True)\n",
       "              (key): Linear(in_features=768, out_features=768, bias=True)\n",
       "              (value): Linear(in_features=768, out_features=768, bias=True)\n",
       "              (dropout): Dropout(p=0.1, inplace=False)\n",
       "            )\n",
       "            (output): RobertaSelfOutput(\n",
       "              (dense): Linear(in_features=768, out_features=768, bias=True)\n",
       "              (LayerNorm): LayerNorm((768,), eps=1e-05, elementwise_affine=True)\n",
       "              (dropout): Dropout(p=0.1, inplace=False)\n",
       "            )\n",
       "          )\n",
       "          (intermediate): RobertaIntermediate(\n",
       "            (dense): Linear(in_features=768, out_features=3072, bias=True)\n",
       "            (intermediate_act_fn): GELUActivation()\n",
       "          )\n",
       "          (output): RobertaOutput(\n",
       "            (dense): Linear(in_features=3072, out_features=768, bias=True)\n",
       "            (LayerNorm): LayerNorm((768,), eps=1e-05, elementwise_affine=True)\n",
       "            (dropout): Dropout(p=0.1, inplace=False)\n",
       "          )\n",
       "        )\n",
       "        (9): RobertaLayer(\n",
       "          (attention): RobertaAttention(\n",
       "            (self): RobertaSelfAttention(\n",
       "              (query): Linear(in_features=768, out_features=768, bias=True)\n",
       "              (key): Linear(in_features=768, out_features=768, bias=True)\n",
       "              (value): Linear(in_features=768, out_features=768, bias=True)\n",
       "              (dropout): Dropout(p=0.1, inplace=False)\n",
       "            )\n",
       "            (output): RobertaSelfOutput(\n",
       "              (dense): Linear(in_features=768, out_features=768, bias=True)\n",
       "              (LayerNorm): LayerNorm((768,), eps=1e-05, elementwise_affine=True)\n",
       "              (dropout): Dropout(p=0.1, inplace=False)\n",
       "            )\n",
       "          )\n",
       "          (intermediate): RobertaIntermediate(\n",
       "            (dense): Linear(in_features=768, out_features=3072, bias=True)\n",
       "            (intermediate_act_fn): GELUActivation()\n",
       "          )\n",
       "          (output): RobertaOutput(\n",
       "            (dense): Linear(in_features=3072, out_features=768, bias=True)\n",
       "            (LayerNorm): LayerNorm((768,), eps=1e-05, elementwise_affine=True)\n",
       "            (dropout): Dropout(p=0.1, inplace=False)\n",
       "          )\n",
       "        )\n",
       "        (10): RobertaLayer(\n",
       "          (attention): RobertaAttention(\n",
       "            (self): RobertaSelfAttention(\n",
       "              (query): Linear(in_features=768, out_features=768, bias=True)\n",
       "              (key): Linear(in_features=768, out_features=768, bias=True)\n",
       "              (value): Linear(in_features=768, out_features=768, bias=True)\n",
       "              (dropout): Dropout(p=0.1, inplace=False)\n",
       "            )\n",
       "            (output): RobertaSelfOutput(\n",
       "              (dense): Linear(in_features=768, out_features=768, bias=True)\n",
       "              (LayerNorm): LayerNorm((768,), eps=1e-05, elementwise_affine=True)\n",
       "              (dropout): Dropout(p=0.1, inplace=False)\n",
       "            )\n",
       "          )\n",
       "          (intermediate): RobertaIntermediate(\n",
       "            (dense): Linear(in_features=768, out_features=3072, bias=True)\n",
       "            (intermediate_act_fn): GELUActivation()\n",
       "          )\n",
       "          (output): RobertaOutput(\n",
       "            (dense): Linear(in_features=3072, out_features=768, bias=True)\n",
       "            (LayerNorm): LayerNorm((768,), eps=1e-05, elementwise_affine=True)\n",
       "            (dropout): Dropout(p=0.1, inplace=False)\n",
       "          )\n",
       "        )\n",
       "        (11): RobertaLayer(\n",
       "          (attention): RobertaAttention(\n",
       "            (self): RobertaSelfAttention(\n",
       "              (query): Linear(in_features=768, out_features=768, bias=True)\n",
       "              (key): Linear(in_features=768, out_features=768, bias=True)\n",
       "              (value): Linear(in_features=768, out_features=768, bias=True)\n",
       "              (dropout): Dropout(p=0.1, inplace=False)\n",
       "            )\n",
       "            (output): RobertaSelfOutput(\n",
       "              (dense): Linear(in_features=768, out_features=768, bias=True)\n",
       "              (LayerNorm): LayerNorm((768,), eps=1e-05, elementwise_affine=True)\n",
       "              (dropout): Dropout(p=0.1, inplace=False)\n",
       "            )\n",
       "          )\n",
       "          (intermediate): RobertaIntermediate(\n",
       "            (dense): Linear(in_features=768, out_features=3072, bias=True)\n",
       "            (intermediate_act_fn): GELUActivation()\n",
       "          )\n",
       "          (output): RobertaOutput(\n",
       "            (dense): Linear(in_features=3072, out_features=768, bias=True)\n",
       "            (LayerNorm): LayerNorm((768,), eps=1e-05, elementwise_affine=True)\n",
       "            (dropout): Dropout(p=0.1, inplace=False)\n",
       "          )\n",
       "        )\n",
       "      )\n",
       "    )\n",
       "    (pooler): RobertaPooler(\n",
       "      (dense): Linear(in_features=768, out_features=768, bias=True)\n",
       "      (activation): Tanh()\n",
       "    )\n",
       "  )\n",
       "  (linear): Linear(in_features=768, out_features=768, bias=True)\n",
       "  (sigmoid): Sigmoid()\n",
       "  (bce_loss): BCELoss()\n",
       ")"
      ]
     },
     "execution_count": 3,
     "metadata": {},
     "output_type": "execute_result"
    }
   ],
   "source": [
    "%%time\n",
    "\n",
    "\n",
    "model_name = \"microsoft/codebert-base\"\n",
    "tokenizer = AutoTokenizer.from_pretrained(model_name)\n",
    "batch_size = 8\n",
    "\n",
    "def tokenize(code):\n",
    "    return tokenizer(code, return_tensors=\"pt\", truncation=True, padding=\"longest\", max_length=512)\n",
    "\n",
    "def collate_fn(items):\n",
    "    x = {}\n",
    "\n",
    "    code1, code2, labels = [], [], []\n",
    "    for item in items:\n",
    "        code1.append(item['code1'])\n",
    "        code2.append(item['code2'])\n",
    "        labels.append(item['similar'])\n",
    "\n",
    "    x['code1'] = tokenize(code1)\n",
    "    x['code2'] = tokenize(code2)\n",
    "    x['labels'] = torch.tensor(labels, dtype=torch.float32)\n",
    "\n",
    "    return x\n",
    "\n",
    "\n",
    "\n",
    "ckpt_path = '/mnt/ssd/696ds/checkpoints/0326_codebert-base_lr3.0e-07-w5000/step200000.pt'\n",
    "# model = CloneDetector(model_name, device)\n",
    "model = torch.load(ckpt_path).to(device)\n",
    "model.device = device\n",
    "model.train(False)"
   ]
  },
  {
   "cell_type": "markdown",
   "id": "0c48094e",
   "metadata": {},
   "source": [
    "# Find threshold using val data from a different fold (fold 5/5)"
   ]
  },
  {
   "cell_type": "code",
   "execution_count": 4,
   "id": "8cce09b1",
   "metadata": {
    "execution": {
     "iopub.execute_input": "2023-04-04T01:33:35.014837Z",
     "iopub.status.busy": "2023-04-04T01:33:35.014233Z",
     "iopub.status.idle": "2023-04-04T01:33:35.222078Z",
     "shell.execute_reply": "2023-04-04T01:33:35.220823Z"
    }
   },
   "outputs": [
    {
     "name": "stdout",
     "output_type": "stream",
     "text": [
      "CPU times: user 85.2 ms, sys: 117 ms, total: 202 ms\n",
      "Wall time: 201 ms\n"
     ]
    }
   ],
   "source": [
    "%%time\n",
    "batch_size = 8\n",
    "n_th = 30000\n",
    "\n",
    "dataset = load_from_disk(\"/mnt/ssd/696ds_data/PoolC/original/5-fold-clone-detection-600k-5fold\")[\"val\"]\n",
    "dataloader = DataLoader(dataset, batch_size=batch_size, shuffle=True, collate_fn=collate_fn)"
   ]
  },
  {
   "cell_type": "code",
   "execution_count": 5,
   "id": "213e7159",
   "metadata": {
    "execution": {
     "iopub.execute_input": "2023-04-04T01:33:35.231799Z",
     "iopub.status.busy": "2023-04-04T01:33:35.231574Z",
     "iopub.status.idle": "2023-04-04T01:39:22.078082Z",
     "shell.execute_reply": "2023-04-04T01:39:22.077531Z"
    },
    "scrolled": true
   },
   "outputs": [
    {
     "data": {
      "application/vnd.jupyter.widget-view+json": {
       "model_id": "80b82287440341d28fa759b0cadbfd85",
       "version_major": 2,
       "version_minor": 0
      },
      "text/plain": [
       "  0%|          | 0/3750 [00:00<?, ?it/s]"
      ]
     },
     "metadata": {},
     "output_type": "display_data"
    },
    {
     "name": "stdout",
     "output_type": "stream",
     "text": [
      "0.8008918762207031\n",
      "CPU times: user 7min 12s, sys: 26.5 s, total: 7min 38s\n",
      "Wall time: 5min 46s\n"
     ]
    }
   ],
   "source": [
    "%%time\n",
    "scores_list, labels_list = [], []\n",
    "pbar = tqdm(dataloader, total=(n_th+batch_size-1) // batch_size)\n",
    "for i, batch in enumerate(pbar):\n",
    "        \n",
    "    if batch_size * i >= n_th:\n",
    "        break\n",
    "    \n",
    "    labels = batch['labels']\n",
    "    \n",
    "    scores = model(batch).to('cpu')\n",
    "    \n",
    "    scores, labels = scores.tolist(), labels.tolist()\n",
    "    \n",
    "    scores_list += scores if type(scores) == list else [scores]\n",
    "    labels_list += labels if type(labels) == list else [labels]\n",
    "    \n",
    "scores, labels = np.array(scores_list), np.array(labels_list)\n",
    "threshold = find_threshold(scores, labels)\n",
    "acc, f1 = accuracy(scores, labels, threshold), f1_score(scores, labels, threshold)\n",
    "print(threshold)"
   ]
  },
  {
   "cell_type": "code",
   "execution_count": 6,
   "id": "2aae74cc",
   "metadata": {
    "execution": {
     "iopub.execute_input": "2023-04-04T01:39:22.082330Z",
     "iopub.status.busy": "2023-04-04T01:39:22.081774Z",
     "iopub.status.idle": "2023-04-04T01:39:22.085927Z",
     "shell.execute_reply": "2023-04-04T01:39:22.085107Z"
    }
   },
   "outputs": [],
   "source": [
    "# threshold = 0.8414617776870728"
   ]
  },
  {
   "cell_type": "markdown",
   "id": "405b9ce9",
   "metadata": {},
   "source": [
    "# Read Augmented Dataset"
   ]
  },
  {
   "cell_type": "code",
   "execution_count": 7,
   "id": "f4508bb0",
   "metadata": {
    "execution": {
     "iopub.execute_input": "2023-04-04T01:39:22.090562Z",
     "iopub.status.busy": "2023-04-04T01:39:22.090131Z",
     "iopub.status.idle": "2023-04-04T01:39:27.100656Z",
     "shell.execute_reply": "2023-04-04T01:39:27.100065Z"
    }
   },
   "outputs": [
    {
     "name": "stdout",
     "output_type": "stream",
     "text": [
      "[\"augmented_['0.5'].json\", \"augmented_['0.1', '0.2', '0.3', '0.4', '0.5', '0.6', '0.7', '0.8', '0.9', '1.0'].json\"]\n",
      "<class 'dict'>\n"
     ]
    }
   ],
   "source": [
    "save_dir = \"/mnt/ssd/696ds_data/PoolC/train/032923/\"\n",
    "print(os.listdir(save_dir))\n",
    "save_path = os.path.join(save_dir, \"augmented_['0.1', '0.2', '0.3', '0.4', '0.5', '0.6', '0.7', '0.8', '0.9', '1.0'].json\")\n",
    "\n",
    "p2index = {f'0.{i+1}': i for i in range(9)}\n",
    "p2index['1.0'] = 9\n",
    "# p2index = {\"0.5\": 0}\n",
    "\n",
    "with open(save_path, 'r') as f:\n",
    "    json_data = json.load(f)\n",
    "    print(type(json_data))\n",
    "    \n",
    "data = json_data['data']"
   ]
  },
  {
   "cell_type": "code",
   "execution_count": 8,
   "id": "1de2ad09",
   "metadata": {
    "execution": {
     "iopub.execute_input": "2023-04-04T01:39:27.104568Z",
     "iopub.status.busy": "2023-04-04T01:39:27.104394Z",
     "iopub.status.idle": "2023-04-04T01:39:27.108278Z",
     "shell.execute_reply": "2023-04-04T01:39:27.107779Z"
    }
   },
   "outputs": [
    {
     "name": "stdout",
     "output_type": "stream",
     "text": [
      "{'code1': 'n, m, l = map(int, input().split())\\na = [list(map(int, input().split())) for _ in range(n)]\\nb = [list(map(int, input().split())) for _ in range(m)]\\nc = [[0 for i in range(l)] for j in range(n)]\\n\\nfor i in range(n):\\n    for j in range(l):\\n        for k in range(m):\\n            c[i][j] += a[i][k] * b[k][j]\\nfor i in range(n):\\n    print(\" \".join(map(str, c[i])))\\n\\n', 'code2': \"def main():\\n\\n    N, D = map(int, input().split())\\n    ans = 0\\n    for _ in range(N):\\n        x, y = map(int, input().split())\\n        if x*x + y* y <= D*D:\\n            ans += 1\\n    return ans\\n\\nif __name__ == '__main__':\\n    print(main())\\n\", 'similar': 0, 'pair_id': None, 'question_pair_id': 3686761737148.0, 'code1_group': 60, 'code2_group': 96}\n"
     ]
    }
   ],
   "source": [
    "print(json_data['data'][0]['original'])"
   ]
  },
  {
   "cell_type": "markdown",
   "id": "60a8966d",
   "metadata": {},
   "source": [
    "# Evaluate on the PoolC dataset (positive only)"
   ]
  },
  {
   "cell_type": "code",
   "execution_count": 9,
   "id": "969f09e0",
   "metadata": {
    "execution": {
     "iopub.execute_input": "2023-04-04T01:39:27.112467Z",
     "iopub.status.busy": "2023-04-04T01:39:27.112166Z",
     "iopub.status.idle": "2023-04-04T01:39:27.130992Z",
     "shell.execute_reply": "2023-04-04T01:39:27.130150Z"
    }
   },
   "outputs": [],
   "source": [
    "def func(datapoints):\n",
    "        \n",
    "    dataset = AugmentedDataset(datapoints)\n",
    "    dataloader = DataLoader(dataset, batch_size=batch_size, shuffle=False, collate_fn=collate_fn)\n",
    "    scores_list = []\n",
    "    labels_list = []\n",
    "    for j, batch in enumerate(dataloader):\n",
    "\n",
    "        labels = batch['labels']\n",
    "        scores = model(batch).to('cpu')\n",
    "\n",
    "        labels, scores = labels.tolist(), scores.tolist()\n",
    "        labels_list += labels if type(labels) == list else [labels]\n",
    "        scores_list += scores if type(scores) == list else [scores]\n",
    "\n",
    "\n",
    "    scores = np.array(scores_list)\n",
    "    labels = np.array(labels_list)\n",
    "    return np.array(scores_list), np.array(labels_list)\n",
    "\n",
    "def original_scores(n):\n",
    "    dataset1 = []\n",
    "    for i in range(len(data)):\n",
    "        if len(dataset1) == n:\n",
    "            break\n",
    "        if data[i]['original']['similar'] == 0:\n",
    "            continue\n",
    "        dataset1.append(\n",
    "            {\n",
    "                'code1': data[i]['original']['code1'],\n",
    "                'code2': data[i]['original']['code2'],\n",
    "                'similar': data[i]['original']['similar']\n",
    "            }\n",
    "        )\n",
    "\n",
    "    scores1, labels1 = func(dataset1)\n",
    "    acc1 = accuracy(scores1, labels1, threshold)\n",
    "    f1_1 = f1_score(scores1, labels1, threshold)\n",
    "    \n",
    "    \n",
    "    results = {\n",
    "        'Accuracy': acc1,\n",
    "        'F1': f1_1,\n",
    "        'Mean': np.mean(scores1),\n",
    "        'Standard Deviation': np.std(scores1),\n",
    "        'Same Prediction': 1.0,\n",
    "        'Mean Absolute Difference': 0.0,\n",
    "        'Root Mean Squared Difference': 0.0\n",
    "        \n",
    "    }\n",
    "    \n",
    "    return scores1, results\n",
    "    \n",
    "\n",
    "def augmented_scores(p, n, scores1):\n",
    "    index = p2index[p]\n",
    "    dataset2 = []\n",
    "    for i in range(len(data)):\n",
    "\n",
    "        if len(dataset2) == n:\n",
    "            break\n",
    "\n",
    "        if data[i]['original']['similar'] == 0:\n",
    "            continue\n",
    "            \n",
    "        dataset2.append(\n",
    "            {\n",
    "                'code1': data[i]['augmented'][p2index[p]]['code1'],\n",
    "                'code2': data[i]['original']['code2'],\n",
    "                'similar': data[i]['original']['similar']\n",
    "            }\n",
    "        )\n",
    "            \n",
    "    scores, labels = func(dataset2)\n",
    "\n",
    "    acc = accuracy(scores, labels, threshold)\n",
    "    f1 = f1_score(scores, labels, threshold)\n",
    "\n",
    "    \n",
    "    results = {\n",
    "        'Accuracy': acc,\n",
    "        'F1': f1,\n",
    "        'Mean': np.mean(scores),\n",
    "        'Standard Deviation': np.std(scores),\n",
    "        'Same Prediction': np.mean((scores1 > threshold) == (scores > threshold)),\n",
    "        'Mean Absolute Difference': np.mean(np.abs(scores1-scores)),\n",
    "        'Root Mean Squared Difference': np.sqrt(np.mean((scores1 - scores) ** 2))\n",
    "        \n",
    "    }\n",
    "    \n",
    "    \n",
    "    print('p:', p)\n",
    "    for key, value in results.items():\n",
    "        print(f\"{key:<30}: {value:>3.3f}\")\n",
    "    print()\n",
    "    return results"
   ]
  },
  {
   "cell_type": "code",
   "execution_count": 10,
   "id": "ca20dfc9",
   "metadata": {
    "execution": {
     "iopub.execute_input": "2023-04-04T01:39:27.135056Z",
     "iopub.status.busy": "2023-04-04T01:39:27.134671Z",
     "iopub.status.idle": "2023-04-04T02:10:49.750850Z",
     "shell.execute_reply": "2023-04-04T02:10:49.750258Z"
    }
   },
   "outputs": [
    {
     "name": "stdout",
     "output_type": "stream",
     "text": [
      "p: 0.1\n",
      "Accuracy                      : 0.967\n",
      "F1                            : 0.983\n",
      "Mean                          : 3.299\n",
      "Standard Deviation            : 1.204\n",
      "Same Prediction               : 0.997\n",
      "Mean Absolute Difference      : 0.058\n",
      "Root Mean Squared Difference  : 0.145\n",
      "\n",
      "p: 0.2\n",
      "Accuracy                      : 0.967\n",
      "F1                            : 0.983\n",
      "Mean                          : 3.285\n",
      "Standard Deviation            : 1.204\n",
      "Same Prediction               : 0.996\n",
      "Mean Absolute Difference      : 0.096\n",
      "Root Mean Squared Difference  : 0.205\n",
      "\n",
      "p: 0.3\n",
      "Accuracy                      : 0.965\n",
      "F1                            : 0.982\n",
      "Mean                          : 3.262\n",
      "Standard Deviation            : 1.210\n",
      "Same Prediction               : 0.991\n",
      "Mean Absolute Difference      : 0.134\n",
      "Root Mean Squared Difference  : 0.282\n",
      "\n",
      "p: 0.4\n",
      "Accuracy                      : 0.963\n",
      "F1                            : 0.981\n",
      "Mean                          : 3.237\n",
      "Standard Deviation            : 1.221\n",
      "Same Prediction               : 0.988\n",
      "Mean Absolute Difference      : 0.172\n",
      "Root Mean Squared Difference  : 0.353\n",
      "\n",
      "p: 0.5\n",
      "Accuracy                      : 0.960\n",
      "F1                            : 0.980\n",
      "Mean                          : 3.211\n",
      "Standard Deviation            : 1.232\n",
      "Same Prediction               : 0.985\n",
      "Mean Absolute Difference      : 0.207\n",
      "Root Mean Squared Difference  : 0.424\n",
      "\n",
      "p: 0.6\n",
      "Accuracy                      : 0.957\n",
      "F1                            : 0.978\n",
      "Mean                          : 3.189\n",
      "Standard Deviation            : 1.244\n",
      "Same Prediction               : 0.981\n",
      "Mean Absolute Difference      : 0.240\n",
      "Root Mean Squared Difference  : 0.481\n",
      "\n",
      "p: 0.7\n",
      "Accuracy                      : 0.953\n",
      "F1                            : 0.976\n",
      "Mean                          : 3.156\n",
      "Standard Deviation            : 1.265\n",
      "Same Prediction               : 0.974\n",
      "Mean Absolute Difference      : 0.284\n",
      "Root Mean Squared Difference  : 0.560\n",
      "\n",
      "p: 0.8\n",
      "Accuracy                      : 0.949\n",
      "F1                            : 0.974\n",
      "Mean                          : 3.129\n",
      "Standard Deviation            : 1.280\n",
      "Same Prediction               : 0.968\n",
      "Mean Absolute Difference      : 0.320\n",
      "Root Mean Squared Difference  : 0.621\n",
      "\n",
      "p: 0.9\n",
      "Accuracy                      : 0.943\n",
      "F1                            : 0.971\n",
      "Mean                          : 3.098\n",
      "Standard Deviation            : 1.302\n",
      "Same Prediction               : 0.963\n",
      "Mean Absolute Difference      : 0.357\n",
      "Root Mean Squared Difference  : 0.688\n",
      "\n",
      "p: 1.0\n",
      "Accuracy                      : 0.935\n",
      "F1                            : 0.966\n",
      "Mean                          : 3.065\n",
      "Standard Deviation            : 1.326\n",
      "Same Prediction               : 0.955\n",
      "Mean Absolute Difference      : 0.397\n",
      "Root Mean Squared Difference  : 0.754\n",
      "\n",
      "CPU times: user 39min 6s, sys: 2min 17s, total: 41min 23s\n",
      "Wall time: 31min 22s\n"
     ]
    }
   ],
   "source": [
    "%%time\n",
    "n_pc = 30000\n",
    "results = {}\n",
    "\n",
    "scores1, results1 = original_scores(n_pc)\n",
    "results['0.0'] = results1\n",
    "\n",
    "targets = sorted(list(p2index.keys()), key=lambda x:float(x))\n",
    "# targets = ['0.2', '0.5', '0.7', '1.0']\n",
    "for p in targets:\n",
    "    results[p] = augmented_scores(p, n_pc, scores1)"
   ]
  },
  {
   "cell_type": "code",
   "execution_count": 11,
   "id": "09232b66",
   "metadata": {
    "execution": {
     "iopub.execute_input": "2023-04-04T02:10:49.755091Z",
     "iopub.status.busy": "2023-04-04T02:10:49.754909Z",
     "iopub.status.idle": "2023-04-04T02:10:49.758615Z",
     "shell.execute_reply": "2023-04-04T02:10:49.757816Z"
    }
   },
   "outputs": [],
   "source": [
    "\n",
    "targets = [\"0.0\"] + targets\n",
    "x = [float(target) for target in targets]"
   ]
  },
  {
   "cell_type": "code",
   "execution_count": 12,
   "id": "c6194710",
   "metadata": {
    "execution": {
     "iopub.execute_input": "2023-04-04T02:10:49.762707Z",
     "iopub.status.busy": "2023-04-04T02:10:49.762441Z",
     "iopub.status.idle": "2023-04-04T02:10:49.875231Z",
     "shell.execute_reply": "2023-04-04T02:10:49.873905Z"
    },
    "scrolled": false
   },
   "outputs": [
    {
     "data": {
      "image/png": "[encoded data removed]",
      "text/plain": [
       "<Figure size 432x288 with 1 Axes>"
      ]
     },
     "metadata": {
      "needs_background": "light"
     },
     "output_type": "display_data"
    }
   ],
   "source": [
    "\n",
    "\n",
    "plt.plot(x, [results[p]['Accuracy'] for p in targets], label='Accuracy')\n",
    "plt.plot(x, [results[p]['F1'] for p in targets], label='F1')\n",
    "plt.xlabel('temperature')\n",
    "plt.xlim((0.0, 1.0))\n",
    "plt.legend()\n",
    "plt.show()"
   ]
  },
  {
   "cell_type": "code",
   "execution_count": 13,
   "id": "9ba7a92b",
   "metadata": {
    "execution": {
     "iopub.execute_input": "2023-04-04T02:10:49.878617Z",
     "iopub.status.busy": "2023-04-04T02:10:49.878013Z",
     "iopub.status.idle": "2023-04-04T02:10:49.883162Z",
     "shell.execute_reply": "2023-04-04T02:10:49.882040Z"
    }
   },
   "outputs": [],
   "source": [
    "# precison, only positive"
   ]
  },
  {
   "cell_type": "code",
   "execution_count": 14,
   "id": "4c18d2d5",
   "metadata": {
    "execution": {
     "iopub.execute_input": "2023-04-04T02:10:49.886698Z",
     "iopub.status.busy": "2023-04-04T02:10:49.885807Z",
     "iopub.status.idle": "2023-04-04T02:10:49.984545Z",
     "shell.execute_reply": "2023-04-04T02:10:49.983883Z"
    }
   },
   "outputs": [
    {
     "data": {
      "image/png": "[encoded data removed]",
      "text/plain": [
       "<Figure size 432x288 with 1 Axes>"
      ]
     },
     "metadata": {
      "needs_background": "light"
     },
     "output_type": "display_data"
    }
   ],
   "source": [
    "plt.plot(x, [results[p]['Same Prediction'] for p in targets], label='Same Prediction')\n",
    "plt.xlabel('temperature')\n",
    "plt.xlim((0.0, 1.0))\n",
    "plt.legend()\n",
    "plt.show()"
   ]
  },
  {
   "cell_type": "code",
   "execution_count": 15,
   "id": "d11c4325",
   "metadata": {
    "execution": {
     "iopub.execute_input": "2023-04-04T02:10:49.989154Z",
     "iopub.status.busy": "2023-04-04T02:10:49.988695Z",
     "iopub.status.idle": "2023-04-04T02:10:50.085847Z",
     "shell.execute_reply": "2023-04-04T02:10:50.085072Z"
    }
   },
   "outputs": [
    {
     "data": {
      "image/png": "[encoded data removed]",
      "text/plain": [
       "<Figure size 432x288 with 1 Axes>"
      ]
     },
     "metadata": {
      "needs_background": "light"
     },
     "output_type": "display_data"
    }
   ],
   "source": [
    "\n",
    "plt.plot(x, [results[p]['Mean'] for p in targets], label='Mean')\n",
    "plt.plot(x, [results[p]['Standard Deviation'] for p in targets], label='Standard Deviation')\n",
    "plt.xlabel('temperature')\n",
    "plt.xlim((0.0, 1.0))\n",
    "plt.legend()\n",
    "plt.show()\n"
   ]
  },
  {
   "cell_type": "code",
   "execution_count": 16,
   "id": "9fdf3fd4",
   "metadata": {
    "execution": {
     "iopub.execute_input": "2023-04-04T02:10:50.090322Z",
     "iopub.status.busy": "2023-04-04T02:10:50.089897Z",
     "iopub.status.idle": "2023-04-04T02:10:50.186159Z",
     "shell.execute_reply": "2023-04-04T02:10:50.185647Z"
    }
   },
   "outputs": [
    {
     "data": {
      "image/png": "[encoded data removed]",
      "text/plain": [
       "<Figure size 432x288 with 1 Axes>"
      ]
     },
     "metadata": {
      "needs_background": "light"
     },
     "output_type": "display_data"
    }
   ],
   "source": [
    "\n",
    "plt.plot(x, [results[p]['Mean Absolute Difference'] for p in targets], label='Mean Absolute Difference')\n",
    "plt.plot(x, [results[p]['Root Mean Squared Difference'] for p in targets], label='Root Mean Squared Difference')\n",
    "plt.xlabel('temperature')\n",
    "plt.xlim((0.0, 1.0))\n",
    "plt.legend()\n",
    "plt.show()"
   ]
  }
 ],
 "metadata": {
  "kernelspec": {
   "display_name": "Python(rl)",
   "language": "python",
   "name": "rl"
  },
  "language_info": {
   "codemirror_mode": {
    "name": "ipython",
    "version": 3
   },
   "file_extension": ".py",
   "mimetype": "text/x-python",
   "name": "python",
   "nbconvert_exporter": "python",
   "pygments_lexer": "ipython3",
   "version": "3.8.12"
  },
  "varInspector": {
   "cols": {
    "lenName": 16,
    "lenType": 16,
    "lenVar": 40
   },
   "kernels_config": {
    "python": {
     "delete_cmd_postfix": "",
     "delete_cmd_prefix": "del ",
     "library": "var_list.py",
     "varRefreshCmd": "print(var_dic_list())"
    },
    "r": {
     "delete_cmd_postfix": ") ",
     "delete_cmd_prefix": "rm(",
     "library": "var_list.r",
     "varRefreshCmd": "cat(var_dic_list()) "
    }
   },
   "types_to_exclude": [
    "module",
    "function",
    "builtin_function_or_method",
    "instance",
    "_Feature"
   ],
   "window_display": false
  },
  "widgets": {
   "application/vnd.jupyter.widget-state+json": {
    "state": {
     "144b9fab5eee4b3e8add69f74be8f2d7": {
      "model_module": "@jupyter-widgets/controls",
      "model_module_version": "2.0.0",
      "model_name": "ProgressStyleModel",
      "state": {
       "_model_module": "@jupyter-widgets/controls",
       "_model_module_version": "2.0.0",
       "_model_name": "ProgressStyleModel",
       "_view_count": null,
       "_view_module": "@jupyter-widgets/base",
       "_view_module_version": "2.0.0",
       "_view_name": "StyleView",
       "bar_color": null,
       "description_width": ""
      }
     },
     "1822524bbac943ea9b33b88a289111d7": {
      "model_module": "@jupyter-widgets/base",
      "model_module_version": "2.0.0",
      "model_name": "LayoutModel",
      "state": {
       "_model_module": "@jupyter-widgets/base",
       "_model_module_version": "2.0.0",
       "_model_name": "LayoutModel",
       "_view_count": null,
       "_view_module": "@jupyter-widgets/base",
       "_view_module_version": "2.0.0",
       "_view_name": "LayoutView",
       "align_content": null,
       "align_items": null,
       "align_self": null,
       "border_bottom": null,
       "border_left": null,
       "border_right": null,
       "border_top": null,
       "bottom": null,
       "display": null,
       "flex": null,
       "flex_flow": null,
       "grid_area": null,
       "grid_auto_columns": null,
       "grid_auto_flow": null,
       "grid_auto_rows": null,
       "grid_column": null,
       "grid_gap": null,
       "grid_row": null,
       "grid_template_areas": null,
       "grid_template_columns": null,
       "grid_template_rows": null,
       "height": null,
       "justify_content": null,
       "justify_items": null,
       "left": null,
       "margin": null,
       "max_height": null,
       "max_width": null,
       "min_height": null,
       "min_width": null,
       "object_fit": null,
       "object_position": null,
       "order": null,
       "overflow": null,
       "padding": null,
       "right": null,
       "top": null,
       "visibility": null,
       "width": null
      }
     },
     "199d48e6ea894b46a7333f9579dc8342": {
      "model_module": "@jupyter-widgets/controls",
      "model_module_version": "2.0.0",
      "model_name": "FloatProgressModel",
      "state": {
       "_dom_classes": [],
       "_model_module": "@jupyter-widgets/controls",
       "_model_module_version": "2.0.0",
       "_model_name": "FloatProgressModel",
       "_view_count": null,
       "_view_module": "@jupyter-widgets/controls",
       "_view_module_version": "2.0.0",
       "_view_name": "ProgressView",
       "bar_style": "danger",
       "description": "",
       "description_allow_html": false,
       "layout": "IPY_MODEL_ab65ca0abb384be29c4837d4ea4b9d23",
       "max": 3750.0,
       "min": 0.0,
       "orientation": "horizontal",
       "style": "IPY_MODEL_144b9fab5eee4b3e8add69f74be8f2d7",
       "tabbable": null,
       "tooltip": null,
       "value": 3750.0
      }
     },
     "35497a49e71e4b5e832fa2cffe246f04": {
      "model_module": "@jupyter-widgets/base",
      "model_module_version": "2.0.0",
      "model_name": "LayoutModel",
      "state": {
       "_model_module": "@jupyter-widgets/base",
       "_model_module_version": "2.0.0",
       "_model_name": "LayoutModel",
       "_view_count": null,
       "_view_module": "@jupyter-widgets/base",
       "_view_module_version": "2.0.0",
       "_view_name": "LayoutView",
       "align_content": null,
       "align_items": null,
       "align_self": null,
       "border_bottom": null,
       "border_left": null,
       "border_right": null,
       "border_top": null,
       "bottom": null,
       "display": null,
       "flex": null,
       "flex_flow": null,
       "grid_area": null,
       "grid_auto_columns": null,
       "grid_auto_flow": null,
       "grid_auto_rows": null,
       "grid_column": null,
       "grid_gap": null,
       "grid_row": null,
       "grid_template_areas": null,
       "grid_template_columns": null,
       "grid_template_rows": null,
       "height": null,
       "justify_content": null,
       "justify_items": null,
       "left": null,
       "margin": null,
       "max_height": null,
       "max_width": null,
       "min_height": null,
       "min_width": null,
       "object_fit": null,
       "object_position": null,
       "order": null,
       "overflow": null,
       "padding": null,
       "right": null,
       "top": null,
       "visibility": null,
       "width": null
      }
     },
     "568aab8d90f748d6b0adf3dabb76fa0a": {
      "model_module": "@jupyter-widgets/controls",
      "model_module_version": "2.0.0",
      "model_name": "HTMLStyleModel",
      "state": {
       "_model_module": "@jupyter-widgets/controls",
       "_model_module_version": "2.0.0",
       "_model_name": "HTMLStyleModel",
       "_view_count": null,
       "_view_module": "@jupyter-widgets/base",
       "_view_module_version": "2.0.0",
       "_view_name": "StyleView",
       "background": null,
       "description_width": "",
       "font_size": null,
       "text_color": null
      }
     },
     "80b82287440341d28fa759b0cadbfd85": {
      "model_module": "@jupyter-widgets/controls",
      "model_module_version": "2.0.0",
      "model_name": "HBoxModel",
      "state": {
       "_dom_classes": [],
       "_model_module": "@jupyter-widgets/controls",
       "_model_module_version": "2.0.0",
       "_model_name": "HBoxModel",
       "_view_count": null,
       "_view_module": "@jupyter-widgets/controls",
       "_view_module_version": "2.0.0",
       "_view_name": "HBoxView",
       "box_style": "",
       "children": [
        "IPY_MODEL_ed024de4265d4261aef6027985eba731",
        "IPY_MODEL_199d48e6ea894b46a7333f9579dc8342",
        "IPY_MODEL_d749446d11af42c7a93593ea3b3d1051"
       ],
       "layout": "IPY_MODEL_1822524bbac943ea9b33b88a289111d7",
       "tabbable": null,
       "tooltip": null
      }
     },
     "96c1a25af1de4c55ba10f6e453215d11": {
      "model_module": "@jupyter-widgets/base",
      "model_module_version": "2.0.0",
      "model_name": "LayoutModel",
      "state": {
       "_model_module": "@jupyter-widgets/base",
       "_model_module_version": "2.0.0",
       "_model_name": "LayoutModel",
       "_view_count": null,
       "_view_module": "@jupyter-widgets/base",
       "_view_module_version": "2.0.0",
       "_view_name": "LayoutView",
       "align_content": null,
       "align_items": null,
       "align_self": null,
       "border_bottom": null,
       "border_left": null,
       "border_right": null,
       "border_top": null,
       "bottom": null,
       "display": null,
       "flex": null,
       "flex_flow": null,
       "grid_area": null,
       "grid_auto_columns": null,
       "grid_auto_flow": null,
       "grid_auto_rows": null,
       "grid_column": null,
       "grid_gap": null,
       "grid_row": null,
       "grid_template_areas": null,
       "grid_template_columns": null,
       "grid_template_rows": null,
       "height": null,
       "justify_content": null,
       "justify_items": null,
       "left": null,
       "margin": null,
       "max_height": null,
       "max_width": null,
       "min_height": null,
       "min_width": null,
       "object_fit": null,
       "object_position": null,
       "order": null,
       "overflow": null,
       "padding": null,
       "right": null,
       "top": null,
       "visibility": null,
       "width": null
      }
     },
     "ab65ca0abb384be29c4837d4ea4b9d23": {
      "model_module": "@jupyter-widgets/base",
      "model_module_version": "2.0.0",
      "model_name": "LayoutModel",
      "state": {
       "_model_module": "@jupyter-widgets/base",
       "_model_module_version": "2.0.0",
       "_model_name": "LayoutModel",
       "_view_count": null,
       "_view_module": "@jupyter-widgets/base",
       "_view_module_version": "2.0.0",
       "_view_name": "LayoutView",
       "align_content": null,
       "align_items": null,
       "align_self": null,
       "border_bottom": null,
       "border_left": null,
       "border_right": null,
       "border_top": null,
       "bottom": null,
       "display": null,
       "flex": null,
       "flex_flow": null,
       "grid_area": null,
       "grid_auto_columns": null,
       "grid_auto_flow": null,
       "grid_auto_rows": null,
       "grid_column": null,
       "grid_gap": null,
       "grid_row": null,
       "grid_template_areas": null,
       "grid_template_columns": null,
       "grid_template_rows": null,
       "height": null,
       "justify_content": null,
       "justify_items": null,
       "left": null,
       "margin": null,
       "max_height": null,
       "max_width": null,
       "min_height": null,
       "min_width": null,
       "object_fit": null,
       "object_position": null,
       "order": null,
       "overflow": null,
       "padding": null,
       "right": null,
       "top": null,
       "visibility": null,
       "width": null
      }
     },
     "d749446d11af42c7a93593ea3b3d1051": {
      "model_module": "@jupyter-widgets/controls",
      "model_module_version": "2.0.0",
      "model_name": "HTMLModel",
      "state": {
       "_dom_classes": [],
       "_model_module": "@jupyter-widgets/controls",
       "_model_module_version": "2.0.0",
       "_model_name": "HTMLModel",
       "_view_count": null,
       "_view_module": "@jupyter-widgets/controls",
       "_view_module_version": "2.0.0",
       "_view_name": "HTMLView",
       "description": "",
       "description_allow_html": false,
       "layout": "IPY_MODEL_35497a49e71e4b5e832fa2cffe246f04",
       "placeholder": "​",
       "style": "IPY_MODEL_568aab8d90f748d6b0adf3dabb76fa0a",
       "tabbable": null,
       "tooltip": null,
       "value": " 3750/3750 [05:46&lt;00:00,  9.90it/s]"
      }
     },
     "eb57accfc21c49909cb654bd20e34707": {
      "model_module": "@jupyter-widgets/controls",
      "model_module_version": "2.0.0",
      "model_name": "HTMLStyleModel",
      "state": {
       "_model_module": "@jupyter-widgets/controls",
       "_model_module_version": "2.0.0",
       "_model_name": "HTMLStyleModel",
       "_view_count": null,
       "_view_module": "@jupyter-widgets/base",
       "_view_module_version": "2.0.0",
       "_view_name": "StyleView",
       "background": null,
       "description_width": "",
       "font_size": null,
       "text_color": null
      }
     },
     "ed024de4265d4261aef6027985eba731": {
      "model_module": "@jupyter-widgets/controls",
      "model_module_version": "2.0.0",
      "model_name": "HTMLModel",
      "state": {
       "_dom_classes": [],
       "_model_module": "@jupyter-widgets/controls",
       "_model_module_version": "2.0.0",
       "_model_name": "HTMLModel",
       "_view_count": null,
       "_view_module": "@jupyter-widgets/controls",
       "_view_module_version": "2.0.0",
       "_view_name": "HTMLView",
       "description": "",
       "description_allow_html": false,
       "layout": "IPY_MODEL_96c1a25af1de4c55ba10f6e453215d11",
       "placeholder": "​",
       "style": "IPY_MODEL_eb57accfc21c49909cb654bd20e34707",
       "tabbable": null,
       "tooltip": null,
       "value": "100%"
      }
     }
    },
    "version_major": 2,
    "version_minor": 0
   }
  }
 },
 "nbformat": 4,
 "nbformat_minor": 5
}
